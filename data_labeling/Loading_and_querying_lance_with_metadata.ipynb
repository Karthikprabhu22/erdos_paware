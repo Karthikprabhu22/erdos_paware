{
 "cells": [
  {
   "cell_type": "code",
   "execution_count": 32,
   "id": "5376755d-2f49-4dba-ac1d-5042fe104ee4",
   "metadata": {},
   "outputs": [],
   "source": [
    "import os\n",
    "import lancedb\n",
    "import polars as pl\n",
    "\n",
    "#print(filenames,len(filenames))"
   ]
  },
  {
   "cell_type": "code",
   "execution_count": 34,
   "id": "1e0bd521-901d-4fae-8937-bb61cbd0f63c",
   "metadata": {},
   "outputs": [
    {
     "name": "stdout",
     "output_type": "stream",
     "text": [
      "['vectorized_config_02_data_pt0.parquet', 'vectorized_config_02_data_pt9.parquet', 'vectorized_config_02_data_pt8.parquet', 'vectorized_config_02_data_pt1.parquet', 'vectorized_config_02_data_pt3.parquet', 'vectorized_config_02_data_pt2.parquet', 'vectorized_config_02_data_pt7.parquet', 'vectorized_config_02_data_pt10.parquet', 'vectorized_config_02_data_pt6.parquet', 'vectorized_config_02_data_pt4.parquet', 'vectorized_config_02_data_pt5.parquet'] 11\n"
     ]
    }
   ],
   "source": [
    "#from ipywidgets import interact, interactive, fixed, interact_manual, controls\n",
    "import ipywidgets\n",
    "from sentence_transformers import SentenceTransformer, util, InputExample, losses\n",
    "from langchain_text_splitters import RecursiveCharacterTextSplitter\n",
    "model = SentenceTransformer(\"thenlper/gte-base\")\n",
    "\n",
    "filenames = os.listdir(\"../config_02\")   #Not sure why .DS_Store shows up in some folders, if not then comment out the .remove line\n",
    "#print(filenames)\n",
    "#filenames.remove('.DS_Store')\n",
    "print(filenames,len(filenames))"
   ]
  },
  {
   "cell_type": "code",
   "execution_count": 35,
   "id": "03ba851b-6058-4b57-8879-35afc3020fd9",
   "metadata": {},
   "outputs": [],
   "source": [
    "## Initialize a database\n",
    "db = lancedb.connect(\"../config_02/Config_02_subreddit_metadata_lancedb\")"
   ]
  },
  {
   "cell_type": "code",
   "execution_count": 37,
   "id": "6c8c07cf-7dc1-49f4-886c-978333cafa66",
   "metadata": {},
   "outputs": [
    {
     "name": "stdout",
     "output_type": "stream",
     "text": [
      "added vectorized_config_02_data_pt1.parquet to database\n",
      "added vectorized_config_02_data_pt2.parquet to database\n",
      "added vectorized_config_02_data_pt3.parquet to database\n",
      "added vectorized_config_02_data_pt4.parquet to database\n",
      "added vectorized_config_02_data_pt5.parquet to database\n",
      "added vectorized_config_02_data_pt6.parquet to database\n",
      "added vectorized_config_02_data_pt7.parquet to database\n",
      "added vectorized_config_02_data_pt8.parquet to database\n",
      "added vectorized_config_02_data_pt9.parquet to database\n",
      "added vectorized_config_02_data_pt10.parquet to database\n",
      "CPU times: user 1min 13s, sys: 15.4 s, total: 1min 28s\n",
      "Wall time: 1min 45s\n"
     ]
    }
   ],
   "source": [
    "%%time\n",
    "\n",
    "## Load the first data file\n",
    "data = pl.read_parquet(\"../config_02/vectorized_config_02_data_pt0.parquet\")\n",
    "## Create a table in the database based on the first file, ignore warning if the table already exists. Use mode=\"overwrite\" if you want scorched earth\n",
    "table = db.create_table(\"Config_02_subreddit_metadata_table\", data=data,exist_ok=True)\n",
    "    \n",
    "## Load the remaining data into the table, one file at a time, there are 11 of them in total\n",
    "\n",
    "for i in range(1,len(filenames)):\n",
    "    data = pl.read_parquet(\"../config_02/vectorized_config_02_data_pt%s.parquet\"%str(i))\n",
    "    table.add(data)\n",
    "    print(f\"added vectorized_config_02_data_pt{i}.parquet to database\")"
   ]
  },
  {
   "cell_type": "code",
   "execution_count": null,
   "id": "de5adab4-984b-49e7-a560-7fadb9527ac7",
   "metadata": {},
   "outputs": [],
   "source": []
  },
  {
   "cell_type": "markdown",
   "id": "5c75caac-1373-4812-bccf-40e6ec53348c",
   "metadata": {},
   "source": [
    "### Build ANN Index"
   ]
  },
  {
   "cell_type": "code",
   "execution_count": 38,
   "id": "8b201d3c-c2d9-4ef7-85c0-e3d7ba3f5736",
   "metadata": {},
   "outputs": [
    {
     "name": "stderr",
     "output_type": "stream",
     "text": [
      " 52%|██████████████████████▎                    | 26/50 [00:47<00:44,  1.84s/it]\n"
     ]
    },
    {
     "data": {
      "application/vnd.jupyter.widget-view+json": {
       "model_id": "5f35dc039cef41c084911554763d3daf",
       "version_major": 2,
       "version_minor": 0
      },
      "text/plain": [
       "0it [00:00, ?it/s]"
      ]
     },
     "metadata": {},
     "output_type": "display_data"
    },
    {
     "name": "stdout",
     "output_type": "stream",
     "text": [
      "CPU times: user 21min 17s, sys: 1min 53s, total: 23min 11s\n",
      "Wall time: 4min 46s\n"
     ]
    }
   ],
   "source": [
    "%%time\n",
    "## Build the ANN Index\n",
    "## https://lancedb.github.io/lancedb/ann_indexes/#creating-an-ivf_pq-index\n",
    "table.create_index(num_partitions=1024,num_sub_vectors=96,accelerator=\"mps\") ## to use Apple Metal\n",
    "## It is safe to ignore the UserWarning:..."
   ]
  },
  {
   "cell_type": "code",
   "execution_count": 76,
   "id": "42650750-8dda-408f-99bf-135eb1ce74d7",
   "metadata": {},
   "outputs": [],
   "source": [
    "import time\n",
    "\n",
    "def make_query(query_text, num_results=20, probes=20, refine_factor=10):\n",
    "    \n",
    "    start_time = time.time()\n",
    "    ## Embed query\n",
    "    query = model.encode(query_text)\n",
    "\n",
    "    ## Perform search\n",
    "    result = table.search(query).limit(num_results).nprobes(20).refine_factor(10).to_polars()\n",
    "    end_time = time.time()\n",
    "    print(result.shape)\n",
    "    result.head()\n",
    "    result_query_pair = result.with_columns(pl.lit(query_text).alias(\"query_text\"))\n",
    "    print(f\"Time elapsed this query: {(end_time - start_time):.4f} seconds\")\n",
    "    return result_query_pair"
   ]
  },
  {
   "cell_type": "code",
   "execution_count": 77,
   "id": "cf427051-7edf-4b02-a1fe-b1b4b3d8ed9e",
   "metadata": {},
   "outputs": [
    {
     "name": "stdout",
     "output_type": "stream",
     "text": [
      "(20, 17)\n",
      "Time elapsed this query: 0.5679 seconds\n"
     ]
    },
    {
     "data": {
      "text/plain": [
       "(20, 18)"
      ]
     },
     "execution_count": 77,
     "metadata": {},
     "output_type": "execute_result"
    }
   ],
   "source": [
    "data_file = 'Queries.txt'\n",
    "query_file = open(data_file, 'r')\n",
    "queries = query_file.readlines()\n",
    "query_file.close()\n",
    "\n",
    "# query file is loaded, start asking questions one by one\n",
    "pl.Config.set_fmt_str_lengths(3000)\n",
    "\n",
    "# Ask our first query\n",
    "Replies = make_query(queries[0].strip('\\n').strip(' '))\n",
    "Replies.shape\n",
    "#print(Replies)\n",
    "    "
   ]
  },
  {
   "cell_type": "code",
   "execution_count": 78,
   "id": "c1bd278c-f057-437f-88cb-e80ce7840b1c",
   "metadata": {},
   "outputs": [
    {
     "name": "stdout",
     "output_type": "stream",
     "text": [
      "(20, 17)\n",
      "Time elapsed this query: 0.0917 seconds\n",
      "(20, 17)\n",
      "Time elapsed this query: 0.0470 seconds\n",
      "(20, 17)\n",
      "Time elapsed this query: 0.0567 seconds\n",
      "(20, 17)\n",
      "Time elapsed this query: 0.0524 seconds\n",
      "(20, 17)\n",
      "Time elapsed this query: 0.0556 seconds\n",
      "(20, 17)\n",
      "Time elapsed this query: 0.0483 seconds\n",
      "(20, 17)\n",
      "Time elapsed this query: 0.0528 seconds\n",
      "(20, 17)\n",
      "Time elapsed this query: 0.0531 seconds\n",
      "(20, 17)\n",
      "Time elapsed this query: 0.0469 seconds\n",
      "(20, 17)\n",
      "Time elapsed this query: 0.0572 seconds\n",
      "(20, 17)\n",
      "Time elapsed this query: 0.0556 seconds\n",
      "(20, 17)\n",
      "Time elapsed this query: 0.0562 seconds\n",
      "(20, 17)\n",
      "Time elapsed this query: 0.0536 seconds\n",
      "(20, 17)\n",
      "Time elapsed this query: 0.0537 seconds\n",
      "(20, 17)\n",
      "Time elapsed this query: 0.0582 seconds\n",
      "(20, 17)\n",
      "Time elapsed this query: 0.0511 seconds\n",
      "(20, 17)\n",
      "Time elapsed this query: 0.0501 seconds\n",
      "(20, 17)\n",
      "Time elapsed this query: 0.0455 seconds\n",
      "(20, 17)\n",
      "Time elapsed this query: 0.0472 seconds\n",
      "(20, 17)\n",
      "Time elapsed this query: 0.0483 seconds\n",
      "(20, 17)\n",
      "Time elapsed this query: 0.0541 seconds\n",
      "(20, 17)\n",
      "Time elapsed this query: 0.0586 seconds\n",
      "(20, 17)\n",
      "Time elapsed this query: 0.0507 seconds\n",
      "(20, 17)\n",
      "Time elapsed this query: 0.0560 seconds\n",
      "(20, 17)\n",
      "Time elapsed this query: 0.0529 seconds\n"
     ]
    }
   ],
   "source": [
    "# Let's ask the remaining queries\n",
    "\n",
    "for i in range(1,len(queries)):\n",
    "    replies = make_query(queries[i].strip('\\n').strip(' '))\n",
    "    \n",
    "    Replies.extend(replies)"
   ]
  },
  {
   "cell_type": "code",
   "execution_count": 80,
   "id": "d45558fa-0d96-4996-8564-b32f8e5b9e74",
   "metadata": {},
   "outputs": [
    {
     "name": "stdout",
     "output_type": "stream",
     "text": [
      "(520, 23)\n"
     ]
    }
   ],
   "source": [
    "# Adding scoring columns for humans\n",
    "\n",
    "raw_results = Replies.with_columns([pl.lit(None).alias(\"mo_label\"),pl.lit(None).alias(\"kk_label\"),pl.lit(None).alias(\"kp_label\")\n",
    "                      ,pl.lit(None).alias(\"dr_label\"),pl.lit(None).alias(\"sr_label\")])\n",
    "print(raw_results.shape)\n",
    "raw_results.head\n",
    "\n",
    "#save to parquet file\n",
    "raw_results.write_parquet('../config_02/query_results_config_02.parquet')"
   ]
  },
  {
   "cell_type": "code",
   "execution_count": null,
   "id": "913562b2-5db2-4a0a-b929-dfef66939711",
   "metadata": {},
   "outputs": [],
   "source": []
  }
 ],
 "metadata": {
  "kernelspec": {
   "display_name": "Python 3 (ipykernel)",
   "language": "python",
   "name": "python3"
  },
  "language_info": {
   "codemirror_mode": {
    "name": "ipython",
    "version": 3
   },
   "file_extension": ".py",
   "mimetype": "text/x-python",
   "name": "python",
   "nbconvert_exporter": "python",
   "pygments_lexer": "ipython3",
   "version": "3.11.7"
  }
 },
 "nbformat": 4,
 "nbformat_minor": 5
}
