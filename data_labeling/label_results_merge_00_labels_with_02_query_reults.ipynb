{
 "cells": [
  {
   "cell_type": "code",
   "execution_count": 1,
   "metadata": {},
   "outputs": [],
   "source": [
    "## Add this directory to the path and load our functions\n",
    "import sys\n",
    "sys.path.append(\"../src/\")\n",
    "\n",
    "from evaluating_results import process_labels\n",
    "\n",
    "import os\n",
    "import polars as pl\n",
    "\n",
    "## Load the labels and votes for the 00 config\n",
    "labeled_00_df = process_labels.get_merged_labels_and_votes(config=\"00\")\n",
    "labeled_00_df = process_labels.get_majority_vote(labeled_00_df)"
   ]
  },
  {
   "cell_type": "code",
   "execution_count": 2,
   "metadata": {},
   "outputs": [],
   "source": [
    "## Load the query results from the 02 config\n",
    "query_results_02_df = pl.read_parquet(\n",
    "    \"../data_labeling/raw_results/query_results_config_02_full.parquet\")\n",
    "\n",
    "## Join the 02 config query results with the labeled results from the 00 config\n",
    "joined_results = query_results_02_df.join(\n",
    "    labeled_00_df, on=[\"reddit_name\", \"query_text\"], how=\"left\")\n",
    "\n",
    "## Only keep the results that have yet to be labeled\n",
    "joined_results = joined_results.filter(\n",
    "    joined_results[\"relevance_rating\"].is_null())\n",
    "\n",
    "## Only keep the columns that are needed so that they match the columns\n",
    "## expected in the labeling script\n",
    "columns_to_keep = query_results_02_df.columns\n",
    "unlabled_02_df = joined_results[columns_to_keep].clone()\n",
    "\n",
    "## Save the results\n",
    "unlabled_02_df.write_parquet(\"../data_labeling/raw_results/query_results_config_02.parquet\")"
   ]
  }
 ],
 "metadata": {
  "kernelspec": {
   "display_name": "Python 3 (ipykernel)",
   "language": "python",
   "name": "python3"
  },
  "language_info": {
   "codemirror_mode": {
    "name": "ipython",
    "version": 3
   },
   "file_extension": ".py",
   "mimetype": "text/x-python",
   "name": "python",
   "nbconvert_exporter": "python",
   "pygments_lexer": "ipython3",
   "version": "3.11.8"
  }
 },
 "nbformat": 4,
 "nbformat_minor": 4
}
