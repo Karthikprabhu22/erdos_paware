{
 "cells": [
  {
   "cell_type": "code",
   "execution_count": 5,
   "metadata": {},
   "outputs": [],
   "source": [
    "## Add this directory to the path and load our functions\n",
    "import sys\n",
    "sys.path.append(\"../src/\")\n",
    "from evaluating_results import process_labels\n",
    "\n",
    "import polars as pl\n",
    "\n",
    "## Load the labels and votes for the 00 config\n",
    "labeled_00_df = process_labels.get_merged_labels_and_votes(config=\"00\")\n",
    "labeled_00_df = process_labels.get_majority_vote(labeled_00_df)\n",
    "\n",
    "## Load a the raw query results for the 00 config\n",
    "raw_query_00 = pl.read_parquet(\n",
    "    \"../data_labeling/raw_results/query_results_config_00.parquet\")\n"
   ]
  },
  {
   "cell_type": "code",
   "execution_count": 6,
   "metadata": {},
   "outputs": [
    {
     "name": "stdout",
     "output_type": "stream",
     "text": [
      "shape: (26, 3)\n",
      "┌────────────────────────────────────────────────────────────────────────────────────────────┬──────────────┬──────────────────────────────────────────────┐\n",
      "│ query_text                                                                                 ┆ num_relevant ┆ relevant_names                               │\n",
      "│ ---                                                                                        ┆ ---          ┆ ---                                          │\n",
      "│ str                                                                                        ┆ u32          ┆ list[str]                                    │\n",
      "╞════════════════════════════════════════════════════════════════════════════════════════════╪══════════════╪══════════════════════════════════════════════╡\n",
      "│ What is the worst drink to make for Starbucks baristas?                                    ┆ 11           ┆ [\"t1_ju4gp30\", \"t1_jwgv0qq\", … \"t3_1afrjfo\"] │\n",
      "│ Do GameStop employees feel valued by the company?                                          ┆ 11           ┆ [\"t1_j8gyf9z\", \"t1_jf228yl\", … \"t3_158ohf6\"] │\n",
      "│ What kind of benefits does GM offer?                                                       ┆ 10           ┆ [\"t1_iy6w6d1\", \"t1_iy6y33n\", … \"t1_kp4iwl6\"] │\n",
      "│ Do CVS employees feel safe at work?                                                        ┆ 10           ┆ [\"t1_jl1l741\", \"t1_jqa8l3k\", … \"t3_1aqa2i6\"] │\n",
      "│ Is it better to work at fedex express or fedex ground?                                     ┆ 12           ┆ [\"t1_jb2acpe\", \"t1_jih7wx1\", … \"t3_1865agq\"] │\n",
      "│ How do FedEx employees feel about route cuts?                                              ┆ 11           ┆ [\"t1_jb8p1cd\", \"t1_jdf6kxg\", … \"t1_ksbl7fo\"] │\n",
      "│ What are some reasons that bank employees quit their jobs?                                 ┆ 6            ┆ [\"t1_gcuvncd\", \"t1_gdxgrdi\", … \"t1_j2z6aul\"] │\n",
      "│ How long is a typical UPS shift? OR Should I work a double shift at UPS?                   ┆ 12           ┆ [\"t1_js5xhd6\", \"t1_jsq4ty6\", … \"t1_kqyk4jn\"] │\n",
      "│ What do CVS workers do if they notice theft?                                               ┆ 14           ┆ [\"t1_jmzix1u\", \"t1_jo1wkjz\", … \"t1_kj1e79x\"] │\n",
      "│ Does Starbucks pay overtime?                                                               ┆ 6            ┆ [\"t1_jjcl7la\", \"t1_jkceted\", … \"t3_12h0wl5\"] │\n",
      "│ Do Chase employees see opportunities for promotion and professional growth at the company? ┆ 2            ┆ [\"t1_ic0pxsf\", \"t1_kbjyy1a\"]                 │\n",
      "│ What job perks for Whole Foods employees value most?                                       ┆ 5            ┆ [\"t1_j462ejg\", \"t1_jzbob8c\", … \"t1_kjuhgq9\"] │\n",
      "│ When should you apply for a promotion at GM?                                               ┆ 10           ┆ [\"t1_j04fpzi\", \"t1_j0kvoqy\", … \"t3_19953w1\"] │\n",
      "│ What is your favorite thing about working for Starbucks?                                   ┆ 14           ┆ [\"t1_jjtrcwc\", \"t1_js4e998\", … \"t3_17f11lw\"] │\n",
      "│ What benefits do Chase employees value most?                                               ┆ 2            ┆ [\"t1_jgyskhj\", \"t1_kedqf7v\"]                 │\n",
      "│ How do UPS employees feel about route cuts?                                                ┆ 9            ┆ [\"t1_jci7lm4\", \"t1_jhk80pe\", … \"t1_kr6huj7\"] │\n",
      "│ What causes bank employees the most stress at work?                                        ┆ 9            ┆ [\"t1_g1yepeo\", \"t1_hi0xpjg\", … \"t3_s8nzsl\"]  │\n",
      "│ What does a typical day look like when working for GameStop?                               ┆ 4            ┆ [\"t1_jft1xb5\", \"t1_k28jur4\", … \"t1_k9w2vns\"] │\n",
      "│ How do Whole Foods workers feel about store managers?                                      ┆ 11           ┆ [\"t1_jh2zw0o\", \"t1_jji97oy\", … \"t1_koe3od4\"] │\n",
      "│ Does your schedule get changed often at Lowes?                                             ┆ 14           ┆ [\"t1_jksem7p\", \"t1_jl0poh8\", … \"t3_16of0ya\"] │\n",
      "│ How often do you get a raise at Lowes?                                                     ┆ 12           ┆ [\"t1_jfarg6y\", \"t1_jfbfvyq\", … \"t3_1670u42\"] │\n",
      "│ How much does a driver make with UPS?                                                      ┆ 13           ┆ [\"t1_j9hd8d6\", \"t1_jgmx38e\", … \"t1_kqj6kvx\"] │\n",
      "│ What do Kraken employees find frustrating in their day to day work?                        ┆ 0            ┆ []                                           │\n",
      "│ Do Kraken employees see themselves staying at the company for the long term?               ┆ 1            ┆ [\"t1_kc6dye1\"]                               │\n",
      "│ Do Fidelity employees want to work remotely?                                               ┆ 1            ┆ [\"t3_18s5uu3\"]                               │\n",
      "│ How do General Motors employees feel about RTO?                                            ┆ 19           ┆ [\"t1_j4yctf4\", \"t1_j6ozx9b\", … \"t3_1ai43io\"] │\n",
      "└────────────────────────────────────────────────────────────────────────────────────────────┴──────────────┴──────────────────────────────────────────────┘\n"
     ]
    }
   ],
   "source": [
    "## Group the labeled dataframe by query_text\n",
    "grouped = labeled_00_df.group_by(\"query_text\")\n",
    "\n",
    "## Add a counts of relevant results, lists of relevant results\n",
    "relevant_results = grouped.agg(\n",
    "    num_relevant = pl.col(\"relevance_rating\")\\\n",
    "            .filter(pl.col(\"relevance_rating\")==1).len(),\n",
    "    relevant_names = pl.col(\"reddit_name\")\\\n",
    "            .filter(pl.col(\"relevance_rating\")==1)).clone()\n",
    "\n",
    "## Print the results\n",
    "with pl.Config(tbl_rows=26, tbl_width_chars=180, fmt_str_lengths=180):\n",
    "    print(relevant_results)"
   ]
  },
  {
   "cell_type": "code",
   "execution_count": 9,
   "metadata": {},
   "outputs": [],
   "source": [
    "## Compute the scores for each query\n",
    "query_scores = {}\n",
    "\n",
    "## Loop over the queries that we have labeled results for\n",
    "for i in range(relevant_results.shape[0]):\n",
    "    ## Get the query text and number of relevant results for that query\n",
    "    test_query = relevant_results[i][\"query_text\"][0]\n",
    "    test_num = relevant_results[i][\"num_relevant\"][0]\n",
    "\n",
    "    ## Get the raw results for that query, sorted by distance\n",
    "    test_results = raw_query_00\\\n",
    "            .filter(pl.col(\"query_text\") == test_query)\\\n",
    "            .sort(by=\"_distance\")\n",
    "    \n",
    "    ## Compute the Modified ExtRR score for the query\n",
    "    query_score = 0\n",
    "    for j in range(test_results.shape[0]):\n",
    "        if test_results[\"reddit_name\"][j] in relevant_results[i][\"relevant_names\"][0]:\n",
    "            if j < test_num:\n",
    "                query_score += 1\n",
    "            else:\n",
    "                query_score += 1/(j-test_num+1)\n",
    "    if test_num > 0:\n",
    "        query_scores[test_query] = query_score/test_num\n",
    "    else:\n",
    "        query_scores[test_query] = 0\n",
    "\n",
    "## Create a dataframe of the scores\n",
    "score_00_df = pl.DataFrame({\"query\":query_scores.keys(), \"score\":query_scores.values()})"
   ]
  },
  {
   "cell_type": "code",
   "execution_count": 13,
   "metadata": {},
   "outputs": [
    {
     "name": "stdout",
     "output_type": "stream",
     "text": [
      "shape: (26, 2)\n",
      "┌────────────────────────────────────────────────────────────────────────────────────────────┬──────────┐\n",
      "│ query                                                                                      ┆ score    │\n",
      "│ ---                                                                                        ┆ ---      │\n",
      "│ str                                                                                        ┆ f64      │\n",
      "╞════════════════════════════════════════════════════════════════════════════════════════════╪══════════╡\n",
      "│ How do General Motors employees feel about RTO?                                            ┆ 1.0      │\n",
      "│ Does your schedule get changed often at Lowes?                                             ┆ 0.89881  │\n",
      "│ Does Starbucks pay overtime?                                                               ┆ 0.866667 │\n",
      "│ How much does a driver make with UPS?                                                      ┆ 0.866117 │\n",
      "│ What do CVS workers do if they notice theft?                                               ┆ 0.853571 │\n",
      "│ What is your favorite thing about working for Starbucks?                                   ┆ 0.8      │\n",
      "│ What kind of benefits does GM offer?                                                       ┆ 0.765833 │\n",
      "│ Do CVS employees feel safe at work?                                                        ┆ 0.7625   │\n",
      "│ How do UPS employees feel about route cuts?                                                ┆ 0.743827 │\n",
      "│ How do Whole Foods workers feel about store managers?                                      ┆ 0.732684 │\n",
      "│ What is the worst drink to make for Starbucks baristas?                                    ┆ 0.731061 │\n",
      "│ How long is a typical UPS shift? OR Should I work a double shift at UPS?                   ┆ 0.72371  │\n",
      "│ How do FedEx employees feel about route cuts?                                              ┆ 0.722727 │\n",
      "│ How often do you get a raise at Lowes?                                                     ┆ 0.719544 │\n",
      "│ What causes bank employees the most stress at work?                                        ┆ 0.714947 │\n",
      "│ Is it better to work at fedex express or fedex ground?                                     ┆ 0.695238 │\n",
      "│ What are some reasons that bank employees quit their jobs?                                 ┆ 0.65404  │\n",
      "│ When should you apply for a promotion at GM?                                               ┆ 0.625952 │\n",
      "│ What does a typical day look like when working for GameStop?                               ┆ 0.532292 │\n",
      "│ What job perks for Whole Foods employees value most?                                       ┆ 0.512222 │\n",
      "│ Do GameStop employees feel valued by the company?                                          ┆ 0.511724 │\n",
      "│ Do Fidelity employees want to work remotely?                                               ┆ 0.25     │\n",
      "│ What benefits do Chase employees value most?                                               ┆ 0.208333 │\n",
      "│ Do Kraken employees see themselves staying at the company for the long term?               ┆ 0.1      │\n",
      "│ Do Chase employees see opportunities for promotion and professional growth at the company? ┆ 0.094017 │\n",
      "│ What do Kraken employees find frustrating in their day to day work?                        ┆ 0.0      │\n",
      "└────────────────────────────────────────────────────────────────────────────────────────────┴──────────┘\n",
      "Average score for config 00: 0.6186853012253655\n"
     ]
    }
   ],
   "source": [
    "with pl.Config(tbl_rows=26, tbl_width_chars=180, fmt_str_lengths=180):\n",
    "    print(score_00_df.sort(\"score\", descending=True))\n",
    "\n",
    "print(\"Average score for config 00:\", score_00_df[\"score\"].mean())"
   ]
  }
 ],
 "metadata": {
  "kernelspec": {
   "display_name": "Python 3 (ipykernel)",
   "language": "python",
   "name": "python3"
  },
  "language_info": {
   "codemirror_mode": {
    "name": "ipython",
    "version": 3
   },
   "file_extension": ".py",
   "mimetype": "text/x-python",
   "name": "python",
   "nbconvert_exporter": "python",
   "pygments_lexer": "ipython3",
   "version": "3.11.8"
  }
 },
 "nbformat": 4,
 "nbformat_minor": 4
}
