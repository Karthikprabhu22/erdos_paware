{
 "cells": [
  {
   "cell_type": "code",
   "execution_count": 1,
   "id": "632b8dd5-16e6-42da-8dcd-d4fcb3da1863",
   "metadata": {},
   "outputs": [],
   "source": [
    "## Add our modlules to the system path\n",
    "import sys\n",
    "sys.path.append(\"../src/\")\n",
    "\n",
    "## Import our modules for preprocessing, chunking, and vectorizing\n",
    "from data_processing import preprocess, chunk, vectorize"
   ]
  },
  {
   "cell_type": "code",
   "execution_count": 2,
   "id": "112cd497-c5e8-4edb-9085-7321111e1bbc",
   "metadata": {},
   "outputs": [
    {
     "name": "stdout",
     "output_type": "stream",
     "text": [
      "CPU times: user 30 ms, sys: 10.5 ms, total: 40.5 ms\n",
      "Wall time: 29.1 ms\n"
     ]
    }
   ],
   "source": [
    "%%time\n",
    "import polars as pl\n",
    "## Import the raw data\n",
    "DATA_RAW = pl.read_parquet(\"../temp_data/raw_data_subset_gm.parquet\")[0:1000]"
   ]
  },
  {
   "cell_type": "code",
   "execution_count": 3,
   "id": "a75d3e55-162c-4fc7-96fe-98c3f165c0df",
   "metadata": {},
   "outputs": [
    {
     "name": "stdout",
     "output_type": "stream",
     "text": [
      "Dropping 3 rows with reddit_text=='[deleted]'\n",
      "Dropping 2 rows with reddit_text=='[removed]'\n",
      "Dropping 1 rows with reddit_text containing:'This has been removed for breaking the sub rule of'\n",
      "Dropping 5 rows with reddit_text==''\n",
      "CPU times: user 2.57 ms, sys: 8.06 ms, total: 10.6 ms\n",
      "Wall time: 2.19 ms\n"
     ]
    }
   ],
   "source": [
    "%%time\n",
    "## Apply preprocssing\n",
    "data_preprocessed = preprocess.preprocess_data(DATA_RAW=DATA_RAW)"
   ]
  },
  {
   "cell_type": "code",
   "execution_count": 4,
   "id": "fb1483da-2ecb-43b2-8e58-f5ac09bcf6e5",
   "metadata": {},
   "outputs": [
    {
     "name": "stdout",
     "output_type": "stream",
     "text": [
      "CPU times: user 14.1 ms, sys: 4.56 ms, total: 18.7 ms\n",
      "Wall time: 15.5 ms\n"
     ]
    }
   ],
   "source": [
    "%%time\n",
    "## Apply chunking\n",
    "data_chunked = chunk.chunk_preprocessed_data(\n",
    "    data_preprocessed=data_preprocessed, \n",
    "    chunk_size=512, \n",
    "    chunk_overlap_pct=.2)"
   ]
  },
  {
   "cell_type": "code",
   "execution_count": 5,
   "id": "0bdd672a-00fc-47e0-82ba-7fb88089ec61",
   "metadata": {},
   "outputs": [
    {
     "name": "stdout",
     "output_type": "stream",
     "text": [
      "Model's maximum sequence length : 512\n",
      "Max sequence length observed after tokenizing chunked text: 136\n"
     ]
    },
    {
     "data": {
      "image/png": "[encoded data removed]",
      "text/plain": [
       "<Figure size 640x480 with 1 Axes>"
      ]
     },
     "metadata": {},
     "output_type": "display_data"
    },
    {
     "name": "stdout",
     "output_type": "stream",
     "text": [
      "CPU times: user 1.97 s, sys: 2.92 s, total: 4.89 s\n",
      "Wall time: 1.24 s\n"
     ]
    }
   ],
   "source": [
    "%%time\n",
    "## Verify that chunk lengths will be within model limits after tokenization\n",
    "vectorize.check_token_lengths(data_chunked=data_chunked,\n",
    "                              model=\"thenlper/gte-base\")"
   ]
  },
  {
   "cell_type": "code",
   "execution_count": 6,
   "id": "6e218b1f-d0c2-4d8c-92ea-59fd2a51ae3c",
   "metadata": {},
   "outputs": [
    {
     "name": "stdout",
     "output_type": "stream",
     "text": [
      "CPU times: user 3.83 s, sys: 2.26 s, total: 6.1 s\n",
      "Wall time: 4.47 s\n"
     ]
    }
   ],
   "source": [
    "%%time\n",
    "from langchain_community.embeddings import HuggingFaceEmbeddings\n",
    "model = HuggingFaceEmbeddings(model_name=\"thenlper/gte-base\")\n",
    "\n",
    "## Vectorize the chunked data\n",
    "data_vectorized = vectorize.vectorize_chunked_data(data_chunked=data_chunked,\n",
    "                                                   embeddings=model)"
   ]
  },
  {
   "cell_type": "code",
   "execution_count": 7,
   "id": "7290f54d-4389-478b-ae1e-8f31e4bfaaa1",
   "metadata": {},
   "outputs": [
    {
     "data": {
      "text/html": [
       "<div><style>\n",
       ".dataframe > thead > tr,\n",
       ".dataframe > tbody > tr {\n",
       "  text-align: right;\n",
       "  white-space: pre-wrap;\n",
       "}\n",
       "</style>\n",
       "<small>shape: (3, 16)</small><table border=\"1\" class=\"dataframe\"><thead><tr><th>aware_post_type</th><th>aware_created_ts</th><th>reddit_id</th><th>reddit_name</th><th>reddit_created_utc</th><th>reddit_author</th><th>reddit_text</th><th>reddit_permalink</th><th>reddit_title</th><th>reddit_url</th><th>reddit_subreddit</th><th>reddit_link_id</th><th>reddit_parent_id</th><th>reddit_submission</th><th>text_chunk</th><th>vector</th></tr><tr><td>str</td><td>str</td><td>str</td><td>str</td><td>i64</td><td>str</td><td>str</td><td>str</td><td>str</td><td>str</td><td>str</td><td>str</td><td>str</td><td>str</td><td>str</td><td>list[f64]</td></tr></thead><tbody><tr><td>&quot;submission&quot;</td><td>&quot;2024-01-05T10:…</td><td>&quot;18z96ud&quot;</td><td>&quot;t3_18z96ud&quot;</td><td>1704467742</td><td>&quot;Jmill2000&quot;</td><td>&quot;So I know GM m…</td><td>&quot;/r/GeneralMoto…</td><td>&quot;References&quot;</td><td>&quot;https://www.re…</td><td>&quot;GeneralMotors&quot;</td><td>null</td><td>null</td><td>null</td><td>&quot;So I know GM m…</td><td>[0.011797, 0.035773, … 0.036507]</td></tr><tr><td>&quot;submission&quot;</td><td>&quot;2024-01-05T10:…</td><td>&quot;18z96ud&quot;</td><td>&quot;t3_18z96ud&quot;</td><td>1704467742</td><td>&quot;Jmill2000&quot;</td><td>&quot;So I know GM m…</td><td>&quot;/r/GeneralMoto…</td><td>&quot;References&quot;</td><td>&quot;https://www.re…</td><td>&quot;GeneralMotors&quot;</td><td>null</td><td>null</td><td>null</td><td>&quot;I think that’s…</td><td>[0.001009, 0.011987, … 0.012729]</td></tr><tr><td>&quot;comment&quot;</td><td>&quot;2024-01-05T10:…</td><td>&quot;kgfznkx&quot;</td><td>&quot;t1_kgfznkx&quot;</td><td>1704468972</td><td>&quot;warwolf0&quot;</td><td>&quot;Yea, that’s a …</td><td>&quot;/r/GeneralMoto…</td><td>null</td><td>null</td><td>&quot;GeneralMotors&quot;</td><td>&quot;t3_18z96ud&quot;</td><td>&quot;t3_18z96ud&quot;</td><td>&quot;18z96ud&quot;</td><td>&quot;Yea, that’s a …</td><td>[0.043242, 0.019973, … -0.006569]</td></tr></tbody></table></div>"
      ],
      "text/plain": [
       "shape: (3, 16)\n",
       "┌───────────┬───────────┬───────────┬───────────┬───┬───────────┬───────────┬───────────┬──────────┐\n",
       "│ aware_pos ┆ aware_cre ┆ reddit_id ┆ reddit_na ┆ … ┆ reddit_pa ┆ reddit_su ┆ text_chun ┆ vector   │\n",
       "│ t_type    ┆ ated_ts   ┆ ---       ┆ me        ┆   ┆ rent_id   ┆ bmission  ┆ k         ┆ ---      │\n",
       "│ ---       ┆ ---       ┆ str       ┆ ---       ┆   ┆ ---       ┆ ---       ┆ ---       ┆ list[f64 │\n",
       "│ str       ┆ str       ┆           ┆ str       ┆   ┆ str       ┆ str       ┆ str       ┆ ]        │\n",
       "╞═══════════╪═══════════╪═══════════╪═══════════╪═══╪═══════════╪═══════════╪═══════════╪══════════╡\n",
       "│ submissio ┆ 2024-01-0 ┆ 18z96ud   ┆ t3_18z96u ┆ … ┆ null      ┆ null      ┆ So I know ┆ [0.01179 │\n",
       "│ n         ┆ 5T10:15:4 ┆           ┆ d         ┆   ┆           ┆           ┆ GM makes  ┆ 7, 0.035 │\n",
       "│           ┆ 2         ┆           ┆           ┆   ┆           ┆           ┆ a big     ┆ 773, …   │\n",
       "│           ┆           ┆           ┆           ┆   ┆           ┆           ┆ deal ab…  ┆ 0.036507 │\n",
       "│           ┆           ┆           ┆           ┆   ┆           ┆           ┆           ┆ ]        │\n",
       "│ submissio ┆ 2024-01-0 ┆ 18z96ud   ┆ t3_18z96u ┆ … ┆ null      ┆ null      ┆ I think   ┆ [0.00100 │\n",
       "│ n         ┆ 5T10:15:4 ┆           ┆ d         ┆   ┆           ┆           ┆ that’s    ┆ 9, 0.011 │\n",
       "│           ┆ 2         ┆           ┆           ┆   ┆           ┆           ┆ all GM    ┆ 987, …   │\n",
       "│           ┆           ┆           ┆           ┆   ┆           ┆           ┆ can       ┆ 0.012729 │\n",
       "│           ┆           ┆           ┆           ┆   ┆           ┆           ┆ provid…   ┆ ]        │\n",
       "│ comment   ┆ 2024-01-0 ┆ kgfznkx   ┆ t1_kgfznk ┆ … ┆ t3_18z96u ┆ 18z96ud   ┆ Yea,      ┆ [0.04324 │\n",
       "│           ┆ 5T10:36:1 ┆           ┆ x         ┆   ┆ d         ┆           ┆ that’s a  ┆ 2, 0.019 │\n",
       "│           ┆ 2         ┆           ┆           ┆   ┆           ┆           ┆ load of   ┆ 973, …   │\n",
       "│           ┆           ┆           ┆           ┆   ┆           ┆           ┆ shit by   ┆ -0.00656 │\n",
       "│           ┆           ┆           ┆           ┆   ┆           ┆           ┆ SL…       ┆ 9…       │\n",
       "└───────────┴───────────┴───────────┴───────────┴───┴───────────┴───────────┴───────────┴──────────┘"
      ]
     },
     "execution_count": 7,
     "metadata": {},
     "output_type": "execute_result"
    }
   ],
   "source": [
    "## Peek at the results\n",
    "data_vectorized.head(3)"
   ]
  },
  {
   "cell_type": "code",
   "execution_count": null,
   "id": "7dc1b5bf-d997-494b-b7ed-4fc5ae252c2c",
   "metadata": {},
   "outputs": [],
   "source": []
  }
 ],
 "metadata": {
  "kernelspec": {
   "display_name": "Python [conda env:aware] *",
   "language": "python",
   "name": "conda-env-aware-py"
  },
  "language_info": {
   "codemirror_mode": {
    "name": "ipython",
    "version": 3
   },
   "file_extension": ".py",
   "mimetype": "text/x-python",
   "name": "python",
   "nbconvert_exporter": "python",
   "pygments_lexer": "ipython3",
   "version": "3.11.8"
  }
 },
 "nbformat": 4,
 "nbformat_minor": 5
}
