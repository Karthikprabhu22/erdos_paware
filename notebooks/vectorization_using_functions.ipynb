{
 "cells": [
  {
   "cell_type": "code",
   "execution_count": null,
   "id": "632b8dd5-16e6-42da-8dcd-d4fcb3da1863",
   "metadata": {},
   "outputs": [],
   "source": [
    "import sys\n",
    "sys.path.append(\"../src/\")"
   ]
  },
  {
   "cell_type": "code",
   "execution_count": 2,
   "id": "112cd497-c5e8-4edb-9085-7321111e1bbc",
   "metadata": {},
   "outputs": [],
   "source": [
    "import polars as pl\n",
    "from data_processing import preprocess, chunk, vectorize"
   ]
  },
  {
   "cell_type": "code",
   "execution_count": 3,
   "id": "d5b68af4-497a-4229-9acc-43e7fc66ef7c",
   "metadata": {},
   "outputs": [],
   "source": [
    "DATA_RAW = pl.read_parquet(\"../temp_data/raw_data_subset_gm.parquet\")[0:1000]"
   ]
  },
  {
   "cell_type": "code",
   "execution_count": 4,
   "id": "a75d3e55-162c-4fc7-96fe-98c3f165c0df",
   "metadata": {},
   "outputs": [
    {
     "name": "stdout",
     "output_type": "stream",
     "text": [
      "Dropping 3 rows with reddit_text=='[deleted]'\n",
      "Dropping 2 rows with reddit_text=='[removed]'\n",
      "Dropping 1 rows with reddit_text containing:'This has been removed for breaking the sub rule of'\n",
      "Dropping 5 rows with reddit_text==''\n"
     ]
    }
   ],
   "source": [
    "data_preprocessed = preprocess.preprocess_data(DATA_RAW=DATA_RAW)"
   ]
  },
  {
   "cell_type": "code",
   "execution_count": 5,
   "id": "fb1483da-2ecb-43b2-8e58-f5ac09bcf6e5",
   "metadata": {},
   "outputs": [],
   "source": [
    "data_chunked = chunk.chunk_preprocessed_data(\n",
    "    data_preprocessed=data_preprocessed, \n",
    "    chunk_size=512, \n",
    "    chunk_overlap_pct=.2)"
   ]
  },
  {
   "cell_type": "code",
   "execution_count": 6,
   "id": "6e218b1f-d0c2-4d8c-92ea-59fd2a51ae3c",
   "metadata": {},
   "outputs": [],
   "source": [
    "from langchain_community.embeddings import HuggingFaceEmbeddings\n",
    "model = HuggingFaceEmbeddings(model_name=\"thenlper/gte-base\")\n",
    "data_vectorized = vectorize.vectorize_chunked_data(data_chunked=data_chunked,\n",
    "                                                   embeddings=model)"
   ]
  },
  {
   "cell_type": "code",
   "execution_count": 7,
   "id": "7290f54d-4389-478b-ae1e-8f31e4bfaaa1",
   "metadata": {},
   "outputs": [
    {
     "data": {
      "text/html": [
       "<div><style>\n",
       ".dataframe > thead > tr,\n",
       ".dataframe > tbody > tr {\n",
       "  text-align: right;\n",
       "  white-space: pre-wrap;\n",
       "}\n",
       "</style>\n",
       "<small>shape: (1_098, 16)</small><table border=\"1\" class=\"dataframe\"><thead><tr><th>aware_post_type</th><th>aware_created_ts</th><th>reddit_id</th><th>reddit_name</th><th>reddit_created_utc</th><th>reddit_author</th><th>reddit_text</th><th>reddit_permalink</th><th>reddit_title</th><th>reddit_url</th><th>reddit_subreddit</th><th>reddit_link_id</th><th>reddit_parent_id</th><th>reddit_submission</th><th>text_chunk</th><th>vector</th></tr><tr><td>str</td><td>str</td><td>str</td><td>str</td><td>i64</td><td>str</td><td>str</td><td>str</td><td>str</td><td>str</td><td>str</td><td>str</td><td>str</td><td>str</td><td>str</td><td>list[f64]</td></tr></thead><tbody><tr><td>&quot;submission&quot;</td><td>&quot;2024-01-05T10:…</td><td>&quot;18z96ud&quot;</td><td>&quot;t3_18z96ud&quot;</td><td>1704467742</td><td>&quot;Jmill2000&quot;</td><td>&quot;So I know GM m…</td><td>&quot;/r/GeneralMoto…</td><td>&quot;References&quot;</td><td>&quot;https://www.re…</td><td>&quot;GeneralMotors&quot;</td><td>null</td><td>null</td><td>null</td><td>&quot;So I know GM m…</td><td>[0.011797, 0.035773, … 0.036507]</td></tr><tr><td>&quot;submission&quot;</td><td>&quot;2024-01-05T10:…</td><td>&quot;18z96ud&quot;</td><td>&quot;t3_18z96ud&quot;</td><td>1704467742</td><td>&quot;Jmill2000&quot;</td><td>&quot;So I know GM m…</td><td>&quot;/r/GeneralMoto…</td><td>&quot;References&quot;</td><td>&quot;https://www.re…</td><td>&quot;GeneralMotors&quot;</td><td>null</td><td>null</td><td>null</td><td>&quot;I think that’s…</td><td>[0.001009, 0.011987, … 0.012729]</td></tr><tr><td>&quot;comment&quot;</td><td>&quot;2024-01-05T10:…</td><td>&quot;kgfznkx&quot;</td><td>&quot;t1_kgfznkx&quot;</td><td>1704468972</td><td>&quot;warwolf0&quot;</td><td>&quot;Yea, that’s a …</td><td>&quot;/r/GeneralMoto…</td><td>null</td><td>null</td><td>&quot;GeneralMotors&quot;</td><td>&quot;t3_18z96ud&quot;</td><td>&quot;t3_18z96ud&quot;</td><td>&quot;18z96ud&quot;</td><td>&quot;Yea, that’s a …</td><td>[0.043242, 0.019973, … -0.006569]</td></tr><tr><td>&quot;comment&quot;</td><td>&quot;2024-01-05T10:…</td><td>&quot;kgg05vt&quot;</td><td>&quot;t1_kgg05vt&quot;</td><td>1704469154</td><td>&quot;tossedawaytheq…</td><td>&quot;Search Socrate…</td><td>&quot;/r/GeneralMoto…</td><td>null</td><td>null</td><td>&quot;GeneralMotors&quot;</td><td>&quot;t3_18z96ud&quot;</td><td>&quot;t3_18z96ud&quot;</td><td>&quot;18z96ud&quot;</td><td>&quot;Search Socrate…</td><td>[0.027237, 0.029198, … 0.03238]</td></tr><tr><td>&quot;comment&quot;</td><td>&quot;2024-01-05T10:…</td><td>&quot;kgg0rjf&quot;</td><td>&quot;t1_kgg0rjf&quot;</td><td>1704469370</td><td>&quot;Ripinpasta69&quot;</td><td>&quot;Only works if …</td><td>&quot;/r/GeneralMoto…</td><td>null</td><td>null</td><td>&quot;GeneralMotors&quot;</td><td>&quot;t3_18z96ud&quot;</td><td>&quot;t1_kgg05vt&quot;</td><td>&quot;18z96ud&quot;</td><td>&quot;Only works if …</td><td>[0.006109, -0.017294, … -0.007557]</td></tr><tr><td>&hellip;</td><td>&hellip;</td><td>&hellip;</td><td>&hellip;</td><td>&hellip;</td><td>&hellip;</td><td>&hellip;</td><td>&hellip;</td><td>&hellip;</td><td>&hellip;</td><td>&hellip;</td><td>&hellip;</td><td>&hellip;</td><td>&hellip;</td><td>&hellip;</td><td>&hellip;</td></tr><tr><td>&quot;comment&quot;</td><td>&quot;2024-01-01T23:…</td><td>&quot;kfxl3w4&quot;</td><td>&quot;t1_kfxl3w4&quot;</td><td>1704168046</td><td>&quot;One_Artichoke_…</td><td>&quot;Many of these …</td><td>&quot;/r/GeneralMoto…</td><td>null</td><td>null</td><td>&quot;GeneralMotors&quot;</td><td>&quot;t3_18vzdor&quot;</td><td>&quot;t1_kfw4b1q&quot;</td><td>&quot;18vzdor&quot;</td><td>&quot;Many of these …</td><td>[0.003605, -0.039124, … -0.020783]</td></tr><tr><td>&quot;comment&quot;</td><td>&quot;2024-01-01T18:…</td><td>&quot;kfwdizy&quot;</td><td>&quot;t1_kfwdizy&quot;</td><td>1704150789</td><td>&quot;HeroDev0473&quot;</td><td>&quot;💯. \n",
       "\n",
       "Unfortuna…</td><td>&quot;/r/GeneralMoto…</td><td>null</td><td>null</td><td>&quot;GeneralMotors&quot;</td><td>&quot;t3_18vzdor&quot;</td><td>&quot;t1_kfw4b1q&quot;</td><td>&quot;18vzdor&quot;</td><td>&quot;💯. \n",
       "\n",
       "Unfortuna…</td><td>[0.033914, 0.01036, … 0.003147]</td></tr><tr><td>&quot;comment&quot;</td><td>&quot;2024-01-02T21:…</td><td>&quot;kg2jppp&quot;</td><td>&quot;t1_kg2jppp&quot;</td><td>1704248722</td><td>&quot;ExcuseEmbarras…</td><td>&quot;Yeah, it takes…</td><td>&quot;/r/GeneralMoto…</td><td>null</td><td>null</td><td>&quot;GeneralMotors&quot;</td><td>&quot;t3_18vzdor&quot;</td><td>&quot;t1_kfw4b1q&quot;</td><td>&quot;18vzdor&quot;</td><td>&quot;Yeah, it takes…</td><td>[0.023454, 0.00562, … 0.014458]</td></tr><tr><td>&quot;comment&quot;</td><td>&quot;2024-01-01T17:…</td><td>&quot;kfw3oji&quot;</td><td>&quot;t1_kfw3oji&quot;</td><td>1704147116</td><td>&quot;AccomplishedCa…</td><td>&quot;Agreed. Watche…</td><td>&quot;/r/GeneralMoto…</td><td>null</td><td>null</td><td>&quot;GeneralMotors&quot;</td><td>&quot;t3_18vzdor&quot;</td><td>&quot;t1_kfw353s&quot;</td><td>&quot;18vzdor&quot;</td><td>&quot;Agreed. Watche…</td><td>[0.007557, -0.002454, … 0.029052]</td></tr><tr><td>&quot;comment&quot;</td><td>&quot;2024-01-01T20:…</td><td>&quot;kfwu5p1&quot;</td><td>&quot;t1_kfwu5p1&quot;</td><td>1704157221</td><td>&quot;HugeOwlInCitru…</td><td>&quot;I don&#x27;t mind m…</td><td>&quot;/r/GeneralMoto…</td><td>null</td><td>null</td><td>&quot;GeneralMotors&quot;</td><td>&quot;t3_18vzdor&quot;</td><td>&quot;t1_kfw353s&quot;</td><td>&quot;18vzdor&quot;</td><td>&quot;I don&#x27;t mind m…</td><td>[-0.005, 0.024522, … 0.008909]</td></tr></tbody></table></div>"
      ],
      "text/plain": [
       "shape: (1_098, 16)\n",
       "┌───────────┬───────────┬───────────┬───────────┬───┬───────────┬───────────┬───────────┬──────────┐\n",
       "│ aware_pos ┆ aware_cre ┆ reddit_id ┆ reddit_na ┆ … ┆ reddit_pa ┆ reddit_su ┆ text_chun ┆ vector   │\n",
       "│ t_type    ┆ ated_ts   ┆ ---       ┆ me        ┆   ┆ rent_id   ┆ bmission  ┆ k         ┆ ---      │\n",
       "│ ---       ┆ ---       ┆ str       ┆ ---       ┆   ┆ ---       ┆ ---       ┆ ---       ┆ list[f64 │\n",
       "│ str       ┆ str       ┆           ┆ str       ┆   ┆ str       ┆ str       ┆ str       ┆ ]        │\n",
       "╞═══════════╪═══════════╪═══════════╪═══════════╪═══╪═══════════╪═══════════╪═══════════╪══════════╡\n",
       "│ submissio ┆ 2024-01-0 ┆ 18z96ud   ┆ t3_18z96u ┆ … ┆ null      ┆ null      ┆ So I know ┆ [0.01179 │\n",
       "│ n         ┆ 5T10:15:4 ┆           ┆ d         ┆   ┆           ┆           ┆ GM makes  ┆ 7, 0.035 │\n",
       "│           ┆ 2         ┆           ┆           ┆   ┆           ┆           ┆ a big     ┆ 773, …   │\n",
       "│           ┆           ┆           ┆           ┆   ┆           ┆           ┆ deal ab…  ┆ 0.036507 │\n",
       "│           ┆           ┆           ┆           ┆   ┆           ┆           ┆           ┆ ]        │\n",
       "│ submissio ┆ 2024-01-0 ┆ 18z96ud   ┆ t3_18z96u ┆ … ┆ null      ┆ null      ┆ I think   ┆ [0.00100 │\n",
       "│ n         ┆ 5T10:15:4 ┆           ┆ d         ┆   ┆           ┆           ┆ that’s    ┆ 9, 0.011 │\n",
       "│           ┆ 2         ┆           ┆           ┆   ┆           ┆           ┆ all GM    ┆ 987, …   │\n",
       "│           ┆           ┆           ┆           ┆   ┆           ┆           ┆ can       ┆ 0.012729 │\n",
       "│           ┆           ┆           ┆           ┆   ┆           ┆           ┆ provid…   ┆ ]        │\n",
       "│ comment   ┆ 2024-01-0 ┆ kgfznkx   ┆ t1_kgfznk ┆ … ┆ t3_18z96u ┆ 18z96ud   ┆ Yea,      ┆ [0.04324 │\n",
       "│           ┆ 5T10:36:1 ┆           ┆ x         ┆   ┆ d         ┆           ┆ that’s a  ┆ 2, 0.019 │\n",
       "│           ┆ 2         ┆           ┆           ┆   ┆           ┆           ┆ load of   ┆ 973, …   │\n",
       "│           ┆           ┆           ┆           ┆   ┆           ┆           ┆ shit by   ┆ -0.00656 │\n",
       "│           ┆           ┆           ┆           ┆   ┆           ┆           ┆ SL…       ┆ 9…       │\n",
       "│ comment   ┆ 2024-01-0 ┆ kgg05vt   ┆ t1_kgg05v ┆ … ┆ t3_18z96u ┆ 18z96ud   ┆ Search    ┆ [0.02723 │\n",
       "│           ┆ 5T10:39:1 ┆           ┆ t         ┆   ┆ d         ┆           ┆ Socrates  ┆ 7, 0.029 │\n",
       "│           ┆ 4         ┆           ┆           ┆   ┆           ┆           ┆ for “the  ┆ 198, …   │\n",
       "│           ┆           ┆           ┆           ┆   ┆           ┆           ┆ work nu…  ┆ 0.03238] │\n",
       "│ comment   ┆ 2024-01-0 ┆ kgg0rjf   ┆ t1_kgg0rj ┆ … ┆ t1_kgg05v ┆ 18z96ud   ┆ Only      ┆ [0.00610 │\n",
       "│           ┆ 5T10:42:5 ┆           ┆ f         ┆   ┆ t         ┆           ┆ works if  ┆ 9, -0.01 │\n",
       "│           ┆ 0         ┆           ┆           ┆   ┆           ┆           ┆ you are   ┆ 7294, …  │\n",
       "│           ┆           ┆           ┆           ┆   ┆           ┆           ┆ in the    ┆ -0.00755 │\n",
       "│           ┆           ┆           ┆           ┆   ┆           ┆           ┆ USA       ┆ …        │\n",
       "│ …         ┆ …         ┆ …         ┆ …         ┆ … ┆ …         ┆ …         ┆ …         ┆ …        │\n",
       "│ comment   ┆ 2024-01-0 ┆ kfxl3w4   ┆ t1_kfxl3w ┆ … ┆ t1_kfw4b1 ┆ 18vzdor   ┆ Many of   ┆ [0.00360 │\n",
       "│           ┆ 1T23:00:4 ┆           ┆ 4         ┆   ┆ q         ┆           ┆ these     ┆ 5, -0.03 │\n",
       "│           ┆ 6         ┆           ┆           ┆   ┆           ┆           ┆ people    ┆ 9124, …  │\n",
       "│           ┆           ┆           ┆           ┆   ┆           ┆           ┆ are loud  ┆ -0.02078 │\n",
       "│           ┆           ┆           ┆           ┆   ┆           ┆           ┆ be…       ┆ …        │\n",
       "│ comment   ┆ 2024-01-0 ┆ kfwdizy   ┆ t1_kfwdiz ┆ … ┆ t1_kfw4b1 ┆ 18vzdor   ┆ 💯.       ┆ [0.03391 │\n",
       "│           ┆ 1T18:13:0 ┆           ┆ y         ┆   ┆ q         ┆           ┆           ┆ 4,       │\n",
       "│           ┆ 9         ┆           ┆           ┆   ┆           ┆           ┆ Unfortuna ┆ 0.01036, │\n",
       "│           ┆           ┆           ┆           ┆   ┆           ┆           ┆ tely,     ┆ … 0.0031 │\n",
       "│           ┆           ┆           ┆           ┆   ┆           ┆           ┆ that's    ┆ 47]      │\n",
       "│           ┆           ┆           ┆           ┆   ┆           ┆           ┆ what …    ┆          │\n",
       "│ comment   ┆ 2024-01-0 ┆ kg2jppp   ┆ t1_kg2jpp ┆ … ┆ t1_kfw4b1 ┆ 18vzdor   ┆ Yeah, it  ┆ [0.02345 │\n",
       "│           ┆ 2T21:25:2 ┆           ┆ p         ┆   ┆ q         ┆           ┆ takes     ┆ 4,       │\n",
       "│           ┆ 2         ┆           ┆           ┆   ┆           ┆           ┆ time to   ┆ 0.00562, │\n",
       "│           ┆           ┆           ┆           ┆   ┆           ┆           ┆ find a    ┆ … 0.0144 │\n",
       "│           ┆           ┆           ┆           ┆   ┆           ┆           ┆ ne…       ┆ 58]      │\n",
       "│ comment   ┆ 2024-01-0 ┆ kfw3oji   ┆ t1_kfw3oj ┆ … ┆ t1_kfw353 ┆ 18vzdor   ┆ Agreed.   ┆ [0.00755 │\n",
       "│           ┆ 1T17:11:5 ┆           ┆ i         ┆   ┆ s         ┆           ┆ Watched a ┆ 7, -0.00 │\n",
       "│           ┆ 6         ┆           ┆           ┆   ┆           ┆           ┆ lot of    ┆ 2454, …  │\n",
       "│           ┆           ┆           ┆           ┆   ┆           ┆           ┆ talent …  ┆ 0.029052 │\n",
       "│           ┆           ┆           ┆           ┆   ┆           ┆           ┆           ┆ …        │\n",
       "│ comment   ┆ 2024-01-0 ┆ kfwu5p1   ┆ t1_kfwu5p ┆ … ┆ t1_kfw353 ┆ 18vzdor   ┆ I don't   ┆ [-0.005, │\n",
       "│           ┆ 1T20:00:2 ┆           ┆ 1         ┆   ┆ s         ┆           ┆ mind      ┆ 0.024522 │\n",
       "│           ┆ 1         ┆           ┆           ┆   ┆           ┆           ┆ managers  ┆ , … 0.00 │\n",
       "│           ┆           ┆           ┆           ┆   ┆           ┆           ┆ giving    ┆ 8909]    │\n",
       "│           ┆           ┆           ┆           ┆   ┆           ┆           ┆ neg…      ┆          │\n",
       "└───────────┴───────────┴───────────┴───────────┴───┴───────────┴───────────┴───────────┴──────────┘"
      ]
     },
     "execution_count": 7,
     "metadata": {},
     "output_type": "execute_result"
    }
   ],
   "source": [
    "data_vectorized"
   ]
  },
  {
   "cell_type": "code",
   "execution_count": null,
   "id": "7dc1b5bf-d997-494b-b7ed-4fc5ae252c2c",
   "metadata": {},
   "outputs": [],
   "source": []
  }
 ],
 "metadata": {
  "kernelspec": {
   "display_name": "Python [conda env:aware] *",
   "language": "python",
   "name": "conda-env-aware-py"
  },
  "language_info": {
   "codemirror_mode": {
    "name": "ipython",
    "version": 3
   },
   "file_extension": ".py",
   "mimetype": "text/x-python",
   "name": "python",
   "nbconvert_exporter": "python",
   "pygments_lexer": "ipython3",
   "version": "3.11.8"
  }
 },
 "nbformat": 4,
 "nbformat_minor": 5
}
