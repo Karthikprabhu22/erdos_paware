{
 "cells": [
  {
   "cell_type": "code",
   "execution_count": 1,
   "id": "4724848c-d866-4827-8e09-905e09e2bbb9",
   "metadata": {
    "editable": true,
    "slideshow": {
     "slide_type": ""
    },
    "tags": []
   },
   "outputs": [],
   "source": [
    "## Add this directory to the path and load our functions\n",
    "import sys\n",
    "sys.path.append(\"../src/\")\n",
    "from data_processing import preprocess, chunk, vectorize\n",
    "from adding_metadata import replies"
   ]
  },
  {
   "cell_type": "markdown",
   "id": "a86861f7-551a-426e-8ab5-9f405e1ab9d7",
   "metadata": {},
   "source": [
    "## Loading the data...\n",
    "We are using Polars to for general data handling. It is similar to Pandas, but optimized for larger datasate like ours."
   ]
  },
  {
   "cell_type": "code",
   "execution_count": 2,
   "id": "aaa5ecef-a2a1-4465-b3f3-3549a3863dd8",
   "metadata": {},
   "outputs": [],
   "source": [
    "import polars as pl\n",
    "## Load the data\n",
    "df = pl.read_parquet(\"../temp_data/raw_data_subset_gm.parquet\")"
   ]
  },
  {
   "cell_type": "code",
   "execution_count": 3,
   "id": "31f47b2a-7fe8-432a-8edb-ba1f2f1e0043",
   "metadata": {},
   "outputs": [
    {
     "data": {
      "text/html": [
       "<div><style>\n",
       ".dataframe > thead > tr,\n",
       ".dataframe > tbody > tr {\n",
       "  text-align: right;\n",
       "  white-space: pre-wrap;\n",
       "}\n",
       "</style>\n",
       "<small>shape: (5, 14)</small><table border=\"1\" class=\"dataframe\"><thead><tr><th>aware_post_type</th><th>aware_created_ts</th><th>reddit_id</th><th>reddit_name</th><th>reddit_created_utc</th><th>reddit_author</th><th>reddit_text</th><th>reddit_permalink</th><th>reddit_title</th><th>reddit_url</th><th>reddit_subreddit</th><th>reddit_link_id</th><th>reddit_parent_id</th><th>reddit_submission</th></tr><tr><td>str</td><td>str</td><td>str</td><td>str</td><td>i64</td><td>str</td><td>str</td><td>str</td><td>str</td><td>str</td><td>str</td><td>str</td><td>str</td><td>str</td></tr></thead><tbody><tr><td>&quot;submission&quot;</td><td>&quot;2024-01-05T10:…</td><td>&quot;18z96ud&quot;</td><td>&quot;t3_18z96ud&quot;</td><td>1704467742</td><td>&quot;Jmill2000&quot;</td><td>&quot;So I know GM m…</td><td>&quot;/r/GeneralMoto…</td><td>&quot;References&quot;</td><td>&quot;https://www.re…</td><td>&quot;GeneralMotors&quot;</td><td>null</td><td>null</td><td>null</td></tr><tr><td>&quot;comment&quot;</td><td>&quot;2024-01-05T10:…</td><td>&quot;kgfznkx&quot;</td><td>&quot;t1_kgfznkx&quot;</td><td>1704468972</td><td>&quot;warwolf0&quot;</td><td>&quot;Yea, that’s a …</td><td>&quot;/r/GeneralMoto…</td><td>null</td><td>null</td><td>&quot;GeneralMotors&quot;</td><td>&quot;t3_18z96ud&quot;</td><td>&quot;t3_18z96ud&quot;</td><td>&quot;18z96ud&quot;</td></tr><tr><td>&quot;comment&quot;</td><td>&quot;2024-01-05T10:…</td><td>&quot;kgg05vt&quot;</td><td>&quot;t1_kgg05vt&quot;</td><td>1704469154</td><td>&quot;tossedawaytheq…</td><td>&quot;Search Socrate…</td><td>&quot;/r/GeneralMoto…</td><td>null</td><td>null</td><td>&quot;GeneralMotors&quot;</td><td>&quot;t3_18z96ud&quot;</td><td>&quot;t3_18z96ud&quot;</td><td>&quot;18z96ud&quot;</td></tr><tr><td>&quot;comment&quot;</td><td>&quot;2024-01-05T10:…</td><td>&quot;kgg0rjf&quot;</td><td>&quot;t1_kgg0rjf&quot;</td><td>1704469370</td><td>&quot;Ripinpasta69&quot;</td><td>&quot;Only works if …</td><td>&quot;/r/GeneralMoto…</td><td>null</td><td>null</td><td>&quot;GeneralMotors&quot;</td><td>&quot;t3_18z96ud&quot;</td><td>&quot;t1_kgg05vt&quot;</td><td>&quot;18z96ud&quot;</td></tr><tr><td>&quot;comment&quot;</td><td>&quot;2024-01-05T11:…</td><td>&quot;kgg79j0&quot;</td><td>&quot;t1_kgg79j0&quot;</td><td>1704471652</td><td>&quot;Jmill2000&quot;</td><td>&quot;Gotcha, thanks…</td><td>&quot;/r/GeneralMoto…</td><td>null</td><td>null</td><td>&quot;GeneralMotors&quot;</td><td>&quot;t3_18z96ud&quot;</td><td>&quot;t1_kgg05vt&quot;</td><td>&quot;18z96ud&quot;</td></tr></tbody></table></div>"
      ],
      "text/plain": [
       "shape: (5, 14)\n",
       "┌───────────┬───────────┬───────────┬───────────┬───┬───────────┬───────────┬───────────┬──────────┐\n",
       "│ aware_pos ┆ aware_cre ┆ reddit_id ┆ reddit_na ┆ … ┆ reddit_su ┆ reddit_li ┆ reddit_pa ┆ reddit_s │\n",
       "│ t_type    ┆ ated_ts   ┆ ---       ┆ me        ┆   ┆ breddit   ┆ nk_id     ┆ rent_id   ┆ ubmissio │\n",
       "│ ---       ┆ ---       ┆ str       ┆ ---       ┆   ┆ ---       ┆ ---       ┆ ---       ┆ n        │\n",
       "│ str       ┆ str       ┆           ┆ str       ┆   ┆ str       ┆ str       ┆ str       ┆ ---      │\n",
       "│           ┆           ┆           ┆           ┆   ┆           ┆           ┆           ┆ str      │\n",
       "╞═══════════╪═══════════╪═══════════╪═══════════╪═══╪═══════════╪═══════════╪═══════════╪══════════╡\n",
       "│ submissio ┆ 2024-01-0 ┆ 18z96ud   ┆ t3_18z96u ┆ … ┆ GeneralMo ┆ null      ┆ null      ┆ null     │\n",
       "│ n         ┆ 5T10:15:4 ┆           ┆ d         ┆   ┆ tors      ┆           ┆           ┆          │\n",
       "│           ┆ 2         ┆           ┆           ┆   ┆           ┆           ┆           ┆          │\n",
       "│ comment   ┆ 2024-01-0 ┆ kgfznkx   ┆ t1_kgfznk ┆ … ┆ GeneralMo ┆ t3_18z96u ┆ t3_18z96u ┆ 18z96ud  │\n",
       "│           ┆ 5T10:36:1 ┆           ┆ x         ┆   ┆ tors      ┆ d         ┆ d         ┆          │\n",
       "│           ┆ 2         ┆           ┆           ┆   ┆           ┆           ┆           ┆          │\n",
       "│ comment   ┆ 2024-01-0 ┆ kgg05vt   ┆ t1_kgg05v ┆ … ┆ GeneralMo ┆ t3_18z96u ┆ t3_18z96u ┆ 18z96ud  │\n",
       "│           ┆ 5T10:39:1 ┆           ┆ t         ┆   ┆ tors      ┆ d         ┆ d         ┆          │\n",
       "│           ┆ 4         ┆           ┆           ┆   ┆           ┆           ┆           ┆          │\n",
       "│ comment   ┆ 2024-01-0 ┆ kgg0rjf   ┆ t1_kgg0rj ┆ … ┆ GeneralMo ┆ t3_18z96u ┆ t1_kgg05v ┆ 18z96ud  │\n",
       "│           ┆ 5T10:42:5 ┆           ┆ f         ┆   ┆ tors      ┆ d         ┆ t         ┆          │\n",
       "│           ┆ 0         ┆           ┆           ┆   ┆           ┆           ┆           ┆          │\n",
       "│ comment   ┆ 2024-01-0 ┆ kgg79j0   ┆ t1_kgg79j ┆ … ┆ GeneralMo ┆ t3_18z96u ┆ t1_kgg05v ┆ 18z96ud  │\n",
       "│           ┆ 5T11:20:5 ┆           ┆ 0         ┆   ┆ tors      ┆ d         ┆ t         ┆          │\n",
       "│           ┆ 2         ┆           ┆           ┆   ┆           ┆           ┆           ┆          │\n",
       "└───────────┴───────────┴───────────┴───────────┴───┴───────────┴───────────┴───────────┴──────────┘"
      ]
     },
     "execution_count": 3,
     "metadata": {},
     "output_type": "execute_result"
    }
   ],
   "source": [
    "df.head(5)"
   ]
  },
  {
   "cell_type": "markdown",
   "id": "959c2b7a-a8b6-4511-93a9-fd3fa0d603a1",
   "metadata": {},
   "source": [
    "## Processing the data\n",
    "\n",
    "Our processing pipeline is broken into the following steps:\n",
    "* Preprocessing:\n",
    "    * Dropping rows with deleted or removed posts\n",
    "    * Dropping rows that appear to be bots or memes\n",
    "    * Replacing empty submission texts with their titles\n",
    "* Chunking (with or without metadata):\n",
    "    * Breaks the `reddit_text` column into smaller chunks that are small enough to be handleded by our embedding model later. A new column is created, `text_chunk` that contains these chunks. Each such row also still contains all of the metadata (including the original text) assosicated with the `reddit_text` that the chunk belongs to.\n",
    "    * There are two functions that do this, both have the same parameters: `raw_data`, `chunk_size`, and `chunk_overlap_pct`:\n",
    "        * `chunk_preprocessed_data`\n",
    "            * regular chunking, no added metadata\n",
    "        * `chunk_preprocessed_data_with_subreddit`\n",
    "            * chunks are made slighly smaller, and metadata regardng the subreddit is appended to the start of each chunk.\n",
    "* Vectorizing (not shown below, see the notbook: `vdb_demo_raw_data_to_vdb.ipynb`)\n",
    "    * Text chunks are tokenized and embedded using a setntence transfrom er model. The result is a dataframe with a new `vector` column."
   ]
  },
  {
   "cell_type": "code",
   "execution_count": 4,
   "id": "408a9dce-5c70-4d80-b896-0b869536ebe8",
   "metadata": {},
   "outputs": [
    {
     "name": "stdout",
     "output_type": "stream",
     "text": [
      "Dropping 1099 rows with reddit_text=='[deleted]'\n",
      "Dropping 119 rows with reddit_text=='[removed]'\n",
      "Dropping 67 rows that are likely bots or memes\n",
      "Dropping 0 rows with 'reddit_text'=='' and 'aware_post_type'=='comment'\n",
      "Dropping 0 rows with 'reddit_text'==' ' and 'aware_post_type'=='comment'\n",
      "Replacing 'reddit_text' with 'reddit_title' in 235 rows with 'reddit_text'=='' or 'reddit_text'==' '\n"
     ]
    },
    {
     "data": {
      "text/html": [
       "<div><style>\n",
       ".dataframe > thead > tr,\n",
       ".dataframe > tbody > tr {\n",
       "  text-align: right;\n",
       "  white-space: pre-wrap;\n",
       "}\n",
       "</style>\n",
       "<small>shape: (5, 14)</small><table border=\"1\" class=\"dataframe\"><thead><tr><th>aware_post_type</th><th>aware_created_ts</th><th>reddit_id</th><th>reddit_name</th><th>reddit_created_utc</th><th>reddit_author</th><th>reddit_text</th><th>reddit_permalink</th><th>reddit_title</th><th>reddit_url</th><th>reddit_subreddit</th><th>reddit_link_id</th><th>reddit_parent_id</th><th>reddit_submission</th></tr><tr><td>str</td><td>str</td><td>str</td><td>str</td><td>i64</td><td>str</td><td>str</td><td>str</td><td>str</td><td>str</td><td>str</td><td>str</td><td>str</td><td>str</td></tr></thead><tbody><tr><td>&quot;submission&quot;</td><td>&quot;2024-01-05T10:…</td><td>&quot;18z96ud&quot;</td><td>&quot;t3_18z96ud&quot;</td><td>1704467742</td><td>&quot;Jmill2000&quot;</td><td>&quot;So I know GM m…</td><td>&quot;/r/GeneralMoto…</td><td>&quot;References&quot;</td><td>&quot;https://www.re…</td><td>&quot;GeneralMotors&quot;</td><td>null</td><td>null</td><td>null</td></tr><tr><td>&quot;comment&quot;</td><td>&quot;2024-01-05T10:…</td><td>&quot;kgfznkx&quot;</td><td>&quot;t1_kgfznkx&quot;</td><td>1704468972</td><td>&quot;warwolf0&quot;</td><td>&quot;Yea, that’s a …</td><td>&quot;/r/GeneralMoto…</td><td>null</td><td>null</td><td>&quot;GeneralMotors&quot;</td><td>&quot;t3_18z96ud&quot;</td><td>&quot;t3_18z96ud&quot;</td><td>&quot;18z96ud&quot;</td></tr><tr><td>&quot;comment&quot;</td><td>&quot;2024-01-05T10:…</td><td>&quot;kgg05vt&quot;</td><td>&quot;t1_kgg05vt&quot;</td><td>1704469154</td><td>&quot;tossedawaytheq…</td><td>&quot;Search Socrate…</td><td>&quot;/r/GeneralMoto…</td><td>null</td><td>null</td><td>&quot;GeneralMotors&quot;</td><td>&quot;t3_18z96ud&quot;</td><td>&quot;t3_18z96ud&quot;</td><td>&quot;18z96ud&quot;</td></tr><tr><td>&quot;comment&quot;</td><td>&quot;2024-01-05T10:…</td><td>&quot;kgg0rjf&quot;</td><td>&quot;t1_kgg0rjf&quot;</td><td>1704469370</td><td>&quot;Ripinpasta69&quot;</td><td>&quot;Only works if …</td><td>&quot;/r/GeneralMoto…</td><td>null</td><td>null</td><td>&quot;GeneralMotors&quot;</td><td>&quot;t3_18z96ud&quot;</td><td>&quot;t1_kgg05vt&quot;</td><td>&quot;18z96ud&quot;</td></tr><tr><td>&quot;comment&quot;</td><td>&quot;2024-01-05T11:…</td><td>&quot;kgg79j0&quot;</td><td>&quot;t1_kgg79j0&quot;</td><td>1704471652</td><td>&quot;Jmill2000&quot;</td><td>&quot;Gotcha, thanks…</td><td>&quot;/r/GeneralMoto…</td><td>null</td><td>null</td><td>&quot;GeneralMotors&quot;</td><td>&quot;t3_18z96ud&quot;</td><td>&quot;t1_kgg05vt&quot;</td><td>&quot;18z96ud&quot;</td></tr></tbody></table></div>"
      ],
      "text/plain": [
       "shape: (5, 14)\n",
       "┌───────────┬───────────┬───────────┬───────────┬───┬───────────┬───────────┬───────────┬──────────┐\n",
       "│ aware_pos ┆ aware_cre ┆ reddit_id ┆ reddit_na ┆ … ┆ reddit_su ┆ reddit_li ┆ reddit_pa ┆ reddit_s │\n",
       "│ t_type    ┆ ated_ts   ┆ ---       ┆ me        ┆   ┆ breddit   ┆ nk_id     ┆ rent_id   ┆ ubmissio │\n",
       "│ ---       ┆ ---       ┆ str       ┆ ---       ┆   ┆ ---       ┆ ---       ┆ ---       ┆ n        │\n",
       "│ str       ┆ str       ┆           ┆ str       ┆   ┆ str       ┆ str       ┆ str       ┆ ---      │\n",
       "│           ┆           ┆           ┆           ┆   ┆           ┆           ┆           ┆ str      │\n",
       "╞═══════════╪═══════════╪═══════════╪═══════════╪═══╪═══════════╪═══════════╪═══════════╪══════════╡\n",
       "│ submissio ┆ 2024-01-0 ┆ 18z96ud   ┆ t3_18z96u ┆ … ┆ GeneralMo ┆ null      ┆ null      ┆ null     │\n",
       "│ n         ┆ 5T10:15:4 ┆           ┆ d         ┆   ┆ tors      ┆           ┆           ┆          │\n",
       "│           ┆ 2         ┆           ┆           ┆   ┆           ┆           ┆           ┆          │\n",
       "│ comment   ┆ 2024-01-0 ┆ kgfznkx   ┆ t1_kgfznk ┆ … ┆ GeneralMo ┆ t3_18z96u ┆ t3_18z96u ┆ 18z96ud  │\n",
       "│           ┆ 5T10:36:1 ┆           ┆ x         ┆   ┆ tors      ┆ d         ┆ d         ┆          │\n",
       "│           ┆ 2         ┆           ┆           ┆   ┆           ┆           ┆           ┆          │\n",
       "│ comment   ┆ 2024-01-0 ┆ kgg05vt   ┆ t1_kgg05v ┆ … ┆ GeneralMo ┆ t3_18z96u ┆ t3_18z96u ┆ 18z96ud  │\n",
       "│           ┆ 5T10:39:1 ┆           ┆ t         ┆   ┆ tors      ┆ d         ┆ d         ┆          │\n",
       "│           ┆ 4         ┆           ┆           ┆   ┆           ┆           ┆           ┆          │\n",
       "│ comment   ┆ 2024-01-0 ┆ kgg0rjf   ┆ t1_kgg0rj ┆ … ┆ GeneralMo ┆ t3_18z96u ┆ t1_kgg05v ┆ 18z96ud  │\n",
       "│           ┆ 5T10:42:5 ┆           ┆ f         ┆   ┆ tors      ┆ d         ┆ t         ┆          │\n",
       "│           ┆ 0         ┆           ┆           ┆   ┆           ┆           ┆           ┆          │\n",
       "│ comment   ┆ 2024-01-0 ┆ kgg79j0   ┆ t1_kgg79j ┆ … ┆ GeneralMo ┆ t3_18z96u ┆ t1_kgg05v ┆ 18z96ud  │\n",
       "│           ┆ 5T11:20:5 ┆           ┆ 0         ┆   ┆ tors      ┆ d         ┆ t         ┆          │\n",
       "│           ┆ 2         ┆           ┆           ┆   ┆           ┆           ┆           ┆          │\n",
       "└───────────┴───────────┴───────────┴───────────┴───┴───────────┴───────────┴───────────┴──────────┘"
      ]
     },
     "execution_count": 4,
     "metadata": {},
     "output_type": "execute_result"
    }
   ],
   "source": [
    "## Preprocess\n",
    "data_preprocessed = preprocess.preprocess_data(df)\n",
    "data_preprocessed.head(5)"
   ]
  },
  {
   "cell_type": "code",
   "execution_count": 5,
   "id": "b2461496-1eaf-4b9d-8446-c265bcbc3f95",
   "metadata": {},
   "outputs": [
    {
     "data": {
      "text/html": [
       "<div><style>\n",
       ".dataframe > thead > tr,\n",
       ".dataframe > tbody > tr {\n",
       "  text-align: right;\n",
       "  white-space: pre-wrap;\n",
       "}\n",
       "</style>\n",
       "<small>shape: (5, 15)</small><table border=\"1\" class=\"dataframe\"><thead><tr><th>aware_post_type</th><th>aware_created_ts</th><th>reddit_id</th><th>reddit_name</th><th>reddit_created_utc</th><th>reddit_author</th><th>reddit_text</th><th>reddit_permalink</th><th>reddit_title</th><th>reddit_url</th><th>reddit_subreddit</th><th>reddit_link_id</th><th>reddit_parent_id</th><th>reddit_submission</th><th>text_chunk</th></tr><tr><td>str</td><td>str</td><td>str</td><td>str</td><td>i64</td><td>str</td><td>str</td><td>str</td><td>str</td><td>str</td><td>str</td><td>str</td><td>str</td><td>str</td><td>str</td></tr></thead><tbody><tr><td>&quot;submission&quot;</td><td>&quot;2024-01-05T10:…</td><td>&quot;18z96ud&quot;</td><td>&quot;t3_18z96ud&quot;</td><td>1704467742</td><td>&quot;Jmill2000&quot;</td><td>&quot;So I know GM m…</td><td>&quot;/r/GeneralMoto…</td><td>&quot;References&quot;</td><td>&quot;https://www.re…</td><td>&quot;GeneralMotors&quot;</td><td>null</td><td>null</td><td>null</td><td>&quot;So I know GM m…</td></tr><tr><td>&quot;submission&quot;</td><td>&quot;2024-01-05T10:…</td><td>&quot;18z96ud&quot;</td><td>&quot;t3_18z96ud&quot;</td><td>1704467742</td><td>&quot;Jmill2000&quot;</td><td>&quot;So I know GM m…</td><td>&quot;/r/GeneralMoto…</td><td>&quot;References&quot;</td><td>&quot;https://www.re…</td><td>&quot;GeneralMotors&quot;</td><td>null</td><td>null</td><td>null</td><td>&quot;I think that’s…</td></tr><tr><td>&quot;comment&quot;</td><td>&quot;2024-01-05T10:…</td><td>&quot;kgfznkx&quot;</td><td>&quot;t1_kgfznkx&quot;</td><td>1704468972</td><td>&quot;warwolf0&quot;</td><td>&quot;Yea, that’s a …</td><td>&quot;/r/GeneralMoto…</td><td>null</td><td>null</td><td>&quot;GeneralMotors&quot;</td><td>&quot;t3_18z96ud&quot;</td><td>&quot;t3_18z96ud&quot;</td><td>&quot;18z96ud&quot;</td><td>&quot;Yea, that’s a …</td></tr><tr><td>&quot;comment&quot;</td><td>&quot;2024-01-05T10:…</td><td>&quot;kgg05vt&quot;</td><td>&quot;t1_kgg05vt&quot;</td><td>1704469154</td><td>&quot;tossedawaytheq…</td><td>&quot;Search Socrate…</td><td>&quot;/r/GeneralMoto…</td><td>null</td><td>null</td><td>&quot;GeneralMotors&quot;</td><td>&quot;t3_18z96ud&quot;</td><td>&quot;t3_18z96ud&quot;</td><td>&quot;18z96ud&quot;</td><td>&quot;Search Socrate…</td></tr><tr><td>&quot;comment&quot;</td><td>&quot;2024-01-05T10:…</td><td>&quot;kgg0rjf&quot;</td><td>&quot;t1_kgg0rjf&quot;</td><td>1704469370</td><td>&quot;Ripinpasta69&quot;</td><td>&quot;Only works if …</td><td>&quot;/r/GeneralMoto…</td><td>null</td><td>null</td><td>&quot;GeneralMotors&quot;</td><td>&quot;t3_18z96ud&quot;</td><td>&quot;t1_kgg05vt&quot;</td><td>&quot;18z96ud&quot;</td><td>&quot;Only works if …</td></tr></tbody></table></div>"
      ],
      "text/plain": [
       "shape: (5, 15)\n",
       "┌───────────┬───────────┬───────────┬───────────┬───┬───────────┬───────────┬───────────┬──────────┐\n",
       "│ aware_pos ┆ aware_cre ┆ reddit_id ┆ reddit_na ┆ … ┆ reddit_li ┆ reddit_pa ┆ reddit_su ┆ text_chu │\n",
       "│ t_type    ┆ ated_ts   ┆ ---       ┆ me        ┆   ┆ nk_id     ┆ rent_id   ┆ bmission  ┆ nk       │\n",
       "│ ---       ┆ ---       ┆ str       ┆ ---       ┆   ┆ ---       ┆ ---       ┆ ---       ┆ ---      │\n",
       "│ str       ┆ str       ┆           ┆ str       ┆   ┆ str       ┆ str       ┆ str       ┆ str      │\n",
       "╞═══════════╪═══════════╪═══════════╪═══════════╪═══╪═══════════╪═══════════╪═══════════╪══════════╡\n",
       "│ submissio ┆ 2024-01-0 ┆ 18z96ud   ┆ t3_18z96u ┆ … ┆ null      ┆ null      ┆ null      ┆ So I     │\n",
       "│ n         ┆ 5T10:15:4 ┆           ┆ d         ┆   ┆           ┆           ┆           ┆ know GM  │\n",
       "│           ┆ 2         ┆           ┆           ┆   ┆           ┆           ┆           ┆ makes a  │\n",
       "│           ┆           ┆           ┆           ┆   ┆           ┆           ┆           ┆ big deal │\n",
       "│           ┆           ┆           ┆           ┆   ┆           ┆           ┆           ┆ ab…      │\n",
       "│ submissio ┆ 2024-01-0 ┆ 18z96ud   ┆ t3_18z96u ┆ … ┆ null      ┆ null      ┆ null      ┆ I think  │\n",
       "│ n         ┆ 5T10:15:4 ┆           ┆ d         ┆   ┆           ┆           ┆           ┆ that’s   │\n",
       "│           ┆ 2         ┆           ┆           ┆   ┆           ┆           ┆           ┆ all GM   │\n",
       "│           ┆           ┆           ┆           ┆   ┆           ┆           ┆           ┆ can      │\n",
       "│           ┆           ┆           ┆           ┆   ┆           ┆           ┆           ┆ provid…  │\n",
       "│ comment   ┆ 2024-01-0 ┆ kgfznkx   ┆ t1_kgfznk ┆ … ┆ t3_18z96u ┆ t3_18z96u ┆ 18z96ud   ┆ Yea,     │\n",
       "│           ┆ 5T10:36:1 ┆           ┆ x         ┆   ┆ d         ┆ d         ┆           ┆ that’s a │\n",
       "│           ┆ 2         ┆           ┆           ┆   ┆           ┆           ┆           ┆ load of  │\n",
       "│           ┆           ┆           ┆           ┆   ┆           ┆           ┆           ┆ shit by  │\n",
       "│           ┆           ┆           ┆           ┆   ┆           ┆           ┆           ┆ SL…      │\n",
       "│ comment   ┆ 2024-01-0 ┆ kgg05vt   ┆ t1_kgg05v ┆ … ┆ t3_18z96u ┆ t3_18z96u ┆ 18z96ud   ┆ Search   │\n",
       "│           ┆ 5T10:39:1 ┆           ┆ t         ┆   ┆ d         ┆ d         ┆           ┆ Socrates │\n",
       "│           ┆ 4         ┆           ┆           ┆   ┆           ┆           ┆           ┆ for “the │\n",
       "│           ┆           ┆           ┆           ┆   ┆           ┆           ┆           ┆ work nu… │\n",
       "│ comment   ┆ 2024-01-0 ┆ kgg0rjf   ┆ t1_kgg0rj ┆ … ┆ t3_18z96u ┆ t1_kgg05v ┆ 18z96ud   ┆ Only     │\n",
       "│           ┆ 5T10:42:5 ┆           ┆ f         ┆   ┆ d         ┆ t         ┆           ┆ works if │\n",
       "│           ┆ 0         ┆           ┆           ┆   ┆           ┆           ┆           ┆ you are  │\n",
       "│           ┆           ┆           ┆           ┆   ┆           ┆           ┆           ┆ in the   │\n",
       "│           ┆           ┆           ┆           ┆   ┆           ┆           ┆           ┆ USA      │\n",
       "└───────────┴───────────┴───────────┴───────────┴───┴───────────┴───────────┴───────────┴──────────┘"
      ]
     },
     "execution_count": 5,
     "metadata": {},
     "output_type": "execute_result"
    }
   ],
   "source": [
    "## Chunking without metadata\n",
    "data_chunked = chunk.chunk_preprocessed_data(\n",
    "    data_preprocessed=data_preprocessed, \n",
    "    chunk_size=512, \n",
    "    chunk_overlap_pct=.2)\n",
    "data_chunked.head(5)"
   ]
  },
  {
   "cell_type": "code",
   "execution_count": 6,
   "id": "61f6713e-4c90-44af-aa06-2c524d6e2aca",
   "metadata": {
    "editable": true,
    "slideshow": {
     "slide_type": ""
    },
    "tags": []
   },
   "outputs": [
    {
     "data": {
      "text/html": [
       "<div><style>\n",
       ".dataframe > thead > tr,\n",
       ".dataframe > tbody > tr {\n",
       "  text-align: right;\n",
       "  white-space: pre-wrap;\n",
       "}\n",
       "</style>\n",
       "<small>shape: (5, 2)</small><table border=\"1\" class=\"dataframe\"><thead><tr><th>reddit_text</th><th>text_chunk</th></tr><tr><td>str</td><td>str</td></tr></thead><tbody><tr><td>&quot;Any thoughts on if GM will offer UAW workers a buyout this year as well? It&#x27;s also a contract year.&quot;</td><td>&quot;Any thoughts on if GM will offer UAW workers a buyout this year as well? It&#x27;s also a contract year.&quot;</td></tr><tr><td>&quot;hope that’s sarcasm.. we’d be in an even worse shape if he was still here&quot;</td><td>&quot;hope that’s sarcasm.. we’d be in an even worse shape if he was still here&quot;</td></tr><tr><td>&quot;You’re asking people to put all their eggs in one basket then. The employees of Enron did that, they lost literally everything, forced to delay retirement 10+ years. It is terrible practice to invest in your employer, because you can end up with no assets or job at the same time if they implode.\n",
       "\n",
       "The big automakers have imploded before, look at 2008, where all except Ford needed a bailout because of the credit crunch - politicians even did cash for clunkers, a terrible program, to bail them out.&quot;</td><td>&quot;You’re asking people to put all their eggs in one basket then. The employees of Enron did that, they lost literally everything, forced to delay retirement 10+ years. It is terrible practice to invest in your employer, because you can end up with no assets or job at the same time if they implode.\n",
       "\n",
       "The big automakers have imploded before, look at 2008, where all except Ford needed a bailout because of the credit crunch - politicians even did cash for clunkers, a terrible program, to bail them out.&quot;</td></tr><tr><td>&quot;That’s not a great product if it costs so much that you need exploited labor to be profitable. I’m tired of subsidizing Fortune 100 companies bottom line.&quot;</td><td>&quot;That’s not a great product if it costs so much that you need exploited labor to be profitable. I’m tired of subsidizing Fortune 100 companies bottom line.&quot;</td></tr><tr><td>&quot;Plant Medical, I think some Plant Office staff, I think some Engineers, I know I talked to one guy at Ford who was Salary UAW and in Finance but they kept screwing with his department, and I’m sure there’s lots more.&quot;</td><td>&quot;Plant Medical, I think some Plant Office staff, I think some Engineers, I know I talked to one guy at Ford who was Salary UAW and in Finance but they kept screwing with his department, and I’m sure there’s lots more.&quot;</td></tr></tbody></table></div>"
      ],
      "text/plain": [
       "shape: (5, 2)\n",
       "┌─────────────────────────────────────────────────┬────────────────────────────────────────────────┐\n",
       "│ reddit_text                                     ┆ text_chunk                                     │\n",
       "│ ---                                             ┆ ---                                            │\n",
       "│ str                                             ┆ str                                            │\n",
       "╞═════════════════════════════════════════════════╪════════════════════════════════════════════════╡\n",
       "│ Any thoughts on if GM will offer UAW workers a  ┆ Any thoughts on if GM will offer UAW workers a │\n",
       "│ buyout this year as well? It's also a contract  ┆ buyout this year as well? It's also a contract │\n",
       "│ year.                                           ┆ year.                                          │\n",
       "│ hope that’s sarcasm.. we’d be in an even worse  ┆ hope that’s sarcasm.. we’d be in an even worse │\n",
       "│ shape if he was still here                      ┆ shape if he was still here                     │\n",
       "│ You’re asking people to put all their eggs in   ┆ You’re asking people to put all their eggs in  │\n",
       "│ one basket then. The employees of Enron did     ┆ one basket then. The employees of Enron did    │\n",
       "│ that, they lost literally everything, forced to ┆ that, they lost literally everything, forced   │\n",
       "│ delay retirement 10+ years. It is terrible      ┆ to delay retirement 10+ years. It is terrible  │\n",
       "│ practice to invest in your employer, because    ┆ practice to invest in your employer, because   │\n",
       "│ you can end up with no assets or job at the     ┆ you can end up with no assets or job at the    │\n",
       "│ same time if they implode.                      ┆ same time if they implode.                     │\n",
       "│                                                 ┆                                                │\n",
       "│ The big automakers have imploded before, look   ┆ The big automakers have imploded before, look  │\n",
       "│ at 2008, where all except Ford needed a bailout ┆ at 2008, where all except Ford needed a        │\n",
       "│ because of the credit crunch - politicians even ┆ bailout because of the credit crunch -         │\n",
       "│ did cash for clunkers, a terrible program, to   ┆ politicians even did cash for clunkers, a      │\n",
       "│ bail them out.                                  ┆ terrible program, to bail them out.            │\n",
       "│ That’s not a great product if it costs so much  ┆ That’s not a great product if it costs so much │\n",
       "│ that you need exploited labor to be profitable. ┆ that you need exploited labor to be            │\n",
       "│ I’m tired of subsidizing Fortune 100 companies  ┆ profitable. I’m tired of subsidizing Fortune   │\n",
       "│ bottom line.                                    ┆ 100 companies bottom line.                     │\n",
       "│ Plant Medical, I think some Plant Office staff, ┆ Plant Medical, I think some Plant Office       │\n",
       "│ I think some Engineers, I know I talked to one  ┆ staff, I think some Engineers, I know I talked │\n",
       "│ guy at Ford who was Salary UAW and in Finance   ┆ to one guy at Ford who was Salary UAW and in   │\n",
       "│ but they kept screwing with his department, and ┆ Finance but they kept screwing with his        │\n",
       "│ I’m sure there’s lots more.                     ┆ department, and I’m sure there’s lots more.    │\n",
       "└─────────────────────────────────────────────────┴────────────────────────────────────────────────┘"
      ]
     },
     "execution_count": 6,
     "metadata": {},
     "output_type": "execute_result"
    }
   ],
   "source": [
    "pl.Config.set_fmt_str_lengths(3000)\n",
    "data_chunked[[\"reddit_text\",\"text_chunk\"]].sample(5)"
   ]
  },
  {
   "cell_type": "code",
   "execution_count": 7,
   "id": "733553ef-d1b8-4b12-bc5a-d7551ea89d69",
   "metadata": {},
   "outputs": [
    {
     "data": {
      "text/html": [
       "<div><style>\n",
       ".dataframe > thead > tr,\n",
       ".dataframe > tbody > tr {\n",
       "  text-align: right;\n",
       "  white-space: pre-wrap;\n",
       "}\n",
       "</style>\n",
       "<small>shape: (5, 15)</small><table border=\"1\" class=\"dataframe\"><thead><tr><th>aware_post_type</th><th>aware_created_ts</th><th>reddit_id</th><th>reddit_name</th><th>reddit_created_utc</th><th>reddit_author</th><th>reddit_text</th><th>reddit_permalink</th><th>reddit_title</th><th>reddit_url</th><th>reddit_subreddit</th><th>reddit_link_id</th><th>reddit_parent_id</th><th>reddit_submission</th><th>text_chunk</th></tr><tr><td>str</td><td>str</td><td>str</td><td>str</td><td>i64</td><td>str</td><td>str</td><td>str</td><td>str</td><td>str</td><td>str</td><td>str</td><td>str</td><td>str</td><td>str</td></tr></thead><tbody><tr><td>&quot;submission&quot;</td><td>&quot;2024-01-05T10:15:42&quot;</td><td>&quot;18z96ud&quot;</td><td>&quot;t3_18z96ud&quot;</td><td>1704467742</td><td>&quot;Jmill2000&quot;</td><td>&quot;So I know GM makes a big deal about not allowing employees to provide references. I don’t have many…</td><td>&quot;/r/GeneralMotors/comments/18z96ud/references/&quot;</td><td>&quot;References&quot;</td><td>&quot;https://www.reddit.com/r/GeneralMotors/comments/18z96ud/references/&quot;</td><td>&quot;GeneralMotors&quot;</td><td>null</td><td>null</td><td>null</td><td>&quot;General Motors, GM\n",
       "\n",
       "So I know GM makes a big deal about not allowing employees to provide reference…</td></tr><tr><td>&quot;submission&quot;</td><td>&quot;2024-01-05T10:15:42&quot;</td><td>&quot;18z96ud&quot;</td><td>&quot;t3_18z96ud&quot;</td><td>1704467742</td><td>&quot;Jmill2000&quot;</td><td>&quot;So I know GM makes a big deal about not allowing employees to provide references. I don’t have many…</td><td>&quot;/r/GeneralMotors/comments/18z96ud/references/&quot;</td><td>&quot;References&quot;</td><td>&quot;https://www.reddit.com/r/GeneralMotors/comments/18z96ud/references/&quot;</td><td>&quot;GeneralMotors&quot;</td><td>null</td><td>null</td><td>null</td><td>&quot;General Motors, GM\n",
       "\n",
       "I think that’s all GM can provide, but I’m not sure what the number/email is to…</td></tr><tr><td>&quot;comment&quot;</td><td>&quot;2024-01-05T10:36:12&quot;</td><td>&quot;kgfznkx&quot;</td><td>&quot;t1_kgfznkx&quot;</td><td>1704468972</td><td>&quot;warwolf0&quot;</td><td>&quot;Yea, that’s a load of shit by SLT btw. I get no references in LinkedIn to some extent but for inter…</td><td>&quot;/r/GeneralMotors/comments/18z96ud/references/kgfznkx/&quot;</td><td>null</td><td>null</td><td>&quot;GeneralMotors&quot;</td><td>&quot;t3_18z96ud&quot;</td><td>&quot;t3_18z96ud&quot;</td><td>&quot;18z96ud&quot;</td><td>&quot;General Motors, GM\n",
       "\n",
       "Yea, that’s a load of shit by SLT btw. I get no references in LinkedIn to some …</td></tr><tr><td>&quot;comment&quot;</td><td>&quot;2024-01-05T10:39:14&quot;</td><td>&quot;kgg05vt&quot;</td><td>&quot;t1_kgg05vt&quot;</td><td>1704469154</td><td>&quot;tossedawaythequeen&quot;</td><td>&quot;Search Socrates for “the work number”.  That is the employment verification service GM uses for emp…</td><td>&quot;/r/GeneralMotors/comments/18z96ud/references/kgg05vt/&quot;</td><td>null</td><td>null</td><td>&quot;GeneralMotors&quot;</td><td>&quot;t3_18z96ud&quot;</td><td>&quot;t3_18z96ud&quot;</td><td>&quot;18z96ud&quot;</td><td>&quot;General Motors, GM\n",
       "\n",
       "Search Socrates for “the work number”.  That is the employment verification ser…</td></tr><tr><td>&quot;comment&quot;</td><td>&quot;2024-01-05T10:42:50&quot;</td><td>&quot;kgg0rjf&quot;</td><td>&quot;t1_kgg0rjf&quot;</td><td>1704469370</td><td>&quot;Ripinpasta69&quot;</td><td>&quot;Only works if you are in the USA&quot;</td><td>&quot;/r/GeneralMotors/comments/18z96ud/references/kgg0rjf/&quot;</td><td>null</td><td>null</td><td>&quot;GeneralMotors&quot;</td><td>&quot;t3_18z96ud&quot;</td><td>&quot;t1_kgg05vt&quot;</td><td>&quot;18z96ud&quot;</td><td>&quot;General Motors, GM\n",
       "\n",
       "Only works if you are in the USA&quot;</td></tr></tbody></table></div>"
      ],
      "text/plain": [
       "shape: (5, 15)\n",
       "┌───────────┬───────────┬───────────┬───────────┬───┬───────────┬───────────┬───────────┬──────────┐\n",
       "│ aware_pos ┆ aware_cre ┆ reddit_id ┆ reddit_na ┆ … ┆ reddit_li ┆ reddit_pa ┆ reddit_su ┆ text_chu │\n",
       "│ t_type    ┆ ated_ts   ┆ ---       ┆ me        ┆   ┆ nk_id     ┆ rent_id   ┆ bmission  ┆ nk       │\n",
       "│ ---       ┆ ---       ┆ str       ┆ ---       ┆   ┆ ---       ┆ ---       ┆ ---       ┆ ---      │\n",
       "│ str       ┆ str       ┆           ┆ str       ┆   ┆ str       ┆ str       ┆ str       ┆ str      │\n",
       "╞═══════════╪═══════════╪═══════════╪═══════════╪═══╪═══════════╪═══════════╪═══════════╪══════════╡\n",
       "│ submissio ┆ 2024-01-0 ┆ 18z96ud   ┆ t3_18z96u ┆ … ┆ null      ┆ null      ┆ null      ┆ General  │\n",
       "│ n         ┆ 5T10:15:4 ┆           ┆ d         ┆   ┆           ┆           ┆           ┆ Motors,  │\n",
       "│           ┆ 2         ┆           ┆           ┆   ┆           ┆           ┆           ┆ GM       │\n",
       "│           ┆           ┆           ┆           ┆   ┆           ┆           ┆           ┆          │\n",
       "│           ┆           ┆           ┆           ┆   ┆           ┆           ┆           ┆ So I     │\n",
       "│           ┆           ┆           ┆           ┆   ┆           ┆           ┆           ┆ know GM  │\n",
       "│           ┆           ┆           ┆           ┆   ┆           ┆           ┆           ┆ makes a  │\n",
       "│           ┆           ┆           ┆           ┆   ┆           ┆           ┆           ┆ big deal │\n",
       "│           ┆           ┆           ┆           ┆   ┆           ┆           ┆           ┆ about    │\n",
       "│           ┆           ┆           ┆           ┆   ┆           ┆           ┆           ┆ not      │\n",
       "│           ┆           ┆           ┆           ┆   ┆           ┆           ┆           ┆ allowing │\n",
       "│           ┆           ┆           ┆           ┆   ┆           ┆           ┆           ┆ employee │\n",
       "│           ┆           ┆           ┆           ┆   ┆           ┆           ┆           ┆ s to     │\n",
       "│           ┆           ┆           ┆           ┆   ┆           ┆           ┆           ┆ provide  │\n",
       "│           ┆           ┆           ┆           ┆   ┆           ┆           ┆           ┆ referenc │\n",
       "│           ┆           ┆           ┆           ┆   ┆           ┆           ┆           ┆ es…      │\n",
       "│ submissio ┆ 2024-01-0 ┆ 18z96ud   ┆ t3_18z96u ┆ … ┆ null      ┆ null      ┆ null      ┆ General  │\n",
       "│ n         ┆ 5T10:15:4 ┆           ┆ d         ┆   ┆           ┆           ┆           ┆ Motors,  │\n",
       "│           ┆ 2         ┆           ┆           ┆   ┆           ┆           ┆           ┆ GM       │\n",
       "│           ┆           ┆           ┆           ┆   ┆           ┆           ┆           ┆          │\n",
       "│           ┆           ┆           ┆           ┆   ┆           ┆           ┆           ┆ I think  │\n",
       "│           ┆           ┆           ┆           ┆   ┆           ┆           ┆           ┆ that’s   │\n",
       "│           ┆           ┆           ┆           ┆   ┆           ┆           ┆           ┆ all GM   │\n",
       "│           ┆           ┆           ┆           ┆   ┆           ┆           ┆           ┆ can      │\n",
       "│           ┆           ┆           ┆           ┆   ┆           ┆           ┆           ┆ provide, │\n",
       "│           ┆           ┆           ┆           ┆   ┆           ┆           ┆           ┆ but I’m  │\n",
       "│           ┆           ┆           ┆           ┆   ┆           ┆           ┆           ┆ not sure │\n",
       "│           ┆           ┆           ┆           ┆   ┆           ┆           ┆           ┆ what the │\n",
       "│           ┆           ┆           ┆           ┆   ┆           ┆           ┆           ┆ number/e │\n",
       "│           ┆           ┆           ┆           ┆   ┆           ┆           ┆           ┆ mail is  │\n",
       "│           ┆           ┆           ┆           ┆   ┆           ┆           ┆           ┆ to …     │\n",
       "│ comment   ┆ 2024-01-0 ┆ kgfznkx   ┆ t1_kgfznk ┆ … ┆ t3_18z96u ┆ t3_18z96u ┆ 18z96ud   ┆ General  │\n",
       "│           ┆ 5T10:36:1 ┆           ┆ x         ┆   ┆ d         ┆ d         ┆           ┆ Motors,  │\n",
       "│           ┆ 2         ┆           ┆           ┆   ┆           ┆           ┆           ┆ GM       │\n",
       "│           ┆           ┆           ┆           ┆   ┆           ┆           ┆           ┆          │\n",
       "│           ┆           ┆           ┆           ┆   ┆           ┆           ┆           ┆ Yea,     │\n",
       "│           ┆           ┆           ┆           ┆   ┆           ┆           ┆           ┆ that’s a │\n",
       "│           ┆           ┆           ┆           ┆   ┆           ┆           ┆           ┆ load of  │\n",
       "│           ┆           ┆           ┆           ┆   ┆           ┆           ┆           ┆ shit by  │\n",
       "│           ┆           ┆           ┆           ┆   ┆           ┆           ┆           ┆ SLT btw. │\n",
       "│           ┆           ┆           ┆           ┆   ┆           ┆           ┆           ┆ I get no │\n",
       "│           ┆           ┆           ┆           ┆   ┆           ┆           ┆           ┆ referenc │\n",
       "│           ┆           ┆           ┆           ┆   ┆           ┆           ┆           ┆ es in    │\n",
       "│           ┆           ┆           ┆           ┆   ┆           ┆           ┆           ┆ LinkedIn │\n",
       "│           ┆           ┆           ┆           ┆   ┆           ┆           ┆           ┆ to some  │\n",
       "│           ┆           ┆           ┆           ┆   ┆           ┆           ┆           ┆ e…       │\n",
       "│ comment   ┆ 2024-01-0 ┆ kgg05vt   ┆ t1_kgg05v ┆ … ┆ t3_18z96u ┆ t3_18z96u ┆ 18z96ud   ┆ General  │\n",
       "│           ┆ 5T10:39:1 ┆           ┆ t         ┆   ┆ d         ┆ d         ┆           ┆ Motors,  │\n",
       "│           ┆ 4         ┆           ┆           ┆   ┆           ┆           ┆           ┆ GM       │\n",
       "│           ┆           ┆           ┆           ┆   ┆           ┆           ┆           ┆          │\n",
       "│           ┆           ┆           ┆           ┆   ┆           ┆           ┆           ┆ Search   │\n",
       "│           ┆           ┆           ┆           ┆   ┆           ┆           ┆           ┆ Socrates │\n",
       "│           ┆           ┆           ┆           ┆   ┆           ┆           ┆           ┆ for “the │\n",
       "│           ┆           ┆           ┆           ┆   ┆           ┆           ┆           ┆ work     │\n",
       "│           ┆           ┆           ┆           ┆   ┆           ┆           ┆           ┆ number”. │\n",
       "│           ┆           ┆           ┆           ┆   ┆           ┆           ┆           ┆ That is  │\n",
       "│           ┆           ┆           ┆           ┆   ┆           ┆           ┆           ┆ the empl │\n",
       "│           ┆           ┆           ┆           ┆   ┆           ┆           ┆           ┆ oyment   │\n",
       "│           ┆           ┆           ┆           ┆   ┆           ┆           ┆           ┆ verifica │\n",
       "│           ┆           ┆           ┆           ┆   ┆           ┆           ┆           ┆ tion     │\n",
       "│           ┆           ┆           ┆           ┆   ┆           ┆           ┆           ┆ serv…    │\n",
       "│ comment   ┆ 2024-01-0 ┆ kgg0rjf   ┆ t1_kgg0rj ┆ … ┆ t3_18z96u ┆ t1_kgg05v ┆ 18z96ud   ┆ General  │\n",
       "│           ┆ 5T10:42:5 ┆           ┆ f         ┆   ┆ d         ┆ t         ┆           ┆ Motors,  │\n",
       "│           ┆ 0         ┆           ┆           ┆   ┆           ┆           ┆           ┆ GM       │\n",
       "│           ┆           ┆           ┆           ┆   ┆           ┆           ┆           ┆          │\n",
       "│           ┆           ┆           ┆           ┆   ┆           ┆           ┆           ┆ Only     │\n",
       "│           ┆           ┆           ┆           ┆   ┆           ┆           ┆           ┆ works if │\n",
       "│           ┆           ┆           ┆           ┆   ┆           ┆           ┆           ┆ you are  │\n",
       "│           ┆           ┆           ┆           ┆   ┆           ┆           ┆           ┆ in the   │\n",
       "│           ┆           ┆           ┆           ┆   ┆           ┆           ┆           ┆ USA      │\n",
       "└───────────┴───────────┴───────────┴───────────┴───┴───────────┴───────────┴───────────┴──────────┘"
      ]
     },
     "execution_count": 7,
     "metadata": {},
     "output_type": "execute_result"
    }
   ],
   "source": [
    "## Chunking with metadata\n",
    "data_chunked_with_metadata = chunk.chunk_preprocessed_data_with_subreddit(\n",
    "    data_preprocessed=data_preprocessed, \n",
    "    chunk_size=512, \n",
    "    chunk_overlap_pct=.2)\n",
    "\n",
    "pl.Config.set_fmt_str_lengths(100)\n",
    "data_chunked_with_metadata.head(5)"
   ]
  },
  {
   "cell_type": "code",
   "execution_count": 8,
   "id": "9600e13a-ca8a-4cf6-a860-bae8610a0b52",
   "metadata": {},
   "outputs": [
    {
     "data": {
      "text/html": [
       "<div><style>\n",
       ".dataframe > thead > tr,\n",
       ".dataframe > tbody > tr {\n",
       "  text-align: right;\n",
       "  white-space: pre-wrap;\n",
       "}\n",
       "</style>\n",
       "<small>shape: (41_559, 2)</small><table border=\"1\" class=\"dataframe\"><thead><tr><th>reddit_text</th><th>text_chunk</th></tr><tr><td>str</td><td>str</td></tr></thead><tbody><tr><td>&quot;So I know GM makes a big deal about not allowing employees to provide references. I don’t have many people who no longer work with GM who I worked with close enough to provide a reference. Since I’ve only ever worked for GM, besides internships, I’d like to at least be able to list something for references. Is there an HR number or email I am able to add to at least verify employment. \n",
       "\n",
       "I think that’s all GM can provide, but I’m not sure what the number/email is to do that. Does anyone know or have any advice? Thanks&quot;</td><td>&quot;General Motors, GM\n",
       "\n",
       "So I know GM makes a big deal about not allowing employees to provide references. I don’t have many people who no longer work with GM who I worked with close enough to provide a reference. Since I’ve only ever worked for GM, besides internships, I’d like to at least be able to list something for references. Is there an HR number or email I am able to add to at least verify employment.&quot;</td></tr><tr><td>&quot;So I know GM makes a big deal about not allowing employees to provide references. I don’t have many people who no longer work with GM who I worked with close enough to provide a reference. Since I’ve only ever worked for GM, besides internships, I’d like to at least be able to list something for references. Is there an HR number or email I am able to add to at least verify employment. \n",
       "\n",
       "I think that’s all GM can provide, but I’m not sure what the number/email is to do that. Does anyone know or have any advice? Thanks&quot;</td><td>&quot;General Motors, GM\n",
       "\n",
       "I think that’s all GM can provide, but I’m not sure what the number/email is to do that. Does anyone know or have any advice? Thanks&quot;</td></tr><tr><td>&quot;Yea, that’s a load of shit by SLT btw. I get no references in LinkedIn to some extent but for interviews outside etc… what they say should be illegal frankly&quot;</td><td>&quot;General Motors, GM\n",
       "\n",
       "Yea, that’s a load of shit by SLT btw. I get no references in LinkedIn to some extent but for interviews outside etc… what they say should be illegal frankly&quot;</td></tr><tr><td>&quot;Search Socrates for “the work number”.  That is the employment verification service GM uses for employees.&quot;</td><td>&quot;General Motors, GM\n",
       "\n",
       "Search Socrates for “the work number”.  That is the employment verification service GM uses for employees.&quot;</td></tr><tr><td>&quot;Only works if you are in the USA&quot;</td><td>&quot;General Motors, GM\n",
       "\n",
       "Only works if you are in the USA&quot;</td></tr><tr><td>&hellip;</td><td>&hellip;</td></tr><tr><td>&quot;Would love for that to be true, but was he really the only higher-up pushing for RTO?&quot;</td><td>&quot;General Motors, GM\n",
       "\n",
       "Would love for that to be true, but was he really the only higher-up pushing for RTO?&quot;</td></tr><tr><td>&quot;lol. Mgmt and share holders already know. What you think is Gm verse.  It is all ecosystem of no code tools based services for embedded software    Sellers in market will use AI and no code tools to provide same that current chaps do in GM&quot;</td><td>&quot;General Motors, GM\n",
       "\n",
       "lol. Mgmt and share holders already know. What you think is Gm verse.  It is all ecosystem of no code tools based services for embedded software    Sellers in market will use AI and no code tools to provide same that current chaps do in GM&quot;</td></tr><tr><td>&quot;Baby those days are gone when complexity was on class diagram or in api design interfaces or protocol stacks code  U refine the requirements with good prompts. Bingo here come the tested code.   Use memory safe new language with framework of flexible api.  AI will put application in minutes&quot;</td><td>&quot;General Motors, GM\n",
       "\n",
       "Baby those days are gone when complexity was on class diagram or in api design interfaces or protocol stacks code  U refine the requirements with good prompts. Bingo here come the tested code.   Use memory safe new language with framework of flexible api.  AI will put application in minutes&quot;</td></tr><tr><td>&quot;This shit just sounds like tech word salad from a bad LLM lol.&quot;</td><td>&quot;General Motors, GM\n",
       "\n",
       "This shit just sounds like tech word salad from a bad LLM lol.&quot;</td></tr><tr><td>&quot;Haha.  The activation function used seems to train model response baised. Test and train data moving the model response only down the hill&quot;</td><td>&quot;General Motors, GM\n",
       "\n",
       "Haha.  The activation function used seems to train model response baised. Test and train data moving the model response only down the hill&quot;</td></tr></tbody></table></div>"
      ],
      "text/plain": [
       "shape: (41_559, 2)\n",
       "┌─────────────────────────────────────────────────┬────────────────────────────────────────────────┐\n",
       "│ reddit_text                                     ┆ text_chunk                                     │\n",
       "│ ---                                             ┆ ---                                            │\n",
       "│ str                                             ┆ str                                            │\n",
       "╞═════════════════════════════════════════════════╪════════════════════════════════════════════════╡\n",
       "│ So I know GM makes a big deal about not         ┆ General Motors, GM                             │\n",
       "│ allowing employees to provide references. I     ┆                                                │\n",
       "│ don’t have many people who no longer work with  ┆ So I know GM makes a big deal about not        │\n",
       "│ GM who I worked with close enough to provide a  ┆ allowing employees to provide references. I    │\n",
       "│ reference. Since I’ve only ever worked for GM,  ┆ don’t have many people who no longer work with │\n",
       "│ besides internships, I’d like to at least be    ┆ GM who I worked with close enough to provide a │\n",
       "│ able to list something for references. Is there ┆ reference. Since I’ve only ever worked for GM, │\n",
       "│ an HR number or email I am able to add to at    ┆ besides internships, I’d like to at least be   │\n",
       "│ least verify employment.                        ┆ able to list something for references. Is      │\n",
       "│                                                 ┆ there an HR number or email I am able to add   │\n",
       "│ I think that’s all GM can provide, but I’m not  ┆ to at least verify employment.                 │\n",
       "│ sure what the number/email is to do that. Does  ┆                                                │\n",
       "│ anyone know or have any advice? Thanks          ┆                                                │\n",
       "│ So I know GM makes a big deal about not         ┆ General Motors, GM                             │\n",
       "│ allowing employees to provide references. I     ┆                                                │\n",
       "│ don’t have many people who no longer work with  ┆ I think that’s all GM can provide, but I’m not │\n",
       "│ GM who I worked with close enough to provide a  ┆ sure what the number/email is to do that. Does │\n",
       "│ reference. Since I’ve only ever worked for GM,  ┆ anyone know or have any advice? Thanks         │\n",
       "│ besides internships, I’d like to at least be    ┆                                                │\n",
       "│ able to list something for references. Is there ┆                                                │\n",
       "│ an HR number or email I am able to add to at    ┆                                                │\n",
       "│ least verify employment.                        ┆                                                │\n",
       "│                                                 ┆                                                │\n",
       "│ I think that’s all GM can provide, but I’m not  ┆                                                │\n",
       "│ sure what the number/email is to do that. Does  ┆                                                │\n",
       "│ anyone know or have any advice? Thanks          ┆                                                │\n",
       "│ Yea, that’s a load of shit by SLT btw. I get no ┆ General Motors, GM                             │\n",
       "│ references in LinkedIn to some extent but for   ┆                                                │\n",
       "│ interviews outside etc… what they say should be ┆ Yea, that’s a load of shit by SLT btw. I get   │\n",
       "│ illegal frankly                                 ┆ no references in LinkedIn to some extent but   │\n",
       "│                                                 ┆ for interviews outside etc… what they say      │\n",
       "│                                                 ┆ should be illegal frankly                      │\n",
       "│ Search Socrates for “the work number”.  That is ┆ General Motors, GM                             │\n",
       "│ the employment verification service GM uses for ┆                                                │\n",
       "│ employees.                                      ┆ Search Socrates for “the work number”.  That   │\n",
       "│                                                 ┆ is the employment verification service GM uses │\n",
       "│                                                 ┆ for employees.                                 │\n",
       "│ Only works if you are in the USA                ┆ General Motors, GM                             │\n",
       "│                                                 ┆                                                │\n",
       "│                                                 ┆ Only works if you are in the USA               │\n",
       "│ …                                               ┆ …                                              │\n",
       "│ Would love for that to be true, but was he      ┆ General Motors, GM                             │\n",
       "│ really the only higher-up pushing for RTO?      ┆                                                │\n",
       "│                                                 ┆ Would love for that to be true, but was he     │\n",
       "│                                                 ┆ really the only higher-up pushing for RTO?     │\n",
       "│ lol. Mgmt and share holders already know. What  ┆ General Motors, GM                             │\n",
       "│ you think is Gm verse.  It is all ecosystem of  ┆                                                │\n",
       "│ no code tools based services for embedded       ┆ lol. Mgmt and share holders already know. What │\n",
       "│ software    Sellers in market will use AI and   ┆ you think is Gm verse.  It is all ecosystem of │\n",
       "│ no code tools to provide same that current      ┆ no code tools based services for embedded      │\n",
       "│ chaps do in GM                                  ┆ software    Sellers in market will use AI and  │\n",
       "│                                                 ┆ no code tools to provide same that current     │\n",
       "│                                                 ┆ chaps do in GM                                 │\n",
       "│ Baby those days are gone when complexity was on ┆ General Motors, GM                             │\n",
       "│ class diagram or in api design interfaces or    ┆                                                │\n",
       "│ protocol stacks code  U refine the requirements ┆ Baby those days are gone when complexity was   │\n",
       "│ with good prompts. Bingo here come the tested   ┆ on class diagram or in api design interfaces   │\n",
       "│ code.   Use memory safe new language with       ┆ or protocol stacks code  U refine the          │\n",
       "│ framework of flexible api.  AI will put         ┆ requirements with good prompts. Bingo here     │\n",
       "│ application in minutes                          ┆ come the tested code.   Use memory safe new    │\n",
       "│                                                 ┆ language with framework of flexible api.  AI   │\n",
       "│                                                 ┆ will put application in minutes                │\n",
       "│ This shit just sounds like tech word salad from ┆ General Motors, GM                             │\n",
       "│ a bad LLM lol.                                  ┆                                                │\n",
       "│                                                 ┆ This shit just sounds like tech word salad     │\n",
       "│                                                 ┆ from a bad LLM lol.                            │\n",
       "│ Haha.  The activation function used seems to    ┆ General Motors, GM                             │\n",
       "│ train model response baised. Test and train     ┆                                                │\n",
       "│ data moving the model response only down the    ┆ Haha.  The activation function used seems to   │\n",
       "│ hill                                            ┆ train model response baised. Test and train    │\n",
       "│                                                 ┆ data moving the model response only down the   │\n",
       "│                                                 ┆ hill                                           │\n",
       "└─────────────────────────────────────────────────┴────────────────────────────────────────────────┘"
      ]
     },
     "execution_count": 8,
     "metadata": {},
     "output_type": "execute_result"
    }
   ],
   "source": [
    "pl.Config.set_fmt_str_lengths(3000)\n",
    "data_chunked_with_metadata[[\"reddit_text\", \"text_chunk\"]]"
   ]
  },
  {
   "cell_type": "code",
   "execution_count": null,
   "id": "eb429816-c6b3-417f-b58a-4e178b02ad45",
   "metadata": {
    "editable": true,
    "slideshow": {
     "slide_type": ""
    },
    "tags": []
   },
   "outputs": [],
   "source": []
  }
 ],
 "metadata": {
  "kernelspec": {
   "display_name": "Python [conda env:aware] *",
   "language": "python",
   "name": "conda-env-aware-py"
  },
  "language_info": {
   "codemirror_mode": {
    "name": "ipython",
    "version": 3
   },
   "file_extension": ".py",
   "mimetype": "text/x-python",
   "name": "python",
   "nbconvert_exporter": "python",
   "pygments_lexer": "ipython3",
   "version": "3.11.8"
  }
 },
 "nbformat": 4,
 "nbformat_minor": 5
}
