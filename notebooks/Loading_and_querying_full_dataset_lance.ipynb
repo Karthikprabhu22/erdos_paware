{
 "cells": [
  {
   "cell_type": "code",
   "execution_count": 97,
   "id": "5376755d-2f49-4dba-ac1d-5042fe104ee4",
   "metadata": {},
   "outputs": [],
   "source": [
    "import os\n",
    "import lancedb\n",
    "import polars as pl\n",
    "\n",
    "#print(filenames,len(filenames))"
   ]
  },
  {
   "cell_type": "code",
   "execution_count": 107,
   "id": "1e0bd521-901d-4fae-8937-bb61cbd0f63c",
   "metadata": {},
   "outputs": [
    {
     "name": "stdout",
     "output_type": "stream",
     "text": [
      "['vectorized_config_00_data_pt7.parquet', '.DS_Store', 'vectorized_config_00_data_pt6.parquet', 'Config_00_lancedb', 'vectorized_config_00_data_pt4.parquet', 'query_results_config_00_metric_L2_full.parquet', 'vectorized_config_00_data_pt5.parquet', 'query_results_config_00_metric_cosine_full.parquet', 'vectorized_config_00_data_pt9.parquet', 'vectorized_config_00_data_pt0.parquet', 'vectorized_config_00_data_pt1.parquet', 'vectorized_config_00_data_pt8.parquet', 'vectorized_config_00_data_pt3.parquet', 'vectorized_config_00_data_pt10.parquet', 'vectorized_config_00_data_pt2.parquet']\n",
      "['vectorized_config_00_data_pt7.parquet', 'vectorized_config_00_data_pt6.parquet', 'Config_00_lancedb', 'vectorized_config_00_data_pt4.parquet', 'query_results_config_00_metric_L2_full.parquet', 'vectorized_config_00_data_pt5.parquet', 'query_results_config_00_metric_cosine_full.parquet', 'vectorized_config_00_data_pt9.parquet', 'vectorized_config_00_data_pt0.parquet', 'vectorized_config_00_data_pt1.parquet', 'vectorized_config_00_data_pt8.parquet', 'vectorized_config_00_data_pt3.parquet', 'vectorized_config_00_data_pt10.parquet', 'vectorized_config_00_data_pt2.parquet'] 14\n"
     ]
    }
   ],
   "source": [
    "#from ipywidgets import interact, interactive, fixed, interact_manual, controls\n",
    "import ipywidgets\n",
    "from sentence_transformers import SentenceTransformer, util, InputExample, losses\n",
    "from langchain_text_splitters import RecursiveCharacterTextSplitter\n",
    "model = SentenceTransformer(\"thenlper/gte-base\")\n",
    "\n",
    "config=\"00\"\n",
    "met=\"cosine\"\n",
    "\n",
    "filenames = os.listdir(\"../config_%s\"%config)   #Not sure why .DS_Store shows up in some folders, if not then comment out the .remove line\n",
    "print(filenames)\n",
    "if '.DS_Store' in filenames:\n",
    "   filenames.remove('.DS_Store')\n",
    "print(filenames,len(filenames))\n",
    "\n"
   ]
  },
  {
   "cell_type": "code",
   "execution_count": 108,
   "id": "03ba851b-6058-4b57-8879-35afc3020fd9",
   "metadata": {},
   "outputs": [],
   "source": [
    "## Initialize a database\n",
    "db = lancedb.connect(\"../config_%s/Config_%s_lancedb\"%(config,config))"
   ]
  },
  {
   "cell_type": "code",
   "execution_count": 109,
   "id": "1c2beac5-5dcb-4f43-b9bf-7ac6bf68092d",
   "metadata": {},
   "outputs": [],
   "source": [
    "filenames_data = []\n",
    "for i in range(len(filenames)):\n",
    "    if filenames[i].startswith('vectorized_config'):\n",
    "       filenames_data.append(filenames[i]) \n",
    "#print(filenames_data)"
   ]
  },
  {
   "cell_type": "code",
   "execution_count": null,
   "id": "6c8c07cf-7dc1-49f4-886c-978333cafa66",
   "metadata": {},
   "outputs": [
    {
     "name": "stdout",
     "output_type": "stream",
     "text": [
      "added vectorized_config_00_data_pt1.parquet to database\n",
      "added vectorized_config_00_data_pt2.parquet to database\n",
      "added vectorized_config_00_data_pt3.parquet to database\n"
     ]
    }
   ],
   "source": [
    "%%time\n",
    "\n",
    "## Load the first data file\n",
    "data = pl.read_parquet(\"../config_%s/vectorized_config_%s_data_pt0.parquet\"%(config,config))\n",
    "## Create a table in the database based on the first file, ignore warning if the table already exists. Use mode=\"overwrite\" if you want scorched earth\n",
    "table = db.create_table(\"Config_%s_table\"%config, data=data,mode=\"overwrite\")\n",
    "    \n",
    "## Load the remaining data into the table, one file at a time, there are 11 of them in total\n",
    "\n",
    "for i in range(1,len(filenames_data)):\n",
    "    data = pl.read_parquet(\"../config_%s/vectorized_config_%s_data_pt%s.parquet\"%(config,config,str(i)))\n",
    "    table.add(data)\n",
    "    print(f\"added vectorized_config_{config}_data_pt{i}.parquet to database\")\n",
    "    "
   ]
  },
  {
   "cell_type": "code",
   "execution_count": null,
   "id": "de5adab4-984b-49e7-a560-7fadb9527ac7",
   "metadata": {},
   "outputs": [],
   "source": []
  },
  {
   "cell_type": "markdown",
   "id": "5c75caac-1373-4812-bccf-40e6ec53348c",
   "metadata": {},
   "source": [
    "### Build ANN Index"
   ]
  },
  {
   "cell_type": "code",
   "execution_count": null,
   "id": "8b201d3c-c2d9-4ef7-85c0-e3d7ba3f5736",
   "metadata": {},
   "outputs": [],
   "source": [
    "%%time\n",
    "## Build the ANN Index\n",
    "## https://lancedb.github.io/lancedb/ann_indexes/#creating-an-ivf_pq-index\n",
    "table.create_index(met,num_partitions=1024,num_sub_vectors=96,accelerator=\"mps\") ## to use Apple Metal\n",
    "## It is safe to ignore the UserWarning:..."
   ]
  },
  {
   "cell_type": "code",
   "execution_count": null,
   "id": "42650750-8dda-408f-99bf-135eb1ce74d7",
   "metadata": {},
   "outputs": [],
   "source": [
    "import time\n",
    "\n",
    "def make_query(query_text, num_results=50, probes=20, refine_factor=10):\n",
    "    \n",
    "    start_time = time.time()\n",
    "    ## Embed query\n",
    "    query = model.encode(query_text)\n",
    "\n",
    "    ## Perform search with the metric specified by the variable met\n",
    "    \n",
    "    result = table.search(query).metric(met).limit(num_results).nprobes(20).refine_factor(10).to_polars()\n",
    "    end_time = time.time()\n",
    "    print(result.shape)\n",
    "    result.head()\n",
    "    result_query_pair = result.with_columns(pl.lit(query_text).alias(\"query_text\"))\n",
    "    print(f\"Time elapsed this query: {(end_time - start_time):.4f} seconds\")\n",
    "    return result_query_pair"
   ]
  },
  {
   "cell_type": "code",
   "execution_count": null,
   "id": "cf427051-7edf-4b02-a1fe-b1b4b3d8ed9e",
   "metadata": {},
   "outputs": [],
   "source": [
    "data_file = 'Queries.txt'\n",
    "query_file = open(data_file, 'r')\n",
    "queries = query_file.readlines()\n",
    "query_file.close()\n",
    "\n",
    "# query file is loaded, start asking questions one by one\n",
    "pl.Config.set_fmt_str_lengths(3000)\n",
    "\n",
    "# Ask our first query\n",
    "Replies = make_query(queries[0].strip('\\n').strip(' '))\n",
    "Replies.shape\n",
    "#print(Replies)\n",
    "    "
   ]
  },
  {
   "cell_type": "code",
   "execution_count": null,
   "id": "c1bd278c-f057-437f-88cb-e80ce7840b1c",
   "metadata": {},
   "outputs": [],
   "source": [
    "# Let's ask the remaining queries\n",
    "\n",
    "for i in range(1,len(queries)):\n",
    "    replies = make_query(queries[i].strip('\\n').strip(' '))\n",
    "    \n",
    "    Replies.extend(replies)"
   ]
  },
  {
   "cell_type": "code",
   "execution_count": 106,
   "id": "d45558fa-0d96-4996-8564-b32f8e5b9e74",
   "metadata": {},
   "outputs": [
    {
     "name": "stdout",
     "output_type": "stream",
     "text": [
      "(1300, 23)\n"
     ]
    }
   ],
   "source": [
    "# Adding scoring columns for humans\n",
    "\n",
    "raw_results = Replies.with_columns([pl.lit(None).alias(\"mo_label\"),pl.lit(None).alias(\"kk_label\"),pl.lit(None).alias(\"kp_label\")\n",
    "                      ,pl.lit(None).alias(\"dr_label\"),pl.lit(None).alias(\"sr_label\")])\n",
    "print(raw_results.shape)\n",
    "raw_results.head\n",
    "\n",
    "#save to parquet file\n",
    "raw_results.write_parquet('../config_%s/query_results_config_%s_metric_%s_full.parquet'%(config,config,met))"
   ]
  },
  {
   "cell_type": "code",
   "execution_count": null,
   "id": "913562b2-5db2-4a0a-b929-dfef66939711",
   "metadata": {},
   "outputs": [],
   "source": []
  }
 ],
 "metadata": {
  "kernelspec": {
   "display_name": "Python 3 (ipykernel)",
   "language": "python",
   "name": "python3"
  },
  "language_info": {
   "codemirror_mode": {
    "name": "ipython",
    "version": 3
   },
   "file_extension": ".py",
   "mimetype": "text/x-python",
   "name": "python",
   "nbconvert_exporter": "python",
   "pygments_lexer": "ipython3",
   "version": "3.11.7"
  }
 },
 "nbformat": 4,
 "nbformat_minor": 5
}
