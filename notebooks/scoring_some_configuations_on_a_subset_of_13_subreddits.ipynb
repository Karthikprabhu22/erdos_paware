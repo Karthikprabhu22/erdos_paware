{
 "cells": [
  {
   "cell_type": "code",
   "execution_count": 1,
   "metadata": {},
   "outputs": [],
   "source": [
    "## Add this directory to the path and load our functions\n",
    "import sys\n",
    "sys.path.append(\"../src/\")\n",
    "\n",
    "import polars as pl\n",
    "\n",
    "import paware\n",
    "\n",
    "import os"
   ]
  },
  {
   "cell_type": "markdown",
   "metadata": {},
   "source": [
    "# Reciprocal Rank Scores"
   ]
  },
  {
   "cell_type": "code",
   "execution_count": 2,
   "metadata": {},
   "outputs": [],
   "source": [
    "files = [f for f in os.listdir(\"../query_results/\") if f[0]!='.']\n",
    "\n",
    "score_tool = paware.PawScores(\"../query_results/\"+files[0])\n",
    "score_tool.compute_rr_scores()\n",
    "\n",
    "query_scores = score_tool.get_rr_scores()\n",
    "rr_df = pl.DataFrame({\"query\":query_scores.keys(), \"rr_score_\"+files[0].split(\".\")[0]:query_scores.values()})\n",
    "\n",
    "for f in files[1:]:\n",
    "    score_tool = paware.PawScores(\"../query_results/\"+f)\n",
    "    score_tool.compute_rr_scores()\n",
    "    query_scores = score_tool.get_rr_scores()\n",
    "    current =  pl.DataFrame({\"query\":query_scores.keys(),\n",
    "                             \"rr_score_\"+f.split(\".\")[0]:query_scores.values()})\n",
    "    rr_df = rr_df.join(current, on=\"query\", how=\"left\")"
   ]
  },
  {
   "cell_type": "code",
   "execution_count": 3,
   "metadata": {},
   "outputs": [
    {
     "data": {
      "text/html": [
       "<div><style>\n",
       ".dataframe > thead > tr,\n",
       ".dataframe > tbody > tr {\n",
       "  text-align: right;\n",
       "  white-space: pre-wrap;\n",
       "}\n",
       "</style>\n",
       "<small>shape: (26, 17)</small><table border=\"1\" class=\"dataframe\"><thead><tr><th>query</th><th>rr_score_queries_0000_base</th><th>rr_score_queries_0100_base</th><th>rr_score_queries_0300_base</th><th>rr_score_queries_0200_filter_submissions</th><th>rr_score_queries_0100_filter_submissions</th><th>rr_score_queries_0200_base</th><th>rr_score_queries_0000_filter_submissions</th><th>rr_score_queries_0100_rerank_agree</th><th>rr_score_queries_0000_filter_submissions_and_rerank_agree</th><th>rr_score_queries_0300_filter_submissions</th><th>rr_score_queries_0200_rerank_agree</th><th>rr_score_queries_0100_filter_submissions_and_rerank_agree</th><th>rr_score_queries_0300_rerank_agree</th><th>rr_score_queries_0200_filter_submissions_and_rerank_agree</th><th>rr_score_queries_0300_filter_submissions_and_rerank_agree</th><th>rr_score_queries_0000_rerank_agree</th></tr><tr><td>str</td><td>f64</td><td>f64</td><td>f64</td><td>f64</td><td>f64</td><td>f64</td><td>f64</td><td>f64</td><td>f64</td><td>f64</td><td>f64</td><td>f64</td><td>f64</td><td>f64</td><td>f64</td><td>f64</td></tr></thead><tbody><tr><td>&quot;How do UPS emp…</td><td>1.0</td><td>0.25</td><td>0.25</td><td>0.5</td><td>0.25</td><td>0.5</td><td>1.0</td><td>0.111111</td><td>0.083333</td><td>0.25</td><td>0.076923</td><td>0.111111</td><td>0.111111</td><td>0.076923</td><td>0.111111</td><td>0.083333</td></tr><tr><td>&quot;When should yo…</td><td>1.0</td><td>0.333333</td><td>1.0</td><td>1.0</td><td>0.333333</td><td>1.0</td><td>1.0</td><td>0.5</td><td>0.333333</td><td>1.0</td><td>0.333333</td><td>0.5</td><td>0.142857</td><td>0.333333</td><td>0.142857</td><td>0.333333</td></tr><tr><td>&quot;What benefits …</td><td>0.333333</td><td>1.0</td><td>1.0</td><td>0.111111</td><td>1.0</td><td>0.111111</td><td>0.333333</td><td>0.038462</td><td>0.076923</td><td>1.0</td><td>0.05</td><td>0.038462</td><td>0.052632</td><td>0.05</td><td>0.052632</td><td>0.076923</td></tr><tr><td>&quot;How much does …</td><td>1.0</td><td>1.0</td><td>0.5</td><td>1.0</td><td>1.0</td><td>1.0</td><td>1.0</td><td>0.333333</td><td>0.166667</td><td>0.5</td><td>0.25</td><td>0.333333</td><td>0.5</td><td>0.25</td><td>0.5</td><td>0.166667</td></tr><tr><td>&quot;What is your f…</td><td>0.333333</td><td>0.333333</td><td>0.25</td><td>0.5</td><td>0.333333</td><td>0.5</td><td>0.333333</td><td>1.0</td><td>0.25</td><td>0.25</td><td>1.0</td><td>1.0</td><td>0.5</td><td>1.0</td><td>0.5</td><td>0.25</td></tr><tr><td>&hellip;</td><td>&hellip;</td><td>&hellip;</td><td>&hellip;</td><td>&hellip;</td><td>&hellip;</td><td>&hellip;</td><td>&hellip;</td><td>&hellip;</td><td>&hellip;</td><td>&hellip;</td><td>&hellip;</td><td>&hellip;</td><td>&hellip;</td><td>&hellip;</td><td>&hellip;</td><td>&hellip;</td></tr><tr><td>&quot;Does your sche…</td><td>1.0</td><td>1.0</td><td>1.0</td><td>1.0</td><td>1.0</td><td>1.0</td><td>1.0</td><td>0.125</td><td>0.2</td><td>1.0</td><td>0.5</td><td>0.125</td><td>0.25</td><td>0.5</td><td>0.25</td><td>0.2</td></tr><tr><td>&quot;What do CVS wo…</td><td>1.0</td><td>1.0</td><td>0.055556</td><td>0.1</td><td>1.0</td><td>0.1</td><td>1.0</td><td>0.166667</td><td>1.0</td><td>0.055556</td><td>0.2</td><td>0.166667</td><td>0.05</td><td>0.2</td><td>0.05</td><td>1.0</td></tr><tr><td>&quot;What kind of b…</td><td>1.0</td><td>1.0</td><td>0.125</td><td>0.333333</td><td>1.0</td><td>0.333333</td><td>1.0</td><td>0.5</td><td>0.142857</td><td>0.125</td><td>0.5</td><td>0.5</td><td>0.5</td><td>0.5</td><td>0.5</td><td>0.142857</td></tr><tr><td>&quot;How often do y…</td><td>0.5</td><td>0.5</td><td>0.2</td><td>0.25</td><td>0.5</td><td>0.25</td><td>0.5</td><td>1.0</td><td>1.0</td><td>0.2</td><td>1.0</td><td>1.0</td><td>1.0</td><td>1.0</td><td>1.0</td><td>1.0</td></tr><tr><td>&quot;What causes ba…</td><td>1.0</td><td>1.0</td><td>1.0</td><td>1.0</td><td>1.0</td><td>1.0</td><td>1.0</td><td>0.333333</td><td>0.333333</td><td>1.0</td><td>0.333333</td><td>0.333333</td><td>0.25</td><td>0.333333</td><td>0.25</td><td>0.333333</td></tr></tbody></table></div>"
      ],
      "text/plain": [
       "shape: (26, 17)\n",
       "┌───────────┬───────────┬───────────┬───────────┬───┬───────────┬───────────┬───────────┬──────────┐\n",
       "│ query     ┆ rr_score_ ┆ rr_score_ ┆ rr_score_ ┆ … ┆ rr_score_ ┆ rr_score_ ┆ rr_score_ ┆ rr_score │\n",
       "│ ---       ┆ queries_0 ┆ queries_0 ┆ queries_0 ┆   ┆ queries_0 ┆ queries_0 ┆ queries_0 ┆ _queries │\n",
       "│ str       ┆ 000_base  ┆ 100_base  ┆ 300_base  ┆   ┆ 300_reran ┆ 200_filte ┆ 300_filte ┆ _0000_re │\n",
       "│           ┆ ---       ┆ ---       ┆ ---       ┆   ┆ k_agr…    ┆ r_sub…    ┆ r_sub…    ┆ rank_agr │\n",
       "│           ┆ f64       ┆ f64       ┆ f64       ┆   ┆ ---       ┆ ---       ┆ ---       ┆ …        │\n",
       "│           ┆           ┆           ┆           ┆   ┆ f64       ┆ f64       ┆ f64       ┆ ---      │\n",
       "│           ┆           ┆           ┆           ┆   ┆           ┆           ┆           ┆ f64      │\n",
       "╞═══════════╪═══════════╪═══════════╪═══════════╪═══╪═══════════╪═══════════╪═══════════╪══════════╡\n",
       "│ How do    ┆ 1.0       ┆ 0.25      ┆ 0.25      ┆ … ┆ 0.111111  ┆ 0.076923  ┆ 0.111111  ┆ 0.083333 │\n",
       "│ UPS       ┆           ┆           ┆           ┆   ┆           ┆           ┆           ┆          │\n",
       "│ employees ┆           ┆           ┆           ┆   ┆           ┆           ┆           ┆          │\n",
       "│ feel      ┆           ┆           ┆           ┆   ┆           ┆           ┆           ┆          │\n",
       "│ about …   ┆           ┆           ┆           ┆   ┆           ┆           ┆           ┆          │\n",
       "│ When      ┆ 1.0       ┆ 0.333333  ┆ 1.0       ┆ … ┆ 0.142857  ┆ 0.333333  ┆ 0.142857  ┆ 0.333333 │\n",
       "│ should    ┆           ┆           ┆           ┆   ┆           ┆           ┆           ┆          │\n",
       "│ you apply ┆           ┆           ┆           ┆   ┆           ┆           ┆           ┆          │\n",
       "│ for a     ┆           ┆           ┆           ┆   ┆           ┆           ┆           ┆          │\n",
       "│ prom…     ┆           ┆           ┆           ┆   ┆           ┆           ┆           ┆          │\n",
       "│ What      ┆ 0.333333  ┆ 1.0       ┆ 1.0       ┆ … ┆ 0.052632  ┆ 0.05      ┆ 0.052632  ┆ 0.076923 │\n",
       "│ benefits  ┆           ┆           ┆           ┆   ┆           ┆           ┆           ┆          │\n",
       "│ do Chase  ┆           ┆           ┆           ┆   ┆           ┆           ┆           ┆          │\n",
       "│ employees ┆           ┆           ┆           ┆   ┆           ┆           ┆           ┆          │\n",
       "│ …         ┆           ┆           ┆           ┆   ┆           ┆           ┆           ┆          │\n",
       "│ How much  ┆ 1.0       ┆ 1.0       ┆ 0.5       ┆ … ┆ 0.5       ┆ 0.25      ┆ 0.5       ┆ 0.166667 │\n",
       "│ does a    ┆           ┆           ┆           ┆   ┆           ┆           ┆           ┆          │\n",
       "│ driver    ┆           ┆           ┆           ┆   ┆           ┆           ┆           ┆          │\n",
       "│ make      ┆           ┆           ┆           ┆   ┆           ┆           ┆           ┆          │\n",
       "│ with…     ┆           ┆           ┆           ┆   ┆           ┆           ┆           ┆          │\n",
       "│ What is   ┆ 0.333333  ┆ 0.333333  ┆ 0.25      ┆ … ┆ 0.5       ┆ 1.0       ┆ 0.5       ┆ 0.25     │\n",
       "│ your      ┆           ┆           ┆           ┆   ┆           ┆           ┆           ┆          │\n",
       "│ favorite  ┆           ┆           ┆           ┆   ┆           ┆           ┆           ┆          │\n",
       "│ thing     ┆           ┆           ┆           ┆   ┆           ┆           ┆           ┆          │\n",
       "│ abou…     ┆           ┆           ┆           ┆   ┆           ┆           ┆           ┆          │\n",
       "│ …         ┆ …         ┆ …         ┆ …         ┆ … ┆ …         ┆ …         ┆ …         ┆ …        │\n",
       "│ Does your ┆ 1.0       ┆ 1.0       ┆ 1.0       ┆ … ┆ 0.25      ┆ 0.5       ┆ 0.25      ┆ 0.2      │\n",
       "│ schedule  ┆           ┆           ┆           ┆   ┆           ┆           ┆           ┆          │\n",
       "│ get       ┆           ┆           ┆           ┆   ┆           ┆           ┆           ┆          │\n",
       "│ changed   ┆           ┆           ┆           ┆   ┆           ┆           ┆           ┆          │\n",
       "│ o…        ┆           ┆           ┆           ┆   ┆           ┆           ┆           ┆          │\n",
       "│ What do   ┆ 1.0       ┆ 1.0       ┆ 0.055556  ┆ … ┆ 0.05      ┆ 0.2       ┆ 0.05      ┆ 1.0      │\n",
       "│ CVS       ┆           ┆           ┆           ┆   ┆           ┆           ┆           ┆          │\n",
       "│ workers   ┆           ┆           ┆           ┆   ┆           ┆           ┆           ┆          │\n",
       "│ do if     ┆           ┆           ┆           ┆   ┆           ┆           ┆           ┆          │\n",
       "│ they n…   ┆           ┆           ┆           ┆   ┆           ┆           ┆           ┆          │\n",
       "│ What kind ┆ 1.0       ┆ 1.0       ┆ 0.125     ┆ … ┆ 0.5       ┆ 0.5       ┆ 0.5       ┆ 0.142857 │\n",
       "│ of        ┆           ┆           ┆           ┆   ┆           ┆           ┆           ┆          │\n",
       "│ benefits  ┆           ┆           ┆           ┆   ┆           ┆           ┆           ┆          │\n",
       "│ does GM   ┆           ┆           ┆           ┆   ┆           ┆           ┆           ┆          │\n",
       "│ of…       ┆           ┆           ┆           ┆   ┆           ┆           ┆           ┆          │\n",
       "│ How often ┆ 0.5       ┆ 0.5       ┆ 0.2       ┆ … ┆ 1.0       ┆ 1.0       ┆ 1.0       ┆ 1.0      │\n",
       "│ do you    ┆           ┆           ┆           ┆   ┆           ┆           ┆           ┆          │\n",
       "│ get a     ┆           ┆           ┆           ┆   ┆           ┆           ┆           ┆          │\n",
       "│ raise at  ┆           ┆           ┆           ┆   ┆           ┆           ┆           ┆          │\n",
       "│ …         ┆           ┆           ┆           ┆   ┆           ┆           ┆           ┆          │\n",
       "│ What      ┆ 1.0       ┆ 1.0       ┆ 1.0       ┆ … ┆ 0.25      ┆ 0.333333  ┆ 0.25      ┆ 0.333333 │\n",
       "│ causes    ┆           ┆           ┆           ┆   ┆           ┆           ┆           ┆          │\n",
       "│ bank      ┆           ┆           ┆           ┆   ┆           ┆           ┆           ┆          │\n",
       "│ employees ┆           ┆           ┆           ┆   ┆           ┆           ┆           ┆          │\n",
       "│ the m…    ┆           ┆           ┆           ┆   ┆           ┆           ┆           ┆          │\n",
       "└───────────┴───────────┴───────────┴───────────┴───┴───────────┴───────────┴───────────┴──────────┘"
      ]
     },
     "execution_count": 3,
     "metadata": {},
     "output_type": "execute_result"
    }
   ],
   "source": [
    "rr_df"
   ]
  },
  {
   "cell_type": "code",
   "execution_count": 4,
   "metadata": {},
   "outputs": [
    {
     "data": {
      "text/html": [
       "<div><style>\n",
       ".dataframe > thead > tr,\n",
       ".dataframe > tbody > tr {\n",
       "  text-align: right;\n",
       "  white-space: pre-wrap;\n",
       "}\n",
       "</style>\n",
       "<small>shape: (1, 17)</small><table border=\"1\" class=\"dataframe\"><thead><tr><th>query</th><th>rr_score_queries_0000_base</th><th>rr_score_queries_0100_base</th><th>rr_score_queries_0300_base</th><th>rr_score_queries_0200_filter_submissions</th><th>rr_score_queries_0100_filter_submissions</th><th>rr_score_queries_0200_base</th><th>rr_score_queries_0000_filter_submissions</th><th>rr_score_queries_0100_rerank_agree</th><th>rr_score_queries_0000_filter_submissions_and_rerank_agree</th><th>rr_score_queries_0300_filter_submissions</th><th>rr_score_queries_0200_rerank_agree</th><th>rr_score_queries_0100_filter_submissions_and_rerank_agree</th><th>rr_score_queries_0300_rerank_agree</th><th>rr_score_queries_0200_filter_submissions_and_rerank_agree</th><th>rr_score_queries_0300_filter_submissions_and_rerank_agree</th><th>rr_score_queries_0000_rerank_agree</th></tr><tr><td>str</td><td>f64</td><td>f64</td><td>f64</td><td>f64</td><td>f64</td><td>f64</td><td>f64</td><td>f64</td><td>f64</td><td>f64</td><td>f64</td><td>f64</td><td>f64</td><td>f64</td><td>f64</td><td>f64</td></tr></thead><tbody><tr><td>null</td><td>0.632692</td><td>0.624648</td><td>0.3556</td><td>0.514974</td><td>0.624648</td><td>0.514974</td><td>0.632692</td><td>0.368619</td><td>0.292717</td><td>0.3556</td><td>0.318719</td><td>0.368619</td><td>0.232604</td><td>0.318719</td><td>0.232604</td><td>0.292717</td></tr></tbody></table></div>"
      ],
      "text/plain": [
       "shape: (1, 17)\n",
       "┌───────┬────────────┬────────────┬────────────┬───┬───────────┬───────────┬───────────┬───────────┐\n",
       "│ query ┆ rr_score_q ┆ rr_score_q ┆ rr_score_q ┆ … ┆ rr_score_ ┆ rr_score_ ┆ rr_score_ ┆ rr_score_ │\n",
       "│ ---   ┆ ueries_000 ┆ ueries_010 ┆ ueries_030 ┆   ┆ queries_0 ┆ queries_0 ┆ queries_0 ┆ queries_0 │\n",
       "│ str   ┆ 0_base     ┆ 0_base     ┆ 0_base     ┆   ┆ 300_reran ┆ 200_filte ┆ 300_filte ┆ 000_reran │\n",
       "│       ┆ ---        ┆ ---        ┆ ---        ┆   ┆ k_agr…    ┆ r_sub…    ┆ r_sub…    ┆ k_agr…    │\n",
       "│       ┆ f64        ┆ f64        ┆ f64        ┆   ┆ ---       ┆ ---       ┆ ---       ┆ ---       │\n",
       "│       ┆            ┆            ┆            ┆   ┆ f64       ┆ f64       ┆ f64       ┆ f64       │\n",
       "╞═══════╪════════════╪════════════╪════════════╪═══╪═══════════╪═══════════╪═══════════╪═══════════╡\n",
       "│ null  ┆ 0.632692   ┆ 0.624648   ┆ 0.3556     ┆ … ┆ 0.232604  ┆ 0.318719  ┆ 0.232604  ┆ 0.292717  │\n",
       "└───────┴────────────┴────────────┴────────────┴───┴───────────┴───────────┴───────────┴───────────┘"
      ]
     },
     "execution_count": 4,
     "metadata": {},
     "output_type": "execute_result"
    }
   ],
   "source": [
    "rr_df.mean()"
   ]
  },
  {
   "cell_type": "code",
   "execution_count": 5,
   "metadata": {},
   "outputs": [],
   "source": [
    "files = [f for f in os.listdir(\"../query_results/\") if f[0]!='.']\n",
    "\n",
    "score_tool = paware.PawScores(\"../query_results/\"+files[0])\n",
    "score_tool.compute_mext_rr_scores()\n",
    "\n",
    "query_scores = score_tool.get_mext_rr_scores()\n",
    "mext_rr_df = pl.DataFrame({\"query\":query_scores.keys(), \"mext_rr_score_\"+files[0].split(\".\")[0]:query_scores.values()})\n",
    "\n",
    "for f in files[1:]:\n",
    "    score_tool = paware.PawScores(\"../query_results/\"+f)\n",
    "    score_tool.compute_mext_rr_scores()\n",
    "    query_scores = score_tool.get_mext_rr_scores()\n",
    "    current =  pl.DataFrame({\"query\":query_scores.keys(),\n",
    "                             \"mext_rr_score_\"+f.split(\".\")[0]:query_scores.values()})\n",
    "    mext_rr_df = mext_rr_df.join(current, on=\"query\", how=\"left\")"
   ]
  },
  {
   "cell_type": "markdown",
   "metadata": {},
   "source": [
    "# Modified Extened Reciprocal Rank Scores"
   ]
  },
  {
   "cell_type": "code",
   "execution_count": 6,
   "metadata": {},
   "outputs": [
    {
     "data": {
      "text/html": [
       "<div><style>\n",
       ".dataframe > thead > tr,\n",
       ".dataframe > tbody > tr {\n",
       "  text-align: right;\n",
       "  white-space: pre-wrap;\n",
       "}\n",
       "</style>\n",
       "<small>shape: (26, 17)</small><table border=\"1\" class=\"dataframe\"><thead><tr><th>query</th><th>mext_rr_score_queries_0000_base</th><th>mext_rr_score_queries_0100_base</th><th>mext_rr_score_queries_0300_base</th><th>mext_rr_score_queries_0200_filter_submissions</th><th>mext_rr_score_queries_0100_filter_submissions</th><th>mext_rr_score_queries_0200_base</th><th>mext_rr_score_queries_0000_filter_submissions</th><th>mext_rr_score_queries_0100_rerank_agree</th><th>mext_rr_score_queries_0000_filter_submissions_and_rerank_agree</th><th>mext_rr_score_queries_0300_filter_submissions</th><th>mext_rr_score_queries_0200_rerank_agree</th><th>mext_rr_score_queries_0100_filter_submissions_and_rerank_agree</th><th>mext_rr_score_queries_0300_rerank_agree</th><th>mext_rr_score_queries_0200_filter_submissions_and_rerank_agree</th><th>mext_rr_score_queries_0300_filter_submissions_and_rerank_agree</th><th>mext_rr_score_queries_0000_rerank_agree</th></tr><tr><td>str</td><td>f64</td><td>f64</td><td>f64</td><td>f64</td><td>f64</td><td>f64</td><td>f64</td><td>f64</td><td>f64</td><td>f64</td><td>f64</td><td>f64</td><td>f64</td><td>f64</td><td>f64</td><td>f64</td></tr></thead><tbody><tr><td>&quot;What is your f…</td><td>0.66</td><td>0.29145</td><td>0.701157</td><td>0.723509</td><td>0.29145</td><td>0.723509</td><td>0.66</td><td>0.8202</td><td>0.279245</td><td>0.701157</td><td>1.086923</td><td>0.8202</td><td>0.958936</td><td>1.086923</td><td>0.958936</td><td>0.279245</td></tr><tr><td>&quot;How much does …</td><td>0.75</td><td>0.506763</td><td>0.675578</td><td>0.666125</td><td>0.506763</td><td>0.666125</td><td>0.75</td><td>0.668464</td><td>0.491356</td><td>0.675578</td><td>0.840079</td><td>0.668464</td><td>0.818095</td><td>0.840079</td><td>0.818095</td><td>0.491356</td></tr><tr><td>&quot;How do Whole F…</td><td>0.611111</td><td>0.639583</td><td>0.203989</td><td>0.692997</td><td>0.639583</td><td>0.692997</td><td>0.611111</td><td>0.414215</td><td>0.30734</td><td>0.203989</td><td>1.006769</td><td>0.414215</td><td>0.524389</td><td>1.006769</td><td>0.524389</td><td>0.30734</td></tr><tr><td>&quot;What is the wo…</td><td>0.556235</td><td>0.569805</td><td>0.557498</td><td>0.55303</td><td>0.569805</td><td>0.55303</td><td>0.556235</td><td>0.149771</td><td>0.162001</td><td>0.557498</td><td>0.070527</td><td>0.149771</td><td>0.063482</td><td>0.070527</td><td>0.063482</td><td>0.162001</td></tr><tr><td>&quot;How do FedEx e…</td><td>0.555556</td><td>0.29626</td><td>0.575603</td><td>0.617284</td><td>0.29626</td><td>0.617284</td><td>0.555556</td><td>0.075553</td><td>0.209345</td><td>0.575603</td><td>0.2487</td><td>0.075553</td><td>0.257233</td><td>0.2487</td><td>0.257233</td><td>0.209345</td></tr><tr><td>&hellip;</td><td>&hellip;</td><td>&hellip;</td><td>&hellip;</td><td>&hellip;</td><td>&hellip;</td><td>&hellip;</td><td>&hellip;</td><td>&hellip;</td><td>&hellip;</td><td>&hellip;</td><td>&hellip;</td><td>&hellip;</td><td>&hellip;</td><td>&hellip;</td><td>&hellip;</td><td>&hellip;</td></tr><tr><td>&quot;How long is a …</td><td>0.5</td><td>0.420069</td><td>0.57265</td><td>0.757648</td><td>0.420069</td><td>0.757648</td><td>0.5</td><td>0.143494</td><td>0.333567</td><td>0.57265</td><td>0.527842</td><td>0.143494</td><td>0.412812</td><td>0.527842</td><td>0.412812</td><td>0.333567</td></tr><tr><td>&quot;What job perks…</td><td>0.466667</td><td>0.567901</td><td>0.121522</td><td>0.17252</td><td>0.567901</td><td>0.17252</td><td>0.466667</td><td>0.214113</td><td>0.271212</td><td>0.121522</td><td>0.149804</td><td>0.214113</td><td>0.120208</td><td>0.149804</td><td>0.120208</td><td>0.271212</td></tr><tr><td>&quot;What are some …</td><td>0.496424</td><td>0.031384</td><td>0.103128</td><td>0.743741</td><td>0.031384</td><td>0.743741</td><td>0.496424</td><td>0.201656</td><td>0.243012</td><td>0.103128</td><td>0.302787</td><td>0.201656</td><td>0.016159</td><td>0.302787</td><td>0.016159</td><td>0.243012</td></tr><tr><td>&quot;Do GameStop em…</td><td>0.565317</td><td>0.346136</td><td>0.54085</td><td>0.671456</td><td>0.346136</td><td>0.671456</td><td>0.565317</td><td>0.037795</td><td>0.244161</td><td>0.54085</td><td>0.279277</td><td>0.037795</td><td>0.040513</td><td>0.279277</td><td>0.040513</td><td>0.244161</td></tr><tr><td>&quot;Do Chase emplo…</td><td>0.037037</td><td>0.666667</td><td>0.155556</td><td>0.210813</td><td>0.666667</td><td>0.210813</td><td>0.037037</td><td>0.089286</td><td>0.017544</td><td>0.155556</td><td>0.099573</td><td>0.089286</td><td>0.053999</td><td>0.099573</td><td>0.053999</td><td>0.017544</td></tr></tbody></table></div>"
      ],
      "text/plain": [
       "shape: (26, 17)\n",
       "┌───────────┬───────────┬───────────┬───────────┬───┬───────────┬───────────┬───────────┬──────────┐\n",
       "│ query     ┆ mext_rr_s ┆ mext_rr_s ┆ mext_rr_s ┆ … ┆ mext_rr_s ┆ mext_rr_s ┆ mext_rr_s ┆ mext_rr_ │\n",
       "│ ---       ┆ core_quer ┆ core_quer ┆ core_quer ┆   ┆ core_quer ┆ core_quer ┆ core_quer ┆ score_qu │\n",
       "│ str       ┆ ies_0000_ ┆ ies_0100_ ┆ ies_0300_ ┆   ┆ ies_0300_ ┆ ies_0200_ ┆ ies_0300_ ┆ eries_00 │\n",
       "│           ┆ base      ┆ base      ┆ base      ┆   ┆ reran…    ┆ filte…    ┆ filte…    ┆ 00_reran │\n",
       "│           ┆ ---       ┆ ---       ┆ ---       ┆   ┆ ---       ┆ ---       ┆ ---       ┆ …        │\n",
       "│           ┆ f64       ┆ f64       ┆ f64       ┆   ┆ f64       ┆ f64       ┆ f64       ┆ ---      │\n",
       "│           ┆           ┆           ┆           ┆   ┆           ┆           ┆           ┆ f64      │\n",
       "╞═══════════╪═══════════╪═══════════╪═══════════╪═══╪═══════════╪═══════════╪═══════════╪══════════╡\n",
       "│ What is   ┆ 0.66      ┆ 0.29145   ┆ 0.701157  ┆ … ┆ 0.958936  ┆ 1.086923  ┆ 0.958936  ┆ 0.279245 │\n",
       "│ your      ┆           ┆           ┆           ┆   ┆           ┆           ┆           ┆          │\n",
       "│ favorite  ┆           ┆           ┆           ┆   ┆           ┆           ┆           ┆          │\n",
       "│ thing     ┆           ┆           ┆           ┆   ┆           ┆           ┆           ┆          │\n",
       "│ abou…     ┆           ┆           ┆           ┆   ┆           ┆           ┆           ┆          │\n",
       "│ How much  ┆ 0.75      ┆ 0.506763  ┆ 0.675578  ┆ … ┆ 0.818095  ┆ 0.840079  ┆ 0.818095  ┆ 0.491356 │\n",
       "│ does a    ┆           ┆           ┆           ┆   ┆           ┆           ┆           ┆          │\n",
       "│ driver    ┆           ┆           ┆           ┆   ┆           ┆           ┆           ┆          │\n",
       "│ make      ┆           ┆           ┆           ┆   ┆           ┆           ┆           ┆          │\n",
       "│ with…     ┆           ┆           ┆           ┆   ┆           ┆           ┆           ┆          │\n",
       "│ How do    ┆ 0.611111  ┆ 0.639583  ┆ 0.203989  ┆ … ┆ 0.524389  ┆ 1.006769  ┆ 0.524389  ┆ 0.30734  │\n",
       "│ Whole     ┆           ┆           ┆           ┆   ┆           ┆           ┆           ┆          │\n",
       "│ Foods     ┆           ┆           ┆           ┆   ┆           ┆           ┆           ┆          │\n",
       "│ workers   ┆           ┆           ┆           ┆   ┆           ┆           ┆           ┆          │\n",
       "│ feel …    ┆           ┆           ┆           ┆   ┆           ┆           ┆           ┆          │\n",
       "│ What is   ┆ 0.556235  ┆ 0.569805  ┆ 0.557498  ┆ … ┆ 0.063482  ┆ 0.070527  ┆ 0.063482  ┆ 0.162001 │\n",
       "│ the worst ┆           ┆           ┆           ┆   ┆           ┆           ┆           ┆          │\n",
       "│ drink to  ┆           ┆           ┆           ┆   ┆           ┆           ┆           ┆          │\n",
       "│ make …    ┆           ┆           ┆           ┆   ┆           ┆           ┆           ┆          │\n",
       "│ How do    ┆ 0.555556  ┆ 0.29626   ┆ 0.575603  ┆ … ┆ 0.257233  ┆ 0.2487    ┆ 0.257233  ┆ 0.209345 │\n",
       "│ FedEx     ┆           ┆           ┆           ┆   ┆           ┆           ┆           ┆          │\n",
       "│ employees ┆           ┆           ┆           ┆   ┆           ┆           ┆           ┆          │\n",
       "│ feel      ┆           ┆           ┆           ┆   ┆           ┆           ┆           ┆          │\n",
       "│ abou…     ┆           ┆           ┆           ┆   ┆           ┆           ┆           ┆          │\n",
       "│ …         ┆ …         ┆ …         ┆ …         ┆ … ┆ …         ┆ …         ┆ …         ┆ …        │\n",
       "│ How long  ┆ 0.5       ┆ 0.420069  ┆ 0.57265   ┆ … ┆ 0.412812  ┆ 0.527842  ┆ 0.412812  ┆ 0.333567 │\n",
       "│ is a      ┆           ┆           ┆           ┆   ┆           ┆           ┆           ┆          │\n",
       "│ typical   ┆           ┆           ┆           ┆   ┆           ┆           ┆           ┆          │\n",
       "│ UPS       ┆           ┆           ┆           ┆   ┆           ┆           ┆           ┆          │\n",
       "│ shift?…   ┆           ┆           ┆           ┆   ┆           ┆           ┆           ┆          │\n",
       "│ What job  ┆ 0.466667  ┆ 0.567901  ┆ 0.121522  ┆ … ┆ 0.120208  ┆ 0.149804  ┆ 0.120208  ┆ 0.271212 │\n",
       "│ perks for ┆           ┆           ┆           ┆   ┆           ┆           ┆           ┆          │\n",
       "│ Whole     ┆           ┆           ┆           ┆   ┆           ┆           ┆           ┆          │\n",
       "│ Foods e…  ┆           ┆           ┆           ┆   ┆           ┆           ┆           ┆          │\n",
       "│ What are  ┆ 0.496424  ┆ 0.031384  ┆ 0.103128  ┆ … ┆ 0.016159  ┆ 0.302787  ┆ 0.016159  ┆ 0.243012 │\n",
       "│ some      ┆           ┆           ┆           ┆   ┆           ┆           ┆           ┆          │\n",
       "│ reasons   ┆           ┆           ┆           ┆   ┆           ┆           ┆           ┆          │\n",
       "│ that bank ┆           ┆           ┆           ┆   ┆           ┆           ┆           ┆          │\n",
       "│ …         ┆           ┆           ┆           ┆   ┆           ┆           ┆           ┆          │\n",
       "│ Do        ┆ 0.565317  ┆ 0.346136  ┆ 0.54085   ┆ … ┆ 0.040513  ┆ 0.279277  ┆ 0.040513  ┆ 0.244161 │\n",
       "│ GameStop  ┆           ┆           ┆           ┆   ┆           ┆           ┆           ┆          │\n",
       "│ employees ┆           ┆           ┆           ┆   ┆           ┆           ┆           ┆          │\n",
       "│ feel      ┆           ┆           ┆           ┆   ┆           ┆           ┆           ┆          │\n",
       "│ value…    ┆           ┆           ┆           ┆   ┆           ┆           ┆           ┆          │\n",
       "│ Do Chase  ┆ 0.037037  ┆ 0.666667  ┆ 0.155556  ┆ … ┆ 0.053999  ┆ 0.099573  ┆ 0.053999  ┆ 0.017544 │\n",
       "│ employees ┆           ┆           ┆           ┆   ┆           ┆           ┆           ┆          │\n",
       "│ see oppor ┆           ┆           ┆           ┆   ┆           ┆           ┆           ┆          │\n",
       "│ tuni…     ┆           ┆           ┆           ┆   ┆           ┆           ┆           ┆          │\n",
       "└───────────┴───────────┴───────────┴───────────┴───┴───────────┴───────────┴───────────┴──────────┘"
      ]
     },
     "execution_count": 6,
     "metadata": {},
     "output_type": "execute_result"
    }
   ],
   "source": [
    "mext_rr_df"
   ]
  },
  {
   "cell_type": "code",
   "execution_count": 7,
   "metadata": {},
   "outputs": [
    {
     "data": {
      "text/html": [
       "<div><style>\n",
       ".dataframe > thead > tr,\n",
       ".dataframe > tbody > tr {\n",
       "  text-align: right;\n",
       "  white-space: pre-wrap;\n",
       "}\n",
       "</style>\n",
       "<small>shape: (1, 17)</small><table border=\"1\" class=\"dataframe\"><thead><tr><th>query</th><th>mext_rr_score_queries_0000_base</th><th>mext_rr_score_queries_0100_base</th><th>mext_rr_score_queries_0300_base</th><th>mext_rr_score_queries_0200_filter_submissions</th><th>mext_rr_score_queries_0100_filter_submissions</th><th>mext_rr_score_queries_0200_base</th><th>mext_rr_score_queries_0000_filter_submissions</th><th>mext_rr_score_queries_0100_rerank_agree</th><th>mext_rr_score_queries_0000_filter_submissions_and_rerank_agree</th><th>mext_rr_score_queries_0300_filter_submissions</th><th>mext_rr_score_queries_0200_rerank_agree</th><th>mext_rr_score_queries_0100_filter_submissions_and_rerank_agree</th><th>mext_rr_score_queries_0300_rerank_agree</th><th>mext_rr_score_queries_0200_filter_submissions_and_rerank_agree</th><th>mext_rr_score_queries_0300_filter_submissions_and_rerank_agree</th><th>mext_rr_score_queries_0000_rerank_agree</th></tr><tr><td>str</td><td>f64</td><td>f64</td><td>f64</td><td>f64</td><td>f64</td><td>f64</td><td>f64</td><td>f64</td><td>f64</td><td>f64</td><td>f64</td><td>f64</td><td>f64</td><td>f64</td><td>f64</td><td>f64</td></tr></thead><tbody><tr><td>null</td><td>0.472026</td><td>0.47166</td><td>0.349582</td><td>0.503612</td><td>0.47166</td><td>0.503612</td><td>0.472026</td><td>0.287423</td><td>0.228949</td><td>0.349582</td><td>0.367156</td><td>0.287423</td><td>0.248956</td><td>0.367156</td><td>0.248956</td><td>0.228949</td></tr></tbody></table></div>"
      ],
      "text/plain": [
       "shape: (1, 17)\n",
       "┌───────┬────────────┬────────────┬────────────┬───┬───────────┬───────────┬───────────┬───────────┐\n",
       "│ query ┆ mext_rr_sc ┆ mext_rr_sc ┆ mext_rr_sc ┆ … ┆ mext_rr_s ┆ mext_rr_s ┆ mext_rr_s ┆ mext_rr_s │\n",
       "│ ---   ┆ ore_querie ┆ ore_querie ┆ ore_querie ┆   ┆ core_quer ┆ core_quer ┆ core_quer ┆ core_quer │\n",
       "│ str   ┆ s_0000_bas ┆ s_0100_bas ┆ s_0300_bas ┆   ┆ ies_0300_ ┆ ies_0200_ ┆ ies_0300_ ┆ ies_0000_ │\n",
       "│       ┆ e          ┆ e          ┆ e          ┆   ┆ reran…    ┆ filte…    ┆ filte…    ┆ reran…    │\n",
       "│       ┆ ---        ┆ ---        ┆ ---        ┆   ┆ ---       ┆ ---       ┆ ---       ┆ ---       │\n",
       "│       ┆ f64        ┆ f64        ┆ f64        ┆   ┆ f64       ┆ f64       ┆ f64       ┆ f64       │\n",
       "╞═══════╪════════════╪════════════╪════════════╪═══╪═══════════╪═══════════╪═══════════╪═══════════╡\n",
       "│ null  ┆ 0.472026   ┆ 0.47166    ┆ 0.349582   ┆ … ┆ 0.248956  ┆ 0.367156  ┆ 0.248956  ┆ 0.228949  │\n",
       "└───────┴────────────┴────────────┴────────────┴───┴───────────┴───────────┴───────────┴───────────┘"
      ]
     },
     "execution_count": 7,
     "metadata": {},
     "output_type": "execute_result"
    }
   ],
   "source": [
    "mext_rr_df.mean()"
   ]
  },
  {
   "cell_type": "markdown",
   "metadata": {},
   "source": [
    "# Discounted Cumulative Gain Scores"
   ]
  },
  {
   "cell_type": "code",
   "execution_count": 10,
   "metadata": {},
   "outputs": [],
   "source": [
    "files = [f for f in os.listdir(\"../query_results/\") if f[0]!='.']\n",
    "\n",
    "score_tool = paware.PawScores(\"../query_results/\"+files[0])\n",
    "score_tool.compute_dcg_scores()\n",
    "\n",
    "query_scores = score_tool.get_dcg_scores()\n",
    "dcg_df = pl.DataFrame({\"query\":query_scores.keys(), \"dcg_score_\"+files[0].split(\".\")[0]:query_scores.values()})\n",
    "\n",
    "for f in files[1:]:\n",
    "    score_tool = paware.PawScores(\"../query_results/\"+f)\n",
    "    score_tool.compute_dcg_scores()\n",
    "    query_scores = score_tool.get_dcg_scores()\n",
    "    current =  pl.DataFrame({\"query\":query_scores.keys(),\n",
    "                             \"dcg_score_\"+f.split(\".\")[0]:query_scores.values()})\n",
    "    dcg_df = dcg_df.join(current, on=\"query\", how=\"left\")"
   ]
  },
  {
   "cell_type": "code",
   "execution_count": 11,
   "metadata": {},
   "outputs": [
    {
     "data": {
      "text/html": [
       "<div><style>\n",
       ".dataframe > thead > tr,\n",
       ".dataframe > tbody > tr {\n",
       "  text-align: right;\n",
       "  white-space: pre-wrap;\n",
       "}\n",
       "</style>\n",
       "<small>shape: (24, 17)</small><table border=\"1\" class=\"dataframe\"><thead><tr><th>query</th><th>dcg_score_queries_0000_base</th><th>dcg_score_queries_0100_base</th><th>dcg_score_queries_0300_base</th><th>dcg_score_queries_0200_filter_submissions</th><th>dcg_score_queries_0100_filter_submissions</th><th>dcg_score_queries_0200_base</th><th>dcg_score_queries_0000_filter_submissions</th><th>dcg_score_queries_0100_rerank_agree</th><th>dcg_score_queries_0000_filter_submissions_and_rerank_agree</th><th>dcg_score_queries_0300_filter_submissions</th><th>dcg_score_queries_0200_rerank_agree</th><th>dcg_score_queries_0100_filter_submissions_and_rerank_agree</th><th>dcg_score_queries_0300_rerank_agree</th><th>dcg_score_queries_0200_filter_submissions_and_rerank_agree</th><th>dcg_score_queries_0300_filter_submissions_and_rerank_agree</th><th>dcg_score_queries_0000_rerank_agree</th></tr><tr><td>str</td><td>f64</td><td>f64</td><td>f64</td><td>f64</td><td>f64</td><td>f64</td><td>f64</td><td>f64</td><td>f64</td><td>f64</td><td>f64</td><td>f64</td><td>f64</td><td>f64</td><td>f64</td><td>f64</td></tr></thead><tbody><tr><td>&quot;How do General…</td><td>0.894328</td><td>0.876335</td><td>0.90445</td><td>0.868244</td><td>0.876335</td><td>0.868244</td><td>0.894328</td><td>0.784609</td><td>0.615349</td><td>0.90445</td><td>0.859442</td><td>0.784609</td><td>0.747702</td><td>0.859442</td><td>0.747702</td><td>0.615349</td></tr><tr><td>&quot;What kind of b…</td><td>0.926573</td><td>0.90913</td><td>0.458855</td><td>0.708974</td><td>0.90913</td><td>0.708974</td><td>0.926573</td><td>0.797212</td><td>0.583092</td><td>0.458855</td><td>0.83207</td><td>0.797212</td><td>0.660807</td><td>0.83207</td><td>0.660807</td><td>0.583092</td></tr><tr><td>&quot;When should yo…</td><td>0.767871</td><td>0.565207</td><td>0.772934</td><td>0.86967</td><td>0.565207</td><td>0.86967</td><td>0.767871</td><td>0.618399</td><td>0.53792</td><td>0.772934</td><td>0.66945</td><td>0.618399</td><td>0.572769</td><td>0.66945</td><td>0.572769</td><td>0.53792</td></tr><tr><td>&quot;How much does …</td><td>0.890725</td><td>0.775231</td><td>0.795222</td><td>0.888458</td><td>0.775231</td><td>0.888458</td><td>0.890725</td><td>0.731992</td><td>0.629159</td><td>0.795222</td><td>0.778265</td><td>0.731992</td><td>0.861603</td><td>0.778265</td><td>0.861603</td><td>0.629159</td></tr><tr><td>&quot;How long is a …</td><td>0.862008</td><td>0.831868</td><td>0.690907</td><td>0.758066</td><td>0.831868</td><td>0.758066</td><td>0.862008</td><td>0.696015</td><td>0.6274</td><td>0.690907</td><td>0.663528</td><td>0.696015</td><td>0.650181</td><td>0.663528</td><td>0.650181</td><td>0.6274</td></tr><tr><td>&hellip;</td><td>&hellip;</td><td>&hellip;</td><td>&hellip;</td><td>&hellip;</td><td>&hellip;</td><td>&hellip;</td><td>&hellip;</td><td>&hellip;</td><td>&hellip;</td><td>&hellip;</td><td>&hellip;</td><td>&hellip;</td><td>&hellip;</td><td>&hellip;</td><td>&hellip;</td><td>&hellip;</td></tr><tr><td>&quot;Do Fidelity em…</td><td>0.386853</td><td>0.430676</td><td>0.262649</td><td>0.278943</td><td>0.430676</td><td>0.278943</td><td>0.386853</td><td>0.191959</td><td>0.178104</td><td>0.262649</td><td>0.180031</td><td>0.191959</td><td>0.185449</td><td>0.180031</td><td>0.185449</td><td>0.178104</td></tr><tr><td>&quot;Do GameStop em…</td><td>0.710103</td><td>0.643624</td><td>0.589831</td><td>0.82434</td><td>0.643624</td><td>0.82434</td><td>0.710103</td><td>0.455911</td><td>0.545463</td><td>0.589831</td><td>0.662187</td><td>0.455911</td><td>0.435395</td><td>0.662187</td><td>0.435395</td><td>0.545463</td></tr><tr><td>&quot;What does a ty…</td><td>0.49835</td><td>0.503493</td><td>0.310244</td><td>0.439013</td><td>0.503493</td><td>0.439013</td><td>0.49835</td><td>0.402591</td><td>0.310593</td><td>0.310244</td><td>0.367004</td><td>0.402591</td><td>0.293319</td><td>0.367004</td><td>0.293319</td><td>0.310593</td></tr><tr><td>&quot;Do CVS employe…</td><td>0.881806</td><td>0.797623</td><td>0.36369</td><td>0.843512</td><td>0.797623</td><td>0.843512</td><td>0.881806</td><td>0.506808</td><td>0.608315</td><td>0.36369</td><td>0.656222</td><td>0.506808</td><td>0.337883</td><td>0.656222</td><td>0.337883</td><td>0.608315</td></tr><tr><td>&quot;What do CVS wo…</td><td>0.896952</td><td>0.743584</td><td>0.348459</td><td>0.568995</td><td>0.743584</td><td>0.568995</td><td>0.896952</td><td>0.512979</td><td>0.704038</td><td>0.348459</td><td>0.569998</td><td>0.512979</td><td>0.345835</td><td>0.569998</td><td>0.345835</td><td>0.704038</td></tr></tbody></table></div>"
      ],
      "text/plain": [
       "shape: (24, 17)\n",
       "┌───────────┬───────────┬───────────┬───────────┬───┬───────────┬───────────┬───────────┬──────────┐\n",
       "│ query     ┆ dcg_score ┆ dcg_score ┆ dcg_score ┆ … ┆ dcg_score ┆ dcg_score ┆ dcg_score ┆ dcg_scor │\n",
       "│ ---       ┆ _queries_ ┆ _queries_ ┆ _queries_ ┆   ┆ _queries_ ┆ _queries_ ┆ _queries_ ┆ e_querie │\n",
       "│ str       ┆ 0000_base ┆ 0100_base ┆ 0300_base ┆   ┆ 0300_rera ┆ 0200_filt ┆ 0300_filt ┆ s_0000_r │\n",
       "│           ┆ ---       ┆ ---       ┆ ---       ┆   ┆ nk_ag…    ┆ er_su…    ┆ er_su…    ┆ erank_ag │\n",
       "│           ┆ f64       ┆ f64       ┆ f64       ┆   ┆ ---       ┆ ---       ┆ ---       ┆ …        │\n",
       "│           ┆           ┆           ┆           ┆   ┆ f64       ┆ f64       ┆ f64       ┆ ---      │\n",
       "│           ┆           ┆           ┆           ┆   ┆           ┆           ┆           ┆ f64      │\n",
       "╞═══════════╪═══════════╪═══════════╪═══════════╪═══╪═══════════╪═══════════╪═══════════╪══════════╡\n",
       "│ How do    ┆ 0.894328  ┆ 0.876335  ┆ 0.90445   ┆ … ┆ 0.747702  ┆ 0.859442  ┆ 0.747702  ┆ 0.615349 │\n",
       "│ General   ┆           ┆           ┆           ┆   ┆           ┆           ┆           ┆          │\n",
       "│ Motors    ┆           ┆           ┆           ┆   ┆           ┆           ┆           ┆          │\n",
       "│ employees ┆           ┆           ┆           ┆   ┆           ┆           ┆           ┆          │\n",
       "│ …         ┆           ┆           ┆           ┆   ┆           ┆           ┆           ┆          │\n",
       "│ What kind ┆ 0.926573  ┆ 0.90913   ┆ 0.458855  ┆ … ┆ 0.660807  ┆ 0.83207   ┆ 0.660807  ┆ 0.583092 │\n",
       "│ of        ┆           ┆           ┆           ┆   ┆           ┆           ┆           ┆          │\n",
       "│ benefits  ┆           ┆           ┆           ┆   ┆           ┆           ┆           ┆          │\n",
       "│ does GM   ┆           ┆           ┆           ┆   ┆           ┆           ┆           ┆          │\n",
       "│ of…       ┆           ┆           ┆           ┆   ┆           ┆           ┆           ┆          │\n",
       "│ When      ┆ 0.767871  ┆ 0.565207  ┆ 0.772934  ┆ … ┆ 0.572769  ┆ 0.66945   ┆ 0.572769  ┆ 0.53792  │\n",
       "│ should    ┆           ┆           ┆           ┆   ┆           ┆           ┆           ┆          │\n",
       "│ you apply ┆           ┆           ┆           ┆   ┆           ┆           ┆           ┆          │\n",
       "│ for a     ┆           ┆           ┆           ┆   ┆           ┆           ┆           ┆          │\n",
       "│ prom…     ┆           ┆           ┆           ┆   ┆           ┆           ┆           ┆          │\n",
       "│ How much  ┆ 0.890725  ┆ 0.775231  ┆ 0.795222  ┆ … ┆ 0.861603  ┆ 0.778265  ┆ 0.861603  ┆ 0.629159 │\n",
       "│ does a    ┆           ┆           ┆           ┆   ┆           ┆           ┆           ┆          │\n",
       "│ driver    ┆           ┆           ┆           ┆   ┆           ┆           ┆           ┆          │\n",
       "│ make      ┆           ┆           ┆           ┆   ┆           ┆           ┆           ┆          │\n",
       "│ with…     ┆           ┆           ┆           ┆   ┆           ┆           ┆           ┆          │\n",
       "│ How long  ┆ 0.862008  ┆ 0.831868  ┆ 0.690907  ┆ … ┆ 0.650181  ┆ 0.663528  ┆ 0.650181  ┆ 0.6274   │\n",
       "│ is a      ┆           ┆           ┆           ┆   ┆           ┆           ┆           ┆          │\n",
       "│ typical   ┆           ┆           ┆           ┆   ┆           ┆           ┆           ┆          │\n",
       "│ UPS       ┆           ┆           ┆           ┆   ┆           ┆           ┆           ┆          │\n",
       "│ shift?…   ┆           ┆           ┆           ┆   ┆           ┆           ┆           ┆          │\n",
       "│ …         ┆ …         ┆ …         ┆ …         ┆ … ┆ …         ┆ …         ┆ …         ┆ …        │\n",
       "│ Do        ┆ 0.386853  ┆ 0.430676  ┆ 0.262649  ┆ … ┆ 0.185449  ┆ 0.180031  ┆ 0.185449  ┆ 0.178104 │\n",
       "│ Fidelity  ┆           ┆           ┆           ┆   ┆           ┆           ┆           ┆          │\n",
       "│ employees ┆           ┆           ┆           ┆   ┆           ┆           ┆           ┆          │\n",
       "│ want to   ┆           ┆           ┆           ┆   ┆           ┆           ┆           ┆          │\n",
       "│ wo…       ┆           ┆           ┆           ┆   ┆           ┆           ┆           ┆          │\n",
       "│ Do        ┆ 0.710103  ┆ 0.643624  ┆ 0.589831  ┆ … ┆ 0.435395  ┆ 0.662187  ┆ 0.435395  ┆ 0.545463 │\n",
       "│ GameStop  ┆           ┆           ┆           ┆   ┆           ┆           ┆           ┆          │\n",
       "│ employees ┆           ┆           ┆           ┆   ┆           ┆           ┆           ┆          │\n",
       "│ feel      ┆           ┆           ┆           ┆   ┆           ┆           ┆           ┆          │\n",
       "│ value…    ┆           ┆           ┆           ┆   ┆           ┆           ┆           ┆          │\n",
       "│ What does ┆ 0.49835   ┆ 0.503493  ┆ 0.310244  ┆ … ┆ 0.293319  ┆ 0.367004  ┆ 0.293319  ┆ 0.310593 │\n",
       "│ a typical ┆           ┆           ┆           ┆   ┆           ┆           ┆           ┆          │\n",
       "│ day look  ┆           ┆           ┆           ┆   ┆           ┆           ┆           ┆          │\n",
       "│ lik…      ┆           ┆           ┆           ┆   ┆           ┆           ┆           ┆          │\n",
       "│ Do CVS    ┆ 0.881806  ┆ 0.797623  ┆ 0.36369   ┆ … ┆ 0.337883  ┆ 0.656222  ┆ 0.337883  ┆ 0.608315 │\n",
       "│ employees ┆           ┆           ┆           ┆   ┆           ┆           ┆           ┆          │\n",
       "│ feel safe ┆           ┆           ┆           ┆   ┆           ┆           ┆           ┆          │\n",
       "│ at wo…    ┆           ┆           ┆           ┆   ┆           ┆           ┆           ┆          │\n",
       "│ What do   ┆ 0.896952  ┆ 0.743584  ┆ 0.348459  ┆ … ┆ 0.345835  ┆ 0.569998  ┆ 0.345835  ┆ 0.704038 │\n",
       "│ CVS       ┆           ┆           ┆           ┆   ┆           ┆           ┆           ┆          │\n",
       "│ workers   ┆           ┆           ┆           ┆   ┆           ┆           ┆           ┆          │\n",
       "│ do if     ┆           ┆           ┆           ┆   ┆           ┆           ┆           ┆          │\n",
       "│ they n…   ┆           ┆           ┆           ┆   ┆           ┆           ┆           ┆          │\n",
       "└───────────┴───────────┴───────────┴───────────┴───┴───────────┴───────────┴───────────┴──────────┘"
      ]
     },
     "execution_count": 11,
     "metadata": {},
     "output_type": "execute_result"
    }
   ],
   "source": [
    "dcg_df"
   ]
  },
  {
   "cell_type": "code",
   "execution_count": 12,
   "metadata": {},
   "outputs": [
    {
     "data": {
      "text/html": [
       "<div><style>\n",
       ".dataframe > thead > tr,\n",
       ".dataframe > tbody > tr {\n",
       "  text-align: right;\n",
       "  white-space: pre-wrap;\n",
       "}\n",
       "</style>\n",
       "<small>shape: (1, 17)</small><table border=\"1\" class=\"dataframe\"><thead><tr><th>query</th><th>dcg_score_queries_0000_base</th><th>dcg_score_queries_0100_base</th><th>dcg_score_queries_0300_base</th><th>dcg_score_queries_0200_filter_submissions</th><th>dcg_score_queries_0100_filter_submissions</th><th>dcg_score_queries_0200_base</th><th>dcg_score_queries_0000_filter_submissions</th><th>dcg_score_queries_0100_rerank_agree</th><th>dcg_score_queries_0000_filter_submissions_and_rerank_agree</th><th>dcg_score_queries_0300_filter_submissions</th><th>dcg_score_queries_0200_rerank_agree</th><th>dcg_score_queries_0100_filter_submissions_and_rerank_agree</th><th>dcg_score_queries_0300_rerank_agree</th><th>dcg_score_queries_0200_filter_submissions_and_rerank_agree</th><th>dcg_score_queries_0300_filter_submissions_and_rerank_agree</th><th>dcg_score_queries_0000_rerank_agree</th></tr><tr><td>str</td><td>f64</td><td>f64</td><td>f64</td><td>f64</td><td>f64</td><td>f64</td><td>f64</td><td>f64</td><td>f64</td><td>f64</td><td>f64</td><td>f64</td><td>f64</td><td>f64</td><td>f64</td><td>f64</td></tr></thead><tbody><tr><td>null</td><td>0.732299</td><td>0.753239</td><td>0.596935</td><td>0.716197</td><td>0.753239</td><td>0.716197</td><td>0.732299</td><td>0.585643</td><td>0.532815</td><td>0.596935</td><td>0.614213</td><td>0.585643</td><td>0.520449</td><td>0.614213</td><td>0.520449</td><td>0.532815</td></tr></tbody></table></div>"
      ],
      "text/plain": [
       "shape: (1, 17)\n",
       "┌───────┬────────────┬────────────┬────────────┬───┬───────────┬───────────┬───────────┬───────────┐\n",
       "│ query ┆ dcg_score_ ┆ dcg_score_ ┆ dcg_score_ ┆ … ┆ dcg_score ┆ dcg_score ┆ dcg_score ┆ dcg_score │\n",
       "│ ---   ┆ queries_00 ┆ queries_01 ┆ queries_03 ┆   ┆ _queries_ ┆ _queries_ ┆ _queries_ ┆ _queries_ │\n",
       "│ str   ┆ 00_base    ┆ 00_base    ┆ 00_base    ┆   ┆ 0300_rera ┆ 0200_filt ┆ 0300_filt ┆ 0000_rera │\n",
       "│       ┆ ---        ┆ ---        ┆ ---        ┆   ┆ nk_ag…    ┆ er_su…    ┆ er_su…    ┆ nk_ag…    │\n",
       "│       ┆ f64        ┆ f64        ┆ f64        ┆   ┆ ---       ┆ ---       ┆ ---       ┆ ---       │\n",
       "│       ┆            ┆            ┆            ┆   ┆ f64       ┆ f64       ┆ f64       ┆ f64       │\n",
       "╞═══════╪════════════╪════════════╪════════════╪═══╪═══════════╪═══════════╪═══════════╪═══════════╡\n",
       "│ null  ┆ 0.732299   ┆ 0.753239   ┆ 0.596935   ┆ … ┆ 0.520449  ┆ 0.614213  ┆ 0.520449  ┆ 0.532815  │\n",
       "└───────┴────────────┴────────────┴────────────┴───┴───────────┴───────────┴───────────┴───────────┘"
      ]
     },
     "execution_count": 12,
     "metadata": {},
     "output_type": "execute_result"
    }
   ],
   "source": [
    "dcg_df.mean()"
   ]
  },
  {
   "cell_type": "code",
   "execution_count": null,
   "metadata": {},
   "outputs": [],
   "source": []
  }
 ],
 "metadata": {
  "kernelspec": {
   "display_name": "aware",
   "language": "python",
   "name": "python3"
  },
  "language_info": {
   "codemirror_mode": {
    "name": "ipython",
    "version": 3
   },
   "file_extension": ".py",
   "mimetype": "text/x-python",
   "name": "python",
   "nbconvert_exporter": "python",
   "pygments_lexer": "ipython3",
   "version": "3.11.8"
  }
 },
 "nbformat": 4,
 "nbformat_minor": 2
}
