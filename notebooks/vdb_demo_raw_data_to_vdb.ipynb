{
 "cells": [
  {
   "cell_type": "code",
   "execution_count": 1,
   "id": "632b8dd5-16e6-42da-8dcd-d4fcb3da1863",
   "metadata": {
    "editable": true,
    "slideshow": {
     "slide_type": ""
    },
    "tags": []
   },
   "outputs": [],
   "source": [
    "## Add this directory to the path and load our functions\n",
    "import sys\n",
    "sys.path.append(\"../src/\")\n",
    "from data_processing import preprocess, chunk, vectorize\n",
    "\n",
    "import polars as pl\n",
    "\n",
    "## Define annd load the embdding model\n",
    "from langchain_community.embeddings import HuggingFaceEmbeddings\n",
    "model = HuggingFaceEmbeddings(model_name=\"thenlper/gte-base\")"
   ]
  },
  {
   "cell_type": "code",
   "execution_count": 2,
   "id": "112cd497-c5e8-4edb-9085-7321111e1bbc",
   "metadata": {},
   "outputs": [
    {
     "name": "stdout",
     "output_type": "stream",
     "text": [
      "Dropping 1099 rows with reddit_text=='[deleted]'\n",
      "Dropping 119 rows with reddit_text=='[removed]'\n",
      "Dropping 79 rows with reddit_text containing:'This has been removed for breaking the sub rule of'\n",
      "Dropping 235 rows with reddit_text==''\n"
     ]
    }
   ],
   "source": [
    "%%time\n",
    "## Load raw data\n",
    "DATA_RAW = pl.read_parquet(\"../temp_data/raw_data_subset_gm.parquet\")\n",
    "## Precprocess raw data\n",
    "data_preprocessed = preprocess.preprocess_data(DATA_RAW=DATA_RAW)\n",
    "## Chunk preproccessed data\n",
    "data_chunked = chunk.chunk_preprocessed_data(\n",
    "    data_preprocessed=data_preprocessed, \n",
    "    chunk_size=512, \n",
    "    chunk_overlap_pct=.2)"
   ]
  },
  {
   "cell_type": "code",
   "execution_count": 3,
   "id": "76d4f72a-c379-4b6a-8c59-43b8550fc3d2",
   "metadata": {},
   "outputs": [
    {
     "data": {
      "text/plain": [
       "(40841, 15)"
      ]
     },
     "execution_count": 3,
     "metadata": {},
     "output_type": "execute_result"
    }
   ],
   "source": [
    "data_chunked.shape"
   ]
  },
  {
   "cell_type": "code",
   "execution_count": 4,
   "id": "d5b68af4-497a-4229-9acc-43e7fc66ef7c",
   "metadata": {
    "editable": true,
    "slideshow": {
     "slide_type": ""
    },
    "tags": []
   },
   "outputs": [
    {
     "name": "stdout",
     "output_type": "stream",
     "text": [
      "Working on batch 0, rows 0 through 5000...\n",
      "Done with batch 0.\n",
      "Working on batch 1, rows 5000 through 10000...\n",
      "Done with batch 1.\n",
      "Working on batch 2, rows 10000 through 15000...\n",
      "Done with batch 2.\n",
      "Working on batch 3, rows 15000 through 20000...\n",
      "Done with batch 3.\n",
      "Working on batch 4, rows 20000 through 25000...\n",
      "Done with batch 4.\n",
      "Working on batch 5, rows 25000 through 30000...\n",
      "Done with batch 5.\n",
      "Working on batch 6, rows 30000 through 35000...\n",
      "Done with batch 6.\n",
      "Working on batch 7, rows 35000 through 40000...\n",
      "Done with batch 7.\n",
      "Working on batch 8, rows 40000 through 40841...\n",
      "Done with batch 8.\n"
     ]
    }
   ],
   "source": [
    "%%time\n",
    "## Vectorize data in batchs and save the resulting dataframes\n",
    "vectorize.batch_vectorize_and_save(\n",
    "    data_chunked=data_chunked,\n",
    "    batch_size=5000,\n",
    "    save_dir=\"../temp_data/vectorized_gm_batches/\",\n",
    "    file_prefix=\"vectorized_gm_data_\"\n",
    ")"
   ]
  },
  {
   "cell_type": "code",
   "execution_count": 5,
   "id": "19816ccf-94cc-46c5-9ef1-d7b9b992ebde",
   "metadata": {},
   "outputs": [
    {
     "data": {
      "text/plain": [
       "['vectorized_gm_data_pt2.parquet',\n",
       " 'vectorized_gm_data_pt3.parquet',\n",
       " 'vectorized_gm_data_pt8.parquet',\n",
       " 'vectorized_gm_data_pt1.parquet',\n",
       " 'vectorized_gm_data_pt0.parquet',\n",
       " 'vectorized_gm_data_pt5.parquet',\n",
       " 'vectorized_gm_data_pt4.parquet',\n",
       " 'vectorized_gm_data_pt6.parquet',\n",
       " 'vectorized_gm_data_pt7.parquet']"
      ]
     },
     "execution_count": 5,
     "metadata": {},
     "output_type": "execute_result"
    }
   ],
   "source": [
    "## Look and see which files we just created\n",
    "import os\n",
    "os.listdir(\"../temp_data/vectorized_gm_batches/\")"
   ]
  },
  {
   "cell_type": "code",
   "execution_count": 8,
   "id": "b7c76515-3aef-41c0-8148-bfaff861ab6c",
   "metadata": {
    "editable": true,
    "slideshow": {
     "slide_type": ""
    },
    "tags": []
   },
   "outputs": [],
   "source": [
    "import lancedb\n",
    "\n",
    "## Initialize a database\n",
    "db = lancedb.connect(\"../temp_data/gm_lancedb\")"
   ]
  },
  {
   "cell_type": "code",
   "execution_count": 9,
   "id": "89845ce8-6bbc-4c0a-8f1d-1ee5fc70af3f",
   "metadata": {
    "editable": true,
    "slideshow": {
     "slide_type": ""
    },
    "tags": []
   },
   "outputs": [
    {
     "name": "stdout",
     "output_type": "stream",
     "text": [
      "CPU times: user 131 ms, sys: 24 ms, total: 155 ms\n",
      "Wall time: 163 ms\n"
     ]
    }
   ],
   "source": [
    "%%time\n",
    "## Load the first data file\n",
    "data = pl.read_parquet(\n",
    "    \"../temp_data/vectorized_gm_batches/vectorized_gm_data_pt0.parquet\")\n",
    "\n",
    "## Create a table in the database based on the first file\n",
    "table = db.create_table(\"gm_table\", data=data)"
   ]
  },
  {
   "cell_type": "code",
   "execution_count": 10,
   "id": "68d5aa36-6216-45bc-86e6-35ac9fc5431b",
   "metadata": {},
   "outputs": [],
   "source": [
    "## Load the remaining data into the table, one file at a time\n",
    "for i in range(1,9):\n",
    "    data = pl.read_parquet(\n",
    "        f\"../temp_data/vectorized_gm_batches/vectorized_gm_data_pt{i}.parquet\")\n",
    "    table.add(data)"
   ]
  },
  {
   "cell_type": "code",
   "execution_count": 11,
   "id": "cff46a1e-9bc9-4be3-96c0-103895483eab",
   "metadata": {
    "editable": true,
    "slideshow": {
     "slide_type": ""
    },
    "tags": []
   },
   "outputs": [
    {
     "name": "stdout",
     "output_type": "stream",
     "text": [
      "CPU times: user 331 ms, sys: 101 ms, total: 432 ms\n",
      "Wall time: 363 ms\n"
     ]
    },
    {
     "data": {
      "text/html": [
       "<div><style>\n",
       ".dataframe > thead > tr,\n",
       ".dataframe > tbody > tr {\n",
       "  text-align: right;\n",
       "  white-space: pre-wrap;\n",
       "}\n",
       "</style>\n",
       "<small>shape: (15, 3)</small><table border=\"1\" class=\"dataframe\"><thead><tr><th>reddit_subreddit</th><th>reddit_text</th><th>text_chunk</th></tr><tr><td>str</td><td>str</td><td>str</td></tr></thead><tbody><tr><td>&quot;GeneralMotors&quot;</td><td>&quot;If you work at GM most of the benefits that make this job worthwhile come from unions demanding them&quot;</td><td>&quot;If you work at GM most of the benefits that make this job worthwhile come from unions demanding them&quot;</td></tr><tr><td>&quot;GeneralMotors&quot;</td><td>&quot;In general GM has pretty good benefits, a good work life balance, and is on the lower side for base pay. You will have to figure out for yourself how much things like different health care plans, work life balance, and time off are worth. \n",
       "\n",
       "For me the reason I chose to look for a new position and leave GM was the lack of learning on the job and lack of mentorship inside my team at the time. But that is entirely team based. If I was on a different team there is a likelihood I would not have looked and left for a new job.\n",
       "\n",
       "Ultimately I&#x27;m happy for the way my experience at GM shaped my career priorities and for the time I was there. I&#x27;m also glad I got out when I did as I was not in a good position to grow like I wanted to.&quot;</td><td>&quot;In general GM has pretty good benefits, a good work life balance, and is on the lower side for base pay. You will have to figure out for yourself how much things like different health care plans, work life balance, and time off are worth.&quot;</td></tr><tr><td>&quot;GeneralMotors&quot;</td><td>&quot;As a former employee who has moved on from the company I can say the benefits at GM are pretty good and are a good reason to stay.  And the company is usually (but not always) good at making cost of living increases.\n",
       "\n",
       "With good benefits and salary increases its pretty easy to get comfortable at GM.&quot;</td><td>&quot;As a former employee who has moved on from the company I can say the benefits at GM are pretty good and are a good reason to stay.  And the company is usually (but not always) good at making cost of living increases.\n",
       "\n",
       "With good benefits and salary increases its pretty easy to get comfortable at GM.&quot;</td></tr><tr><td>&quot;GeneralMotors&quot;</td><td>&quot;I do agree that GM&#x27;s overall benefits are superior.\n",
       "\n",
       "A couple things to note is that the other company is offering $2k more in tuition assistance than GM if I do grad school, which is what I would pursue (if I need to) since I&#x27;m almost done with my undergrad. GM&#x27;s vacation policy and paternity leave is better, but do fathers get the 12 weeks too or is that for mothers? The other company has the same matching policy except they don&#x27;t give you 4% of your salary for free even if you don&#x27;t personally contribute. The other company doesn&#x27;t have a vesting period while GM has a 3 year vesting period.\n",
       "\n",
       "The main things the other company brings to the table are additional bonuses such as a $10k sign on bonus as well as $15k in stocks and a sizeable lump sump for relocation,  on top of around $7k more in base pay. They also have a similar 10% bonus system where they very often hit their 200% target compared to GM.&quot;</td><td>&quot;I do agree that GM&#x27;s overall benefits are superior.&quot;</td></tr><tr><td>&quot;GeneralMotors&quot;</td><td>&quot;What makes GM better? Better work life balance?&quot;</td><td>&quot;What makes GM better? Better work life balance?&quot;</td></tr><tr><td>&quot;GeneralMotors&quot;</td><td>&quot;GM has one of the best benefits out there. Look at the 1500 for life steps program. GM will give you 1500 just to get your physical done. The GM culture and holidays we get beats most companies. Did you know we get a day off just to vote? Primary and secondary elections? The shutdown for Christmas is a week. Free vacation. And did you know GM gives 12 weeks paid paternity leave? All of those summed up will be close or even more than the other company. Also GM gives you 4% on 401k and match of what you put in. It is 12% max i think. That is also huge. Sharing these benefits are not secret and is publix info if you dig it up. So what is the other company bringing to the table? Also GM will pay for your school if you were to obtain a masters degree.&quot;</td><td>&quot;GM has one of the best benefits out there. Look at the 1500 for life steps program. GM will give you 1500 just to get your physical done. The GM culture and holidays we get beats most companies. Did you know we get a day off just to vote? Primary and secondary elections? The shutdown for Christmas is a week. Free vacation. And did you know GM gives 12 weeks paid paternity leave? All of those summed up will be close or even more than the other company. Also GM gives you 4% on 401k and match of what you put&quot;</td></tr><tr><td>&quot;GeneralMotors&quot;</td><td>&quot;It does help go further at GM. That&#x27;s a fact&quot;</td><td>&quot;It does help go further at GM. That&#x27;s a fact&quot;</td></tr><tr><td>&quot;GeneralMotors&quot;</td><td>&quot;As an outsider, wouldn’t someone who works GM be qualified to get a solid job elsewhere? Some roles might not even have to stay in the automotive industry. I get GM has solid benefits and people still don’t want to get fired through/&quot;</td><td>&quot;As an outsider, wouldn’t someone who works GM be qualified to get a solid job elsewhere? Some roles might not even have to stay in the automotive industry. I get GM has solid benefits and people still don’t want to get fired through/&quot;</td></tr><tr><td>&quot;GeneralMotors&quot;</td><td>&quot;Do you work for GM?&quot;</td><td>&quot;Do you work for GM?&quot;</td></tr><tr><td>&quot;GeneralMotors&quot;</td><td>&quot;Do you work for GM?&quot;</td><td>&quot;Do you work for GM?&quot;</td></tr><tr><td>&quot;GeneralMotors&quot;</td><td>&quot;I went from GM to a tech company recently (not FAANG) and am already making about 30% more. And the benefits are better. GM benefits are fantastic for their employment tier. They compete for employees with other manufacturers, financial companies, corporate retail, etc. Tech companies are on a whole different level though. They have to compete with FAANG companies to get employees, so their benefits are typically much better. \n",
       "\n",
       "Don&#x27;t stay at GM after you hit your 3 year vest. Leave and get a better job somewhere else. Either way, just apply and interview... you have nothing to lose.&quot;</td><td>&quot;I went from GM to a tech company recently (not FAANG) and am already making about 30% more. And the benefits are better. GM benefits are fantastic for their employment tier. They compete for employees with other manufacturers, financial companies, corporate retail, etc. Tech companies are on a whole different level though. They have to compete with FAANG companies to get employees, so their benefits are typically much better.&quot;</td></tr><tr><td>&quot;GeneralMotors&quot;</td><td>&quot;First off I am glad you found a great team at GM that you like and allows you to have a great work life balance. But that is more down to the team and leadership creating a positive environment more than GM as a company.  \n",
       "\n",
       "Remember, the company doesn&#x27;t care about you, your team, or your project. They will cut you and everyone around you if it benefits the company. They&#x27;ll also give you raise like 2022 or extra 30% on your bonus to keep you, *if it benefits the company*. That&#x27;s the just the way it works, at GM or any other large corporation.\n",
       "\n",
       "I was in same position as you at AZ Innovation Center, for the last 8 years I loved the people and teams I worked with there. We played an important role in a critical part of the business, but they got rid of us all the same. \n",
       "\n",
       "Hope for the good times to never end, but always remember to enjoy it while it lasts and don&#x27;t ever take it for granted.&quot;</td><td>&quot;First off I am glad you found a great team at GM that you like and allows you to have a great work life balance. But that is more down to the team and leadership creating a positive environment more than GM as a company.&quot;</td></tr><tr><td>&quot;GeneralMotors&quot;</td><td>&quot;Great answer, and thank you. Getting paid more / trying a new field would be reasons to leave on my end. Agreed it&#x27;s not a bad place to work with the right leadership, lots of big perks to GM!&quot;</td><td>&quot;Great answer, and thank you. Getting paid more / trying a new field would be reasons to leave on my end. Agreed it&#x27;s not a bad place to work with the right leadership, lots of big perks to GM!&quot;</td></tr><tr><td>&quot;GeneralMotors&quot;</td><td>&quot;You will have a great time at GM especially. As a TRACK. When you have hundreds of teams and thousands of employees opinions differ. I have 15 years of automotive working experience and have worked for several other Auto companies, GM is one of the best.&quot;</td><td>&quot;You will have a great time at GM especially. As a TRACK. When you have hundreds of teams and thousands of employees opinions differ. I have 15 years of automotive working experience and have worked for several other Auto companies, GM is one of the best.&quot;</td></tr><tr><td>&quot;GeneralMotors&quot;</td><td>&quot;I could go on and on about my issues with the rollout of RTO and SLT in general, but I just don’t understand this new push on a basic level.\n",
       "\n",
       "My belief has always been that Work Appropriately is a fantastic tool for us. It’s a great recruitment tool (which they used to talk about and still do in regards to SLT positions, but not for us pleabs) and I would say most people consider it added compensation. I really felt like it was the only way we could compete with companies like Tesla.  They may pay more, but a lot of people will sacrifice pay for remote flexibility and a better work environment. It seemed like an easy win win. GM can compete with the big boys without having to spend like them, and doesn’t have to give much up. Just trust your workers, and let them work where they can succeed, and as we’ve seen over the past three years, from every indication, remote work is just as effective as in person.\n",
       "\n",
       "So I’m just confused. From every indicator, we’re doing pretty well in an otherwise rough economic environment. You sat there on Wednesday and bragged about how great all our new vehicles are as we pull in record profits quarter after quarter in a bad economy (all done under the WA model). And yet SLT would have you believe that we’re all unproductive and getting rid of WA is the only solution. We’re not asking for more money, or a 4 day work week or anything like that. This is free, makes your workers happy, and doesn’t seem to alter productivity one bit. So why? I just don’t get it. Why with all our “success” recently, do you want to just throw a grenade into the mix. I’m just baffled, it doesn’t make any sense. Why?? Because the city of Warren wants the economic benefit? Have you ever been to the tech center? It’s massive and just going across the street to Wendy’s takes up 90% of your lunch break. Hardly anybody goes out for lunch or stops somewhere around there after work.  Or even better, as they said on Wednesday, you’re worried about Continental and Starbucks “making a profit”. Are you fucking kidding me? You’re worried about them and their $15 sandwiches and not your own employees? What is wrong with you people?\n",
       "\n",
       "I know some think us complaining about this are just lazy and want to keep working in our PJ’s. Yeah maybe that’s true for some. But you can’t argue with the fact that all this push does, is piss A LOT of your employees off and throw a wrench into an otherwise good “system”, by taking away something that cost you nothing. Nothing. Why don’t you get rid of Dress Appropritly next. Dress better, feel better, work better, am I right? Suit and ties for everyone. Who cares that that would piss everyone off and hinder productivity. I don’t care that this is a free compensation tool that places like banks can’t offer. Let’s get those linemen in the plants in suits asap. “I know I work better in a suit”-Mark. \n",
       "\n",
       "I think SLT’s attitudes and actions around this are bad enough, but the whole idea of ending WA just make zero sense to me. I …</td><td>&quot;remote flexibility and a better work environment. It seemed like an easy win win. GM can compete with the big boys without having to spend like them, and doesn’t have to give much up. Just trust your workers, and let them work where they can succeed, and as we’ve seen over the past three years, from every indication, remote work is just as effective as in person.&quot;</td></tr></tbody></table></div>"
      ],
      "text/plain": [
       "shape: (15, 3)\n",
       "┌──────────────────┬───────────────────────────────────────┬───────────────────────────────────────┐\n",
       "│ reddit_subreddit ┆ reddit_text                           ┆ text_chunk                            │\n",
       "│ ---              ┆ ---                                   ┆ ---                                   │\n",
       "│ str              ┆ str                                   ┆ str                                   │\n",
       "╞══════════════════╪═══════════════════════════════════════╪═══════════════════════════════════════╡\n",
       "│ GeneralMotors    ┆ If you work at GM most of the         ┆ If you work at GM most of the         │\n",
       "│                  ┆ benefits that make this job           ┆ benefits that make this job           │\n",
       "│                  ┆ worthwhile come from unions demanding ┆ worthwhile come from unions demanding │\n",
       "│                  ┆ them                                  ┆ them                                  │\n",
       "│ GeneralMotors    ┆ In general GM has pretty good         ┆ In general GM has pretty good         │\n",
       "│                  ┆ benefits, a good work life balance,   ┆ benefits, a good work life balance,   │\n",
       "│                  ┆ and is on the lower side for base     ┆ and is on the lower side for base     │\n",
       "│                  ┆ pay. You will have to figure out for  ┆ pay. You will have to figure out for  │\n",
       "│                  ┆ yourself how much things like         ┆ yourself how much things like         │\n",
       "│                  ┆ different health care plans, work     ┆ different health care plans, work     │\n",
       "│                  ┆ life balance, and time off are worth. ┆ life balance, and time off are worth. │\n",
       "│                  ┆                                       ┆                                       │\n",
       "│                  ┆ For me the reason I chose to look for ┆                                       │\n",
       "│                  ┆ a new position and leave GM was the   ┆                                       │\n",
       "│                  ┆ lack of learning on the job and lack  ┆                                       │\n",
       "│                  ┆ of mentorship inside my team at the   ┆                                       │\n",
       "│                  ┆ time. But that is entirely team       ┆                                       │\n",
       "│                  ┆ based. If I was on a different team   ┆                                       │\n",
       "│                  ┆ there is a likelihood I would not     ┆                                       │\n",
       "│                  ┆ have looked and left for a new job.   ┆                                       │\n",
       "│                  ┆                                       ┆                                       │\n",
       "│                  ┆ Ultimately I'm happy for the way my   ┆                                       │\n",
       "│                  ┆ experience at GM shaped my career     ┆                                       │\n",
       "│                  ┆ priorities and for the time I was     ┆                                       │\n",
       "│                  ┆ there. I'm also glad I got out when I ┆                                       │\n",
       "│                  ┆ did as I was not in a good position   ┆                                       │\n",
       "│                  ┆ to grow like I wanted to.             ┆                                       │\n",
       "│ GeneralMotors    ┆ As a former employee who has moved on ┆ As a former employee who has moved on │\n",
       "│                  ┆ from the company I can say the        ┆ from the company I can say the        │\n",
       "│                  ┆ benefits at GM are pretty good and    ┆ benefits at GM are pretty good and    │\n",
       "│                  ┆ are a good reason to stay.  And the   ┆ are a good reason to stay.  And the   │\n",
       "│                  ┆ company is usually (but not always)   ┆ company is usually (but not always)   │\n",
       "│                  ┆ good at making cost of living         ┆ good at making cost of living         │\n",
       "│                  ┆ increases.                            ┆ increases.                            │\n",
       "│                  ┆                                       ┆                                       │\n",
       "│                  ┆ With good benefits and salary         ┆ With good benefits and salary         │\n",
       "│                  ┆ increases its pretty easy to get      ┆ increases its pretty easy to get      │\n",
       "│                  ┆ comfortable at GM.                    ┆ comfortable at GM.                    │\n",
       "│ GeneralMotors    ┆ I do agree that GM's overall benefits ┆ I do agree that GM's overall benefits │\n",
       "│                  ┆ are superior.                         ┆ are superior.                         │\n",
       "│                  ┆                                       ┆                                       │\n",
       "│                  ┆ A couple things to note is that the   ┆                                       │\n",
       "│                  ┆ other company is offering $2k more in ┆                                       │\n",
       "│                  ┆ tuition assistance than GM if I do    ┆                                       │\n",
       "│                  ┆ grad school, which is what I would    ┆                                       │\n",
       "│                  ┆ pursue (if I need to) since I'm       ┆                                       │\n",
       "│                  ┆ almost done with my undergrad. GM's   ┆                                       │\n",
       "│                  ┆ vacation policy and paternity leave   ┆                                       │\n",
       "│                  ┆ is better, but do fathers get the 12  ┆                                       │\n",
       "│                  ┆ weeks too or is that for mothers? The ┆                                       │\n",
       "│                  ┆ other company has the same matching   ┆                                       │\n",
       "│                  ┆ policy except they don't give you 4%  ┆                                       │\n",
       "│                  ┆ of your salary for free even if you   ┆                                       │\n",
       "│                  ┆ don't personally contribute. The      ┆                                       │\n",
       "│                  ┆ other company doesn't have a vesting  ┆                                       │\n",
       "│                  ┆ period while GM has a 3 year vesting  ┆                                       │\n",
       "│                  ┆ period.                               ┆                                       │\n",
       "│                  ┆                                       ┆                                       │\n",
       "│                  ┆ The main things the other company     ┆                                       │\n",
       "│                  ┆ brings to the table are additional    ┆                                       │\n",
       "│                  ┆ bonuses such as a $10k sign on bonus  ┆                                       │\n",
       "│                  ┆ as well as $15k in stocks and a       ┆                                       │\n",
       "│                  ┆ sizeable lump sump for relocation,    ┆                                       │\n",
       "│                  ┆ on top of around $7k more in base     ┆                                       │\n",
       "│                  ┆ pay. They also have a similar 10%     ┆                                       │\n",
       "│                  ┆ bonus system where they very often    ┆                                       │\n",
       "│                  ┆ hit their 200% target compared to GM. ┆                                       │\n",
       "│ GeneralMotors    ┆ What makes GM better? Better work     ┆ What makes GM better? Better work     │\n",
       "│                  ┆ life balance?                         ┆ life balance?                         │\n",
       "│ GeneralMotors    ┆ GM has one of the best benefits out   ┆ GM has one of the best benefits out   │\n",
       "│                  ┆ there. Look at the 1500 for life      ┆ there. Look at the 1500 for life      │\n",
       "│                  ┆ steps program. GM will give you 1500  ┆ steps program. GM will give you 1500  │\n",
       "│                  ┆ just to get your physical done. The   ┆ just to get your physical done. The   │\n",
       "│                  ┆ GM culture and holidays we get beats  ┆ GM culture and holidays we get beats  │\n",
       "│                  ┆ most companies. Did you know we get a ┆ most companies. Did you know we get a │\n",
       "│                  ┆ day off just to vote? Primary and     ┆ day off just to vote? Primary and     │\n",
       "│                  ┆ secondary elections? The shutdown for ┆ secondary elections? The shutdown for │\n",
       "│                  ┆ Christmas is a week. Free vacation.   ┆ Christmas is a week. Free vacation.   │\n",
       "│                  ┆ And did you know GM gives 12 weeks    ┆ And did you know GM gives 12 weeks    │\n",
       "│                  ┆ paid paternity leave? All of those    ┆ paid paternity leave? All of those    │\n",
       "│                  ┆ summed up will be close or even more  ┆ summed up will be close or even more  │\n",
       "│                  ┆ than the other company. Also GM gives ┆ than the other company. Also GM gives │\n",
       "│                  ┆ you 4% on 401k and match of what you  ┆ you 4% on 401k and match of what you  │\n",
       "│                  ┆ put in. It is 12% max i think. That   ┆ put                                   │\n",
       "│                  ┆ is also huge. Sharing these benefits  ┆                                       │\n",
       "│                  ┆ are not secret and is publix info if  ┆                                       │\n",
       "│                  ┆ you dig it up. So what is the other   ┆                                       │\n",
       "│                  ┆ company bringing to the table? Also   ┆                                       │\n",
       "│                  ┆ GM will pay for your school if you    ┆                                       │\n",
       "│                  ┆ were to obtain a masters degree.      ┆                                       │\n",
       "│ GeneralMotors    ┆ It does help go further at GM. That's ┆ It does help go further at GM. That's │\n",
       "│                  ┆ a fact                                ┆ a fact                                │\n",
       "│ GeneralMotors    ┆ As an outsider, wouldn’t someone who  ┆ As an outsider, wouldn’t someone who  │\n",
       "│                  ┆ works GM be qualified to get a solid  ┆ works GM be qualified to get a solid  │\n",
       "│                  ┆ job elsewhere? Some roles might not   ┆ job elsewhere? Some roles might not   │\n",
       "│                  ┆ even have to stay in the automotive   ┆ even have to stay in the automotive   │\n",
       "│                  ┆ industry. I get GM has solid benefits ┆ industry. I get GM has solid benefits │\n",
       "│                  ┆ and people still don’t want to get    ┆ and people still don’t want to get    │\n",
       "│                  ┆ fired through/                        ┆ fired through/                        │\n",
       "│ GeneralMotors    ┆ Do you work for GM?                   ┆ Do you work for GM?                   │\n",
       "│ GeneralMotors    ┆ Do you work for GM?                   ┆ Do you work for GM?                   │\n",
       "│ GeneralMotors    ┆ I went from GM to a tech company      ┆ I went from GM to a tech company      │\n",
       "│                  ┆ recently (not FAANG) and am already   ┆ recently (not FAANG) and am already   │\n",
       "│                  ┆ making about 30% more. And the        ┆ making about 30% more. And the        │\n",
       "│                  ┆ benefits are better. GM benefits are  ┆ benefits are better. GM benefits are  │\n",
       "│                  ┆ fantastic for their employment tier.  ┆ fantastic for their employment tier.  │\n",
       "│                  ┆ They compete for employees with other ┆ They compete for employees with other │\n",
       "│                  ┆ manufacturers, financial companies,   ┆ manufacturers, financial companies,   │\n",
       "│                  ┆ corporate retail, etc. Tech companies ┆ corporate retail, etc. Tech companies │\n",
       "│                  ┆ are on a whole different level        ┆ are on a whole different level        │\n",
       "│                  ┆ though. They have to compete with     ┆ though. They have to compete with     │\n",
       "│                  ┆ FAANG companies to get employees, so  ┆ FAANG companies to get employees, so  │\n",
       "│                  ┆ their benefits are typically much     ┆ their benefits are typically much     │\n",
       "│                  ┆ better.                               ┆ better.                               │\n",
       "│                  ┆                                       ┆                                       │\n",
       "│                  ┆ Don't stay at GM after you hit your 3 ┆                                       │\n",
       "│                  ┆ year vest. Leave and get a better job ┆                                       │\n",
       "│                  ┆ somewhere else. Either way, just      ┆                                       │\n",
       "│                  ┆ apply and interview... you have       ┆                                       │\n",
       "│                  ┆ nothing to lose.                      ┆                                       │\n",
       "│ GeneralMotors    ┆ First off I am glad you found a great ┆ First off I am glad you found a great │\n",
       "│                  ┆ team at GM that you like and allows   ┆ team at GM that you like and allows   │\n",
       "│                  ┆ you to have a great work life         ┆ you to have a great work life         │\n",
       "│                  ┆ balance. But that is more down to the ┆ balance. But that is more down to the │\n",
       "│                  ┆ team and leadership creating a        ┆ team and leadership creating a        │\n",
       "│                  ┆ positive environment more than GM as  ┆ positive environment more than GM as  │\n",
       "│                  ┆ a company.                            ┆ a company.                            │\n",
       "│                  ┆                                       ┆                                       │\n",
       "│                  ┆ Remember, the company doesn't care    ┆                                       │\n",
       "│                  ┆ about you, your team, or your         ┆                                       │\n",
       "│                  ┆ project. They will cut you and        ┆                                       │\n",
       "│                  ┆ everyone around you if it benefits    ┆                                       │\n",
       "│                  ┆ the company. They'll also give you    ┆                                       │\n",
       "│                  ┆ raise like 2022 or extra 30% on your  ┆                                       │\n",
       "│                  ┆ bonus to keep you, *if it benefits    ┆                                       │\n",
       "│                  ┆ the company*. That's the just the way ┆                                       │\n",
       "│                  ┆ it works, at GM or any other large    ┆                                       │\n",
       "│                  ┆ corporation.                          ┆                                       │\n",
       "│                  ┆                                       ┆                                       │\n",
       "│                  ┆ I was in same position as you at AZ   ┆                                       │\n",
       "│                  ┆ Innovation Center, for the last 8     ┆                                       │\n",
       "│                  ┆ years I loved the people and teams I  ┆                                       │\n",
       "│                  ┆ worked with there. We played an       ┆                                       │\n",
       "│                  ┆ important role in a critical part of  ┆                                       │\n",
       "│                  ┆ the business, but they got rid of us  ┆                                       │\n",
       "│                  ┆ all the same.                         ┆                                       │\n",
       "│                  ┆                                       ┆                                       │\n",
       "│                  ┆ Hope for the good times to never end, ┆                                       │\n",
       "│                  ┆ but always remember to enjoy it while ┆                                       │\n",
       "│                  ┆ it lasts and don't ever take it for   ┆                                       │\n",
       "│                  ┆ granted.                              ┆                                       │\n",
       "│ GeneralMotors    ┆ Great answer, and thank you. Getting  ┆ Great answer, and thank you. Getting  │\n",
       "│                  ┆ paid more / trying a new field would  ┆ paid more / trying a new field would  │\n",
       "│                  ┆ be reasons to leave on my end. Agreed ┆ be reasons to leave on my end. Agreed │\n",
       "│                  ┆ it's not a bad place to work with the ┆ it's not a bad place to work with the │\n",
       "│                  ┆ right leadership, lots of big perks   ┆ right leadership, lots of big perks   │\n",
       "│                  ┆ to GM!                                ┆ to GM!                                │\n",
       "│ GeneralMotors    ┆ You will have a great time at GM      ┆ You will have a great time at GM      │\n",
       "│                  ┆ especially. As a TRACK. When you have ┆ especially. As a TRACK. When you have │\n",
       "│                  ┆ hundreds of teams and thousands of    ┆ hundreds of teams and thousands of    │\n",
       "│                  ┆ employees opinions differ. I have 15  ┆ employees opinions differ. I have 15  │\n",
       "│                  ┆ years of automotive working           ┆ years of automotive working           │\n",
       "│                  ┆ experience and have worked for        ┆ experience and have worked for        │\n",
       "│                  ┆ several other Auto companies, GM is   ┆ several other Auto companies, GM is   │\n",
       "│                  ┆ one of the best.                      ┆ one of the best.                      │\n",
       "│ GeneralMotors    ┆ I could go on and on about my issues  ┆ remote flexibility and a better work  │\n",
       "│                  ┆ with the rollout of RTO and SLT in    ┆ environment. It seemed like an easy   │\n",
       "│                  ┆ general, but I just don’t understand  ┆ win win. GM can compete with the big  │\n",
       "│                  ┆ this new push on a basic level.       ┆ boys without having to spend like     │\n",
       "│                  ┆                                       ┆ them, and doesn’t have to give much   │\n",
       "│                  ┆ My belief has always been that Work   ┆ up. Just trust your workers, and let  │\n",
       "│                  ┆ Appropriately is a fantastic tool for ┆ them work where they can succeed, and │\n",
       "│                  ┆ us. It’s a great recruitment tool     ┆ as we’ve seen over the past three     │\n",
       "│                  ┆ (which they used to talk about and    ┆ years, from every indication, remote  │\n",
       "│                  ┆ still do in regards to SLT positions, ┆ work is just as effective as in       │\n",
       "│                  ┆ but not for us pleabs) and I would    ┆ person.                               │\n",
       "│                  ┆ say most people consider it added     ┆                                       │\n",
       "│                  ┆ compensation. I really felt like it   ┆                                       │\n",
       "│                  ┆ was the only way we could compete     ┆                                       │\n",
       "│                  ┆ with companies like Tesla.  They may  ┆                                       │\n",
       "│                  ┆ pay more, but a lot of people will    ┆                                       │\n",
       "│                  ┆ sacrifice pay for remote flexibility  ┆                                       │\n",
       "│                  ┆ and a better work environment. It     ┆                                       │\n",
       "│                  ┆ seemed like an easy win win. GM can   ┆                                       │\n",
       "│                  ┆ compete with the big boys without     ┆                                       │\n",
       "│                  ┆ having to spend like them, and        ┆                                       │\n",
       "│                  ┆ doesn’t have to give much up. Just    ┆                                       │\n",
       "│                  ┆ trust your workers, and let them work ┆                                       │\n",
       "│                  ┆ where they can succeed, and as we’ve  ┆                                       │\n",
       "│                  ┆ seen over the past three years, from  ┆                                       │\n",
       "│                  ┆ every indication, remote work is just ┆                                       │\n",
       "│                  ┆ as effective as in person.            ┆                                       │\n",
       "│                  ┆                                       ┆                                       │\n",
       "│                  ┆ So I’m just confused. From every      ┆                                       │\n",
       "│                  ┆ indicator, we’re doing pretty well in ┆                                       │\n",
       "│                  ┆ an otherwise rough economic           ┆                                       │\n",
       "│                  ┆ environment. You sat there on         ┆                                       │\n",
       "│                  ┆ Wednesday and bragged about how great ┆                                       │\n",
       "│                  ┆ all our new vehicles are as we pull   ┆                                       │\n",
       "│                  ┆ in record profits quarter after       ┆                                       │\n",
       "│                  ┆ quarter in a bad economy (all done    ┆                                       │\n",
       "│                  ┆ under the WA model). And yet SLT      ┆                                       │\n",
       "│                  ┆ would have you believe that we’re all ┆                                       │\n",
       "│                  ┆ unproductive and getting rid of WA is ┆                                       │\n",
       "│                  ┆ the only solution. We’re not asking   ┆                                       │\n",
       "│                  ┆ for more money, or a 4 day work week  ┆                                       │\n",
       "│                  ┆ or anything like that. This is free,  ┆                                       │\n",
       "│                  ┆ makes your workers happy, and doesn’t ┆                                       │\n",
       "│                  ┆ seem to alter productivity one bit.   ┆                                       │\n",
       "│                  ┆ So why? I just don’t get it. Why with ┆                                       │\n",
       "│                  ┆ all our “success” recently, do you    ┆                                       │\n",
       "│                  ┆ want to just throw a grenade into the ┆                                       │\n",
       "│                  ┆ mix. I’m just baffled, it doesn’t     ┆                                       │\n",
       "│                  ┆ make any sense. Why?? Because the     ┆                                       │\n",
       "│                  ┆ city of Warren wants the economic     ┆                                       │\n",
       "│                  ┆ benefit? Have you ever been to the    ┆                                       │\n",
       "│                  ┆ tech center? It’s massive and just    ┆                                       │\n",
       "│                  ┆ going across the street to Wendy’s    ┆                                       │\n",
       "│                  ┆ takes up 90% of your lunch break.     ┆                                       │\n",
       "│                  ┆ Hardly anybody goes out for lunch or  ┆                                       │\n",
       "│                  ┆ stops somewhere around there after    ┆                                       │\n",
       "│                  ┆ work.  Or even better, as they said   ┆                                       │\n",
       "│                  ┆ on Wednesday, you’re worried about    ┆                                       │\n",
       "│                  ┆ Continental and Starbucks “making a   ┆                                       │\n",
       "│                  ┆ profit”. Are you fucking kidding me?  ┆                                       │\n",
       "│                  ┆ You’re worried about them and their   ┆                                       │\n",
       "│                  ┆ $15 sandwiches and not your own       ┆                                       │\n",
       "│                  ┆ employees? What is wrong with you     ┆                                       │\n",
       "│                  ┆ people?                               ┆                                       │\n",
       "│                  ┆                                       ┆                                       │\n",
       "│                  ┆ I know some think us complaining      ┆                                       │\n",
       "│                  ┆ about this are just lazy and want to  ┆                                       │\n",
       "│                  ┆ keep working in our PJ’s. Yeah maybe  ┆                                       │\n",
       "│                  ┆ that’s true for some. But you can’t   ┆                                       │\n",
       "│                  ┆ argue with the fact that all this     ┆                                       │\n",
       "│                  ┆ push does, is piss A LOT of your      ┆                                       │\n",
       "│                  ┆ employees off and throw a wrench into ┆                                       │\n",
       "│                  ┆ an otherwise good “system”, by taking ┆                                       │\n",
       "│                  ┆ away something that cost you nothing. ┆                                       │\n",
       "│                  ┆ Nothing. Why don’t you get rid of     ┆                                       │\n",
       "│                  ┆ Dress Appropritly next. Dress better, ┆                                       │\n",
       "│                  ┆ feel better, work better, am I right? ┆                                       │\n",
       "│                  ┆ Suit and ties for everyone. Who cares ┆                                       │\n",
       "│                  ┆ that that would piss everyone off and ┆                                       │\n",
       "│                  ┆ hinder productivity. I don’t care     ┆                                       │\n",
       "│                  ┆ that this is a free compensation tool ┆                                       │\n",
       "│                  ┆ that places like banks can’t offer.   ┆                                       │\n",
       "│                  ┆ Let’s get those linemen in the plants ┆                                       │\n",
       "│                  ┆ in suits asap. “I know I work better  ┆                                       │\n",
       "│                  ┆ in a suit”-Mark.                      ┆                                       │\n",
       "│                  ┆                                       ┆                                       │\n",
       "│                  ┆ I think SLT’s attitudes and actions   ┆                                       │\n",
       "│                  ┆ around this are bad enough, but the   ┆                                       │\n",
       "│                  ┆ whole idea of ending WA just make     ┆                                       │\n",
       "│                  ┆ zero sense to me. I r…                ┆                                       │\n",
       "└──────────────────┴───────────────────────────────────────┴───────────────────────────────────────┘"
      ]
     },
     "execution_count": 11,
     "metadata": {},
     "output_type": "execute_result"
    }
   ],
   "source": [
    "%%time\n",
    "## Embed a query\n",
    "query_text = \"What are the biggest benefits of working for GM?\"\n",
    "query = model.embed_query(query_text)\n",
    "\n",
    "## Perform similarity search on database using KNN\n",
    "result = table.search(query).limit(15).to_polars()\n",
    "\n",
    "## Display the results\n",
    "pl.Config.set_tbl_rows(15) ## Display up to 15 rows\n",
    "pl.Config.set_fmt_str_lengths(3000) ## Display up to 3000 characters per column\n",
    "result[[\"reddit_subreddit\",\"reddit_text\",\"text_chunk\"]]"
   ]
  },
  {
   "cell_type": "code",
   "execution_count": null,
   "id": "f4fb4f35-218c-4755-8fbd-3b0edf4be9f2",
   "metadata": {
    "editable": true,
    "slideshow": {
     "slide_type": ""
    },
    "tags": []
   },
   "outputs": [],
   "source": []
  }
 ],
 "metadata": {
  "kernelspec": {
   "display_name": "Python [conda env:aware] *",
   "language": "python",
   "name": "conda-env-aware-py"
  },
  "language_info": {
   "codemirror_mode": {
    "name": "ipython",
    "version": 3
   },
   "file_extension": ".py",
   "mimetype": "text/x-python",
   "name": "python",
   "nbconvert_exporter": "python",
   "pygments_lexer": "ipython3",
   "version": "3.11.8"
  }
 },
 "nbformat": 4,
 "nbformat_minor": 5
}
