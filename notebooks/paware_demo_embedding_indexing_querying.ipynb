{
 "cells": [
  {
   "cell_type": "code",
   "execution_count": 1,
   "id": "632b8dd5-16e6-42da-8dcd-d4fcb3da1863",
   "metadata": {
    "editable": true,
    "slideshow": {
     "slide_type": ""
    },
    "tags": []
   },
   "outputs": [],
   "source": [
    "## Add this directory to the path and load our functions\n",
    "import sys\n",
    "sys.path.append(\"../src/\")\n",
    "\n",
    "import paware"
   ]
  },
  {
   "cell_type": "markdown",
   "id": "3dd74ec8-34e0-4fc5-8927-6170b6b2e353",
   "metadata": {},
   "source": [
    "# Embedding the data\n",
    "\n",
    "First we apply an embedding to our data. For demonstration purposes, we are only embedding the the data from the GM subreddit. At this stage that we apply some preprocessing, and set the embedding parameters.\n",
    "\n",
    "To process the whole dataset, we first split it into separate files, one for each subreddit. This kept file sizes manageable while preserving all of the structure of replies.\n",
    "\n",
    "## Preprocessing\n",
    "\n",
    "The steps in preprocessing are:\n",
    "\n",
    "* Drop deleted or removed comments and submission\n",
    "* Drop likely bots and memes\n",
    "* Handle blank comments and submissions\n",
    "\n",
    "Here, we also add a column `is_short_question` that indicates whether the `reddit_text` is fewer than 100 characters and ends with a `\"?\"`.\n",
    "\n",
    "## Embedding\n",
    "\n",
    "For embedding, the main parameters we vary are:\n",
    "\n",
    "* `CHUNK_WITH_METADATA` - This determines whether we append some information about the subreddit to the start of each text chunk before embedding\n",
    "* `CHUNK_SIZE` - This determines the maximum token length we will send to the embedding model at a time\n",
    "* `CHUNK_OVERLAP_PCT` - This determines the minimum overlap between adjacent text chunks\n",
    "\n",
    "Under the hood, we are using a BERT based embedding model, gte-base. See more at: [Hugging Face](https://huggingface.co/thenlper/gte-base)"
   ]
  },
  {
   "cell_type": "code",
   "execution_count": 2,
   "id": "112cd497-c5e8-4edb-9085-7321111e1bbc",
   "metadata": {},
   "outputs": [
    {
     "name": "stdout",
     "output_type": "stream",
     "text": [
      "Dropping 1099 rows with reddit_text=='[deleted]'\n",
      "Dropping 119 rows with reddit_text=='[removed]'\n",
      "Dropping 67 rows that are likely bots or memes\n",
      "Dropping 0 rows with 'reddit_text'=='' and 'aware_post_type'=='comment'\n",
      "Dropping 0 rows with 'reddit_text'==' ' and 'aware_post_type'=='comment'\n",
      "Replacing 'reddit_text' with 'reddit_title' in 235 rows with 'reddit_text'=='' or 'reddit_text'==' '\n",
      "Working on batch 0, rows 0 through 10000...\n",
      "Done with batch 0.\n",
      "Working on batch 1, rows 10000 through 20000...\n",
      "Done with batch 1.\n",
      "Working on batch 2, rows 20000 through 30000...\n",
      "Done with batch 2.\n",
      "Working on batch 3, rows 30000 through 40000...\n",
      "Done with batch 3.\n",
      "Working on batch 4, rows 40000 through 41089...\n",
      "Done with batch 4.\n"
     ]
    }
   ],
   "source": [
    "paware.PawEmbedding(\n",
    "    CONFIG_NAME=\"demo\", ## This is the name of the embedding configuration\n",
    "    RAW_DATA_PATH=\"../temp_data/raw_data_subset_gm.parquet\", ## This is the path to the raw data\n",
    "    EMBEDDED_SAVE_DIR=\"../temp_vector_data/\", ## All of the embedded data will be saved a subdirectory of this directory: \"config_[CONFIG_NAME]/\"\n",
    "    BATCH_SIZE=10000, ## This is the batch size for the embedding\n",
    "    CHUNK_WITH_METADATA=False, ## This is a flag to indicate if we are including metadata in the embedding\n",
    "    CHUNK_SIZE=512, ## This is the size of the chunks to embed\n",
    "    CHUNK_OVERLAP_PCT=0.2 ## This is the overlap percentage for the chunks\n",
    "    ).embed_data() "
   ]
  },
  {
   "cell_type": "markdown",
   "id": "775ffbbf",
   "metadata": {},
   "source": [
    "## Building a Vector Database and Indexing the Data\n",
    "\n",
    "The following loads our data into a [LanceDB](https://lancedb.github.io/lancedb/) vector database, and creates an [IVF-PQ](https://lancedb.github.io/lancedb/concepts/index_ivfpq/#ivf-pq) ANN index. Behind the scenes, we can also vary the IVF-PQ hyperparameters to try and improve query speeds while trading off some accuracy."
   ]
  },
  {
   "cell_type": "code",
   "execution_count": 3,
   "id": "76d4f72a-c379-4b6a-8c59-43b8550fc3d2",
   "metadata": {},
   "outputs": [
    {
     "name": "stderr",
     "output_type": "stream",
     "text": [
      " 38%|███▊      | 19/50 [00:05<00:08,  3.79it/s]\n"
     ]
    },
    {
     "data": {
      "application/vnd.jupyter.widget-view+json": {
       "model_id": "03155db8d0fd4b818a53cfaf99f1532b",
       "version_major": 2,
       "version_minor": 0
      },
      "text/plain": [
       "0it [00:00, ?it/s]"
      ]
     },
     "metadata": {},
     "output_type": "display_data"
    },
    {
     "name": "stderr",
     "output_type": "stream",
     "text": [
      "/Users/marcos/miniconda3/envs/aware/lib/python3.11/site-packages/lance/torch/data.py:67: UserWarning: The given NumPy array is not writable, and PyTorch does not support non-writable tensors. This means writing to this tensor will result in undefined behavior. You may want to copy the array to protect its data or make it writable before converting it to a tensor. This type of warning will be suppressed for the rest of this program. (Triggered internally at /Users/runner/work/pytorch/pytorch/pytorch/torch/csrc/utils/tensor_numpy.cpp:212.)\n",
      "  tensor = torch.from_numpy(arr.to_numpy(zero_copy_only=False))\n"
     ]
    }
   ],
   "source": [
    "paware.PawIndex(\n",
    "    EMBEDDING_CONFIG_NAME=\"demo\", ## This is the name of the embedding configuration to load for indexing\n",
    "    EMBEDDING_DIR=\"../temp_vector_data/\", ## This is the path to the embedded data\n",
    "    INDEX_CONFIG_NAME=\"01\", ## This is the name of the index configuration\n",
    "    DB_SAVE_DIR=\"../temp_db_data/\", ## The database and associated table will be in a subdirectory of this directory: \"db_[EMBEDDING_CONFIG_NAME][INDEX_CONFIG_NAME]/\"\n",
    "    METRIC=\"cosine\", ## This is the metric to use for the index\n",
    "    ACCELERATOR=\"mps\"   ## This is the accelerator to use for creating the index (replace with `None` if you aren't on a mac)\n",
    ").index_data()"
   ]
  },
  {
   "cell_type": "markdown",
   "id": "d3bacb8c",
   "metadata": {},
   "source": [
    "# Querying the Data\n",
    "\n",
    "Once we have the data loaded and index in a database we can perform queries. In its most basic form, we only need to set the following:\n",
    "\n",
    "* `METRIC` - The metric we are using to determine distance (we always chose cosine similarity in this application)\n",
    "* `LIMIT` - The number of results we want to retrieve\n",
    "\n",
    "We also can vary parameters associated with our index:\n",
    "\n",
    "* `NPROBES` - The number of nearby Voronoi cells to check for results\n",
    "* `REFINE_FACTOR` - This multiplied by `LIMIT` will be the number of results retrieved behind the scenes, that will then be re-ranked base on actual distances (rather than just the distances to the quantized vectors)."
   ]
  },
  {
   "cell_type": "code",
   "execution_count": 8,
   "id": "d5b68af4-497a-4229-9acc-43e7fc66ef7c",
   "metadata": {
    "editable": true,
    "slideshow": {
     "slide_type": ""
    },
    "tags": []
   },
   "outputs": [],
   "source": [
    "query_tool = paware.PawQuery(\n",
    "    CONFIG_NAME=\"demo01\", ## This is the name of the [EMBEDDING_CONFIG_NAME][INDEX_CONFIG_NAME] to load for querying\n",
    "    DB_DIR=\"../temp_db_data/\", ## This is the path to the database\n",
    "    QUERY_SAVE_DIR=\"../temp_query_data/\", ## The query results will be saved in this directory as: \"queries_[EMBEDDING_CONFIG_NAME][INDEX_CONFIG_NAME][QUERY_NAME].parquet\"\n",
    "    QUERY_NAME=\"query_demo\", ## This is the name of the query\n",
    "    METRIC=\"cosine\", ## This is the metric to use for the query\n",
    "    LIMIT=50, ## This is the number of results to return\n",
    "    NPROBES=20, ## This is the number of probes to use for the query\n",
    "    REFINE_FACTOR=10 ## This is the refine factor to use for the query\n",
    "    )"
   ]
  },
  {
   "cell_type": "markdown",
   "id": "ec1d10f6",
   "metadata": {},
   "source": [
    "## Querying the Data\n",
    "\n",
    "Here, we demonstrate how to retrieve the results for a single query using our tools."
   ]
  },
  {
   "cell_type": "code",
   "execution_count": 9,
   "id": "4f546014",
   "metadata": {},
   "outputs": [
    {
     "data": {
      "text/html": [
       "<div><style>\n",
       ".dataframe > thead > tr,\n",
       ".dataframe > tbody > tr {\n",
       "  text-align: right;\n",
       "  white-space: pre-wrap;\n",
       "}\n",
       "</style>\n",
       "<small>shape: (50, 17)</small><table border=\"1\" class=\"dataframe\"><thead><tr><th>aware_post_type</th><th>aware_created_ts</th><th>reddit_id</th><th>reddit_name</th><th>reddit_created_utc</th><th>reddit_author</th><th>reddit_text</th><th>reddit_permalink</th><th>reddit_title</th><th>reddit_url</th><th>reddit_subreddit</th><th>reddit_link_id</th><th>reddit_parent_id</th><th>reddit_submission</th><th>text_chunk</th><th>vector</th><th>_distance</th></tr><tr><td>str</td><td>str</td><td>str</td><td>str</td><td>i64</td><td>str</td><td>str</td><td>str</td><td>str</td><td>str</td><td>str</td><td>str</td><td>str</td><td>str</td><td>str</td><td>array[f32, 768]</td><td>f32</td></tr></thead><tbody><tr><td>&quot;comment&quot;</td><td>&quot;2024-01-30T08:…</td><td>&quot;kk959ov&quot;</td><td>&quot;t1_kk959ov&quot;</td><td>1706620648</td><td>&quot;ArtisticOpposi…</td><td>&quot;What does this…</td><td>&quot;/r/GeneralMoto…</td><td>null</td><td>null</td><td>&quot;GeneralMotors&quot;</td><td>&quot;t3_1aenui0&quot;</td><td>&quot;t3_1aenui0&quot;</td><td>&quot;1aenui0&quot;</td><td>&quot;What does this…</td><td>[-0.012349, -0.014472, … 0.026717]</td><td>0.180064</td></tr><tr><td>&quot;comment&quot;</td><td>&quot;2023-03-12T17:…</td><td>&quot;jbzbstn&quot;</td><td>&quot;t1_jbzbstn&quot;</td><td>1678658342</td><td>&quot;Revolutionary_…</td><td>&quot;yes .many retu…</td><td>&quot;/r/GeneralMoto…</td><td>null</td><td>null</td><td>&quot;GeneralMotors&quot;</td><td>&quot;t3_11ns57e&quot;</td><td>&quot;t1_jby2cbm&quot;</td><td>&quot;11ns57e&quot;</td><td>&quot;yes .many retu…</td><td>[0.001542, -0.041068, … -0.011364]</td><td>0.183029</td></tr><tr><td>&quot;submission&quot;</td><td>&quot;2023-10-10T03:…</td><td>&quot;174fa8a&quot;</td><td>&quot;t3_174fa8a&quot;</td><td>1696923055</td><td>&quot;HighVoltageZ06…</td><td>&quot;Check your ema…</td><td>&quot;/r/GeneralMoto…</td><td>&quot;Workplace of C…</td><td>&quot;https://www.re…</td><td>&quot;GeneralMotors&quot;</td><td>null</td><td>null</td><td>null</td><td>&quot;Check your ema…</td><td>[-0.010385, -0.014085, … -0.00345]</td><td>0.184921</td></tr><tr><td>&quot;comment&quot;</td><td>&quot;2023-10-24T00:…</td><td>&quot;k67ftlm&quot;</td><td>&quot;t1_k67ftlm&quot;</td><td>1698120035</td><td>&quot;GrandpaJoeSlot…</td><td>&quot;Which function…</td><td>&quot;/r/GeneralMoto…</td><td>null</td><td>null</td><td>&quot;GeneralMotors&quot;</td><td>&quot;t3_17f0ikm&quot;</td><td>&quot;t3_17f0ikm&quot;</td><td>&quot;17f0ikm&quot;</td><td>&quot;Which function…</td><td>[-0.010807, 0.005565, … 0.029601]</td><td>0.185719</td></tr><tr><td>&quot;comment&quot;</td><td>&quot;2023-03-15T16:…</td><td>&quot;jccflhz&quot;</td><td>&quot;t1_jccflhz&quot;</td><td>1678913598</td><td>&quot;Mysterious-One…</td><td>&quot;Which function…</td><td>&quot;/r/GeneralMoto…</td><td>null</td><td>null</td><td>&quot;GeneralMotors&quot;</td><td>&quot;t3_11rvzz9&quot;</td><td>&quot;t1_jcc7zh2&quot;</td><td>&quot;11rvzz9&quot;</td><td>&quot;Which function…</td><td>[-0.010807, 0.005565, … 0.029601]</td><td>0.185719</td></tr><tr><td>&hellip;</td><td>&hellip;</td><td>&hellip;</td><td>&hellip;</td><td>&hellip;</td><td>&hellip;</td><td>&hellip;</td><td>&hellip;</td><td>&hellip;</td><td>&hellip;</td><td>&hellip;</td><td>&hellip;</td><td>&hellip;</td><td>&hellip;</td><td>&hellip;</td><td>&hellip;</td><td>&hellip;</td></tr><tr><td>&quot;comment&quot;</td><td>&quot;2023-01-05T12:…</td><td>&quot;j32l0gu&quot;</td><td>&quot;t1_j32l0gu&quot;</td><td>1672938165</td><td>&quot;None&quot;</td><td>&quot;Oh good questi…</td><td>&quot;/r/GeneralMoto…</td><td>null</td><td>null</td><td>&quot;GeneralMotors&quot;</td><td>&quot;t3_103zna6&quot;</td><td>&quot;t1_j32ixuz&quot;</td><td>&quot;103zna6&quot;</td><td>&quot;Oh good questi…</td><td>[0.020299, -0.006411, … -0.019769]</td><td>0.215532</td></tr><tr><td>&quot;comment&quot;</td><td>&quot;2023-03-13T09:…</td><td>&quot;jc1y38x&quot;</td><td>&quot;t1_jc1y38x&quot;</td><td>1678714302</td><td>&quot;RevelacaoVerda…</td><td>&quot;Anything of no…</td><td>&quot;/r/GeneralMoto…</td><td>null</td><td>null</td><td>&quot;GeneralMotors&quot;</td><td>&quot;t3_11q93mp&quot;</td><td>&quot;t3_11q93mp&quot;</td><td>&quot;11q93mp&quot;</td><td>&quot;Anything of no…</td><td>[-0.008088, -0.003823, … -0.013716]</td><td>0.215636</td></tr><tr><td>&quot;comment&quot;</td><td>&quot;2023-09-07T19:…</td><td>&quot;jzlho94&quot;</td><td>&quot;t1_jzlho94&quot;</td><td>1694128399</td><td>&quot;Extreme-Intern…</td><td>&quot;Ah got it. Tha…</td><td>&quot;/r/GeneralMoto…</td><td>null</td><td>null</td><td>&quot;GeneralMotors&quot;</td><td>&quot;t3_16adez5&quot;</td><td>&quot;t1_jzjrmir&quot;</td><td>&quot;16adez5&quot;</td><td>&quot;Ah got it. Tha…</td><td>[-0.007146, -0.015612, … -0.044951]</td><td>0.215964</td></tr><tr><td>&quot;comment&quot;</td><td>&quot;2023-01-14T10:…</td><td>&quot;j4bifa9&quot;</td><td>&quot;t1_j4bifa9&quot;</td><td>1673709176</td><td>&quot;continue_impro…</td><td>&quot;All of the abo…</td><td>&quot;/r/GeneralMoto…</td><td>null</td><td>null</td><td>&quot;GeneralMotors&quot;</td><td>&quot;t3_10b0jb5&quot;</td><td>&quot;t1_j4axkoy&quot;</td><td>&quot;10b0jb5&quot;</td><td>&quot;All of the abo…</td><td>[-0.006142, 0.003509, … -0.032284]</td><td>0.216029</td></tr><tr><td>&quot;comment&quot;</td><td>&quot;2024-01-17T06:…</td><td>&quot;ki9m23a&quot;</td><td>&quot;t1_ki9m23a&quot;</td><td>1705491618</td><td>&quot;Ecstatic-Hunte…</td><td>&quot;Good question!…</td><td>&quot;/r/GeneralMoto…</td><td>null</td><td>null</td><td>&quot;GeneralMotors&quot;</td><td>&quot;t3_198ulzx&quot;</td><td>&quot;t3_198ulzx&quot;</td><td>&quot;198ulzx&quot;</td><td>&quot;Good question!…</td><td>[0.018953, -0.004841, … -0.011793]</td><td>0.216197</td></tr></tbody></table></div>"
      ],
      "text/plain": [
       "shape: (50, 17)\n",
       "┌───────────┬───────────┬───────────┬───────────┬───┬───────────┬───────────┬───────────┬──────────┐\n",
       "│ aware_pos ┆ aware_cre ┆ reddit_id ┆ reddit_na ┆ … ┆ reddit_su ┆ text_chun ┆ vector    ┆ _distanc │\n",
       "│ t_type    ┆ ated_ts   ┆ ---       ┆ me        ┆   ┆ bmission  ┆ k         ┆ ---       ┆ e        │\n",
       "│ ---       ┆ ---       ┆ str       ┆ ---       ┆   ┆ ---       ┆ ---       ┆ array[f32 ┆ ---      │\n",
       "│ str       ┆ str       ┆           ┆ str       ┆   ┆ str       ┆ str       ┆ , 768]    ┆ f32      │\n",
       "╞═══════════╪═══════════╪═══════════╪═══════════╪═══╪═══════════╪═══════════╪═══════════╪══════════╡\n",
       "│ comment   ┆ 2024-01-3 ┆ kk959ov   ┆ t1_kk959o ┆ … ┆ 1aenui0   ┆ What does ┆ [-0.01234 ┆ 0.180064 │\n",
       "│           ┆ 0T08:17:2 ┆           ┆ v         ┆   ┆           ┆ this mean ┆ 9, -0.014 ┆          │\n",
       "│           ┆ 8         ┆           ┆           ┆   ┆           ┆ exactly?  ┆ 472, …    ┆          │\n",
       "│           ┆           ┆           ┆           ┆   ┆           ┆           ┆ 0.02671…  ┆          │\n",
       "│ comment   ┆ 2023-03-1 ┆ jbzbstn   ┆ t1_jbzbst ┆ … ┆ 11ns57e   ┆ yes .many ┆ [0.001542 ┆ 0.183029 │\n",
       "│           ┆ 2T17:59:0 ┆           ┆ n         ┆   ┆           ┆ return    ┆ , -0.0410 ┆          │\n",
       "│           ┆ 2         ┆           ┆           ┆   ┆           ┆ after     ┆ 68, …     ┆          │\n",
       "│           ┆           ┆           ┆           ┆   ┆           ┆ weeks .   ┆ -0.01136… ┆          │\n",
       "│ submissio ┆ 2023-10-1 ┆ 174fa8a   ┆ t3_174fa8 ┆ … ┆ null      ┆ Check     ┆ [-0.01038 ┆ 0.184921 │\n",
       "│ n         ┆ 0T03:30:5 ┆           ┆ a         ┆   ┆           ┆ your      ┆ 5, -0.014 ┆          │\n",
       "│           ┆ 5         ┆           ┆           ┆   ┆           ┆ email.    ┆ 085, …    ┆          │\n",
       "│           ┆           ┆           ┆           ┆   ┆           ┆ Not sure  ┆ -0.0034…  ┆          │\n",
       "│           ┆           ┆           ┆           ┆   ┆           ┆ what …    ┆           ┆          │\n",
       "│ comment   ┆ 2023-10-2 ┆ k67ftlm   ┆ t1_k67ftl ┆ … ┆ 17f0ikm   ┆ Which     ┆ [-0.01080 ┆ 0.185719 │\n",
       "│           ┆ 4T00:00:3 ┆           ┆ m         ┆   ┆           ┆ function? ┆ 7,        ┆          │\n",
       "│           ┆ 5         ┆           ┆           ┆   ┆           ┆           ┆ 0.005565, ┆          │\n",
       "│           ┆           ┆           ┆           ┆   ┆           ┆           ┆ …         ┆          │\n",
       "│           ┆           ┆           ┆           ┆   ┆           ┆           ┆ 0.029601… ┆          │\n",
       "│ comment   ┆ 2023-03-1 ┆ jccflhz   ┆ t1_jccflh ┆ … ┆ 11rvzz9   ┆ Which     ┆ [-0.01080 ┆ 0.185719 │\n",
       "│           ┆ 5T16:53:1 ┆           ┆ z         ┆   ┆           ┆ function? ┆ 7,        ┆          │\n",
       "│           ┆ 8         ┆           ┆           ┆   ┆           ┆           ┆ 0.005565, ┆          │\n",
       "│           ┆           ┆           ┆           ┆   ┆           ┆           ┆ …         ┆          │\n",
       "│           ┆           ┆           ┆           ┆   ┆           ┆           ┆ 0.029601… ┆          │\n",
       "│ …         ┆ …         ┆ …         ┆ …         ┆ … ┆ …         ┆ …         ┆ …         ┆ …        │\n",
       "│ comment   ┆ 2023-01-0 ┆ j32l0gu   ┆ t1_j32l0g ┆ … ┆ 103zna6   ┆ Oh good   ┆ [0.020299 ┆ 0.215532 │\n",
       "│           ┆ 5T12:02:4 ┆           ┆ u         ┆   ┆           ┆ question, ┆ , -0.0064 ┆          │\n",
       "│           ┆ 5         ┆           ┆           ┆   ┆           ┆ not sure  ┆ 11, …     ┆          │\n",
       "│           ┆           ┆           ┆           ┆   ┆           ┆ on th…    ┆ -0.01976… ┆          │\n",
       "│ comment   ┆ 2023-03-1 ┆ jc1y38x   ┆ t1_jc1y38 ┆ … ┆ 11q93mp   ┆ Anything  ┆ [-0.00808 ┆ 0.215636 │\n",
       "│           ┆ 3T09:31:4 ┆           ┆ x         ┆   ┆           ┆ of note?  ┆ 8, -0.003 ┆          │\n",
       "│           ┆ 2         ┆           ┆           ┆   ┆           ┆           ┆ 823, …    ┆          │\n",
       "│           ┆           ┆           ┆           ┆   ┆           ┆           ┆ -0.0137…  ┆          │\n",
       "│ comment   ┆ 2023-09-0 ┆ jzlho94   ┆ t1_jzlho9 ┆ … ┆ 16adez5   ┆ Ah got    ┆ [-0.00714 ┆ 0.215964 │\n",
       "│           ┆ 7T19:13:1 ┆           ┆ 4         ┆   ┆           ┆ it.       ┆ 6, -0.015 ┆          │\n",
       "│           ┆ 9         ┆           ┆           ┆   ┆           ┆ Thanks!   ┆ 612, …    ┆          │\n",
       "│           ┆           ┆           ┆           ┆   ┆           ┆           ┆ -0.0449…  ┆          │\n",
       "│ comment   ┆ 2023-01-1 ┆ j4bifa9   ┆ t1_j4bifa ┆ … ┆ 10b0jb5   ┆ All of    ┆ [-0.00614 ┆ 0.216029 │\n",
       "│           ┆ 4T10:12:5 ┆           ┆ 9         ┆   ┆           ┆ the above ┆ 2,        ┆          │\n",
       "│           ┆ 6         ┆           ┆           ┆   ┆           ┆ and more. ┆ 0.003509, ┆          │\n",
       "│           ┆           ┆           ┆           ┆   ┆           ┆           ┆ …         ┆          │\n",
       "│           ┆           ┆           ┆           ┆   ┆           ┆           ┆ -0.03228… ┆          │\n",
       "│ comment   ┆ 2024-01-1 ┆ ki9m23a   ┆ t1_ki9m23 ┆ … ┆ 198ulzx   ┆ Good      ┆ [0.018953 ┆ 0.216197 │\n",
       "│           ┆ 7T06:40:1 ┆           ┆ a         ┆   ┆           ┆ question! ┆ , -0.0048 ┆          │\n",
       "│           ┆ 8         ┆           ┆           ┆   ┆           ┆           ┆ 41, …     ┆          │\n",
       "│           ┆           ┆           ┆           ┆   ┆           ┆           ┆ -0.01179… ┆          │\n",
       "└───────────┴───────────┴───────────┴───────────┴───┴───────────┴───────────┴───────────┴──────────┘"
      ]
     },
     "execution_count": 9,
     "metadata": {},
     "output_type": "execute_result"
    }
   ],
   "source": [
    "query_tool.ask_a_query(\"What kind of results does this query return?\")"
   ]
  },
  {
   "cell_type": "markdown",
   "id": "e36efb79",
   "metadata": {},
   "source": [
    "# Evaluating Results\n",
    "\n",
    "We used a standard set of queries to evaluate how well we were able to retrieve relevant results."
   ]
  },
  {
   "cell_type": "code",
   "execution_count": 10,
   "id": "19816ccf-94cc-46c5-9ef1-d7b9b992ebde",
   "metadata": {},
   "outputs": [
    {
     "data": {
      "text/html": [
       "<div><style>\n",
       ".dataframe > thead > tr,\n",
       ".dataframe > tbody > tr {\n",
       "  text-align: right;\n",
       "  white-space: pre-wrap;\n",
       "}\n",
       "</style>\n",
       "<small>shape: (1_200, 18)</small><table border=\"1\" class=\"dataframe\"><thead><tr><th>aware_post_type</th><th>aware_created_ts</th><th>reddit_id</th><th>reddit_name</th><th>reddit_created_utc</th><th>reddit_author</th><th>reddit_text</th><th>reddit_permalink</th><th>reddit_title</th><th>reddit_url</th><th>reddit_subreddit</th><th>reddit_link_id</th><th>reddit_parent_id</th><th>reddit_submission</th><th>text_chunk</th><th>vector</th><th>_distance</th><th>query_text</th></tr><tr><td>str</td><td>str</td><td>str</td><td>str</td><td>i64</td><td>str</td><td>str</td><td>str</td><td>str</td><td>str</td><td>str</td><td>str</td><td>str</td><td>str</td><td>str</td><td>array[f32, 768]</td><td>f32</td><td>str</td></tr></thead><tbody><tr><td>&quot;comment&quot;</td><td>&quot;2024-03-01T03:…</td><td>&quot;kstqpl1&quot;</td><td>&quot;t1_kstqpl1&quot;</td><td>1709281654</td><td>&quot;Loose_Warthog5…</td><td>&quot;I was just as …</td><td>&quot;/r/GeneralMoto…</td><td>null</td><td>null</td><td>&quot;GeneralMotors&quot;</td><td>&quot;t3_1b34wy3&quot;</td><td>&quot;t1_ksqte2l&quot;</td><td>&quot;1b34wy3&quot;</td><td>&quot;I was just as …</td><td>[-0.01999, 0.007888, … 0.019346]</td><td>0.070577</td><td>&quot;How do General…</td></tr><tr><td>&quot;comment&quot;</td><td>&quot;2023-12-23T23:…</td><td>&quot;kepcb17&quot;</td><td>&quot;t1_kepcb17&quot;</td><td>1703392492</td><td>&quot;noliesheretoda…</td><td>&quot;Im not in IT, …</td><td>&quot;/r/GeneralMoto…</td><td>null</td><td>null</td><td>&quot;GeneralMotors&quot;</td><td>&quot;t3_18plz0u&quot;</td><td>&quot;t1_kepata3&quot;</td><td>&quot;18plz0u&quot;</td><td>&quot;caused by an a…</td><td>[0.003495, -0.006993, … 0.029323]</td><td>0.070585</td><td>&quot;How do General…</td></tr><tr><td>&quot;comment&quot;</td><td>&quot;2024-01-11T13:…</td><td>&quot;khe7ply&quot;</td><td>&quot;t1_khe7ply&quot;</td><td>1704996325</td><td>&quot;TagProNoah&quot;</td><td>&quot;It depends on …</td><td>&quot;/r/GeneralMoto…</td><td>null</td><td>null</td><td>&quot;GeneralMotors&quot;</td><td>&quot;t3_1947fo4&quot;</td><td>&quot;t3_1947fo4&quot;</td><td>&quot;1947fo4&quot;</td><td>&quot;It depends on …</td><td>[0.02223, 0.011951, … 0.0319]</td><td>0.072132</td><td>&quot;How do General…</td></tr><tr><td>&quot;comment&quot;</td><td>&quot;2024-01-06T14:…</td><td>&quot;kgme97k&quot;</td><td>&quot;t1_kgme97k&quot;</td><td>1704568719</td><td>&quot;TheRealActaeus…</td><td>&quot;GM is pushing …</td><td>&quot;/r/GeneralMoto…</td><td>null</td><td>null</td><td>&quot;GeneralMotors&quot;</td><td>&quot;t3_18zorlu&quot;</td><td>&quot;t3_18zorlu&quot;</td><td>&quot;18zorlu&quot;</td><td>&quot;GM is pushing …</td><td>[0.015377, 0.016594, … 0.041821]</td><td>0.074729</td><td>&quot;How do General…</td></tr><tr><td>&quot;comment&quot;</td><td>&quot;2024-01-03T10:…</td><td>&quot;kg4uurn&quot;</td><td>&quot;t1_kg4uurn&quot;</td><td>1704294873</td><td>&quot;AccurateBarnac…</td><td>&quot;Again I’m not …</td><td>&quot;/r/GeneralMoto…</td><td>null</td><td>null</td><td>&quot;GeneralMotors&quot;</td><td>&quot;t3_18x7myx&quot;</td><td>&quot;t3_18x7myx&quot;</td><td>&quot;18x7myx&quot;</td><td>&quot;Again I’m not …</td><td>[0.015673, 0.014669, … 0.022316]</td><td>0.076631</td><td>&quot;How do General…</td></tr><tr><td>&hellip;</td><td>&hellip;</td><td>&hellip;</td><td>&hellip;</td><td>&hellip;</td><td>&hellip;</td><td>&hellip;</td><td>&hellip;</td><td>&hellip;</td><td>&hellip;</td><td>&hellip;</td><td>&hellip;</td><td>&hellip;</td><td>&hellip;</td><td>&hellip;</td><td>&hellip;</td><td>&hellip;</td><td>&hellip;</td></tr><tr><td>&quot;comment&quot;</td><td>&quot;2022-12-10T20:…</td><td>&quot;izqdauc&quot;</td><td>&quot;t1_izqdauc&quot;</td><td>1670722928</td><td>&quot;HoldTacICU&quot;</td><td>&quot;CVS Caremark i…</td><td>&quot;/r/GeneralMoto…</td><td>null</td><td>null</td><td>&quot;GeneralMotors&quot;</td><td>&quot;t3_z983eq&quot;</td><td>&quot;t3_z983eq&quot;</td><td>&quot;z983eq&quot;</td><td>&quot;CVS Caremark i…</td><td>[0.030247, 0.025746, … -0.000005]</td><td>0.185341</td><td>&quot;What do CVS wo…</td></tr><tr><td>&quot;comment&quot;</td><td>&quot;2024-02-16T08:…</td><td>&quot;kqombr1&quot;</td><td>&quot;t1_kqombr1&quot;</td><td>1708090427</td><td>&quot;beautiflywings…</td><td>&quot;Unfortunately,…</td><td>&quot;/r/GeneralMoto…</td><td>null</td><td>null</td><td>&quot;GeneralMotors&quot;</td><td>&quot;t3_1as8df8&quot;</td><td>&quot;t1_kqolkqw&quot;</td><td>&quot;1as8df8&quot;</td><td>&quot;Unfortunately,…</td><td>[0.006657, 0.022748, … 0.002534]</td><td>0.185456</td><td>&quot;What do CVS wo…</td></tr><tr><td>&quot;comment&quot;</td><td>&quot;2024-02-16T19:…</td><td>&quot;kqrmo8a&quot;</td><td>&quot;t1_kqrmo8a&quot;</td><td>1708129173</td><td>&quot;bilog-ang-mund…</td><td>&quot;Case by case b…</td><td>&quot;/r/GeneralMoto…</td><td>null</td><td>null</td><td>&quot;GeneralMotors&quot;</td><td>&quot;t3_1asm1wq&quot;</td><td>&quot;t3_1asm1wq&quot;</td><td>&quot;1asm1wq&quot;</td><td>&quot;Case by case b…</td><td>[-0.010265, -0.02142, … -0.019939]</td><td>0.185828</td><td>&quot;What do CVS wo…</td></tr><tr><td>&quot;comment&quot;</td><td>&quot;2023-03-14T23:…</td><td>&quot;jc92mc6&quot;</td><td>&quot;t1_jc92mc6&quot;</td><td>1678852768</td><td>&quot;EllieSouthwort…</td><td>&quot;His username c…</td><td>&quot;/r/GeneralMoto…</td><td>null</td><td>null</td><td>&quot;GeneralMotors&quot;</td><td>&quot;t3_11ris46&quot;</td><td>&quot;t1_jc8zjn0&quot;</td><td>&quot;11ris46&quot;</td><td>&quot;His username c…</td><td>[0.03201, 0.009154, … -0.014161]</td><td>0.185842</td><td>&quot;What do CVS wo…</td></tr><tr><td>&quot;comment&quot;</td><td>&quot;2024-02-17T12:…</td><td>&quot;kqv7c2g&quot;</td><td>&quot;t1_kqv7c2g&quot;</td><td>1708191468</td><td>&quot;One_Artichoke_…</td><td>&quot;They wouldn&#x27;t …</td><td>&quot;/r/GeneralMoto…</td><td>null</td><td>null</td><td>&quot;GeneralMotors&quot;</td><td>&quot;t3_1asm1wq&quot;</td><td>&quot;t1_kqv5ctj&quot;</td><td>&quot;1asm1wq&quot;</td><td>&quot;They wouldn&#x27;t …</td><td>[0.013936, 0.000334, … 0.003201]</td><td>0.185854</td><td>&quot;What do CVS wo…</td></tr></tbody></table></div>"
      ],
      "text/plain": [
       "shape: (1_200, 18)\n",
       "┌───────────┬───────────┬───────────┬───────────┬───┬───────────┬───────────┬───────────┬──────────┐\n",
       "│ aware_pos ┆ aware_cre ┆ reddit_id ┆ reddit_na ┆ … ┆ text_chun ┆ vector    ┆ _distance ┆ query_te │\n",
       "│ t_type    ┆ ated_ts   ┆ ---       ┆ me        ┆   ┆ k         ┆ ---       ┆ ---       ┆ xt       │\n",
       "│ ---       ┆ ---       ┆ str       ┆ ---       ┆   ┆ ---       ┆ array[f32 ┆ f32       ┆ ---      │\n",
       "│ str       ┆ str       ┆           ┆ str       ┆   ┆ str       ┆ , 768]    ┆           ┆ str      │\n",
       "╞═══════════╪═══════════╪═══════════╪═══════════╪═══╪═══════════╪═══════════╪═══════════╪══════════╡\n",
       "│ comment   ┆ 2024-03-0 ┆ kstqpl1   ┆ t1_kstqpl ┆ … ┆ I was     ┆ [-0.01999 ┆ 0.070577  ┆ How do   │\n",
       "│           ┆ 1T03:27:3 ┆           ┆ 1         ┆   ┆ just as   ┆ ,         ┆           ┆ General  │\n",
       "│           ┆ 4         ┆           ┆           ┆   ┆ upset     ┆ 0.007888, ┆           ┆ Motors   │\n",
       "│           ┆           ┆           ┆           ┆   ┆ about RTO ┆ …         ┆           ┆ employee │\n",
       "│           ┆           ┆           ┆           ┆   ┆ as…       ┆ 0.019346] ┆           ┆ s …      │\n",
       "│ comment   ┆ 2023-12-2 ┆ kepcb17   ┆ t1_kepcb1 ┆ … ┆ caused by ┆ [0.003495 ┆ 0.070585  ┆ How do   │\n",
       "│           ┆ 3T23:34:5 ┆           ┆ 7         ┆   ┆ an        ┆ , -0.0069 ┆           ┆ General  │\n",
       "│           ┆ 2         ┆           ┆           ┆   ┆ amazing   ┆ 93, …     ┆           ┆ Motors   │\n",
       "│           ┆           ┆           ┆           ┆   ┆ adjustmen ┆ 0.029323… ┆           ┆ employee │\n",
       "│           ┆           ┆           ┆           ┆   ┆ t …       ┆           ┆           ┆ s …      │\n",
       "│ comment   ┆ 2024-01-1 ┆ khe7ply   ┆ t1_khe7pl ┆ … ┆ It        ┆ [0.02223, ┆ 0.072132  ┆ How do   │\n",
       "│           ┆ 1T13:05:2 ┆           ┆ y         ┆   ┆ depends   ┆ 0.011951, ┆           ┆ General  │\n",
       "│           ┆ 5         ┆           ┆           ┆   ┆ on your   ┆ … 0.0319] ┆           ┆ Motors   │\n",
       "│           ┆           ┆           ┆           ┆   ┆ team, but ┆           ┆           ┆ employee │\n",
       "│           ┆           ┆           ┆           ┆   ┆ GM …      ┆           ┆           ┆ s …      │\n",
       "│ comment   ┆ 2024-01-0 ┆ kgme97k   ┆ t1_kgme97 ┆ … ┆ GM is     ┆ [0.015377 ┆ 0.074729  ┆ How do   │\n",
       "│           ┆ 6T14:18:3 ┆           ┆ k         ┆   ┆ pushing   ┆ ,         ┆           ┆ General  │\n",
       "│           ┆ 9         ┆           ┆           ┆   ┆ RTO.      ┆ 0.016594, ┆           ┆ Motors   │\n",
       "│           ┆           ┆           ┆           ┆   ┆ Don’t     ┆ …         ┆           ┆ employee │\n",
       "│           ┆           ┆           ┆           ┆   ┆ take a …  ┆ 0.041821] ┆           ┆ s …      │\n",
       "│ comment   ┆ 2024-01-0 ┆ kg4uurn   ┆ t1_kg4uur ┆ … ┆ Again I’m ┆ [0.015673 ┆ 0.076631  ┆ How do   │\n",
       "│           ┆ 3T10:14:3 ┆           ┆ n         ┆   ┆ not       ┆ ,         ┆           ┆ General  │\n",
       "│           ┆ 3         ┆           ┆           ┆   ┆ saying    ┆ 0.014669, ┆           ┆ Motors   │\n",
       "│           ┆           ┆           ┆           ┆   ┆ “don’t    ┆ …         ┆           ┆ employee │\n",
       "│           ┆           ┆           ┆           ┆   ┆ voic…     ┆ 0.022316] ┆           ┆ s …      │\n",
       "│ …         ┆ …         ┆ …         ┆ …         ┆ … ┆ …         ┆ …         ┆ …         ┆ …        │\n",
       "│ comment   ┆ 2022-12-1 ┆ izqdauc   ┆ t1_izqdau ┆ … ┆ CVS       ┆ [0.030247 ┆ 0.185341  ┆ What do  │\n",
       "│           ┆ 0T20:42:0 ┆           ┆ c         ┆   ┆ Caremark  ┆ ,         ┆           ┆ CVS      │\n",
       "│           ┆ 8         ┆           ┆           ┆   ┆ is the    ┆ 0.025746, ┆           ┆ workers  │\n",
       "│           ┆           ┆           ┆           ┆   ┆ pharmacy  ┆ … -0.0000 ┆           ┆ do if    │\n",
       "│           ┆           ┆           ┆           ┆   ┆ ben…      ┆ 05…       ┆           ┆ they n…  │\n",
       "│ comment   ┆ 2024-02-1 ┆ kqombr1   ┆ t1_kqombr ┆ … ┆ Unfortuna ┆ [0.006657 ┆ 0.185456  ┆ What do  │\n",
       "│           ┆ 6T08:33:4 ┆           ┆ 1         ┆   ┆ tely,     ┆ ,         ┆           ┆ CVS      │\n",
       "│           ┆ 7         ┆           ┆           ┆   ┆ they      ┆ 0.022748, ┆           ┆ workers  │\n",
       "│           ┆           ┆           ┆           ┆   ┆ might say ┆ …         ┆           ┆ do if    │\n",
       "│           ┆           ┆           ┆           ┆   ┆ so…       ┆ 0.002534] ┆           ┆ they n…  │\n",
       "│ comment   ┆ 2024-02-1 ┆ kqrmo8a   ┆ t1_kqrmo8 ┆ … ┆ Case by   ┆ [-0.01026 ┆ 0.185828  ┆ What do  │\n",
       "│           ┆ 6T19:19:3 ┆           ┆ a         ┆   ┆ case      ┆ 5,        ┆           ┆ CVS      │\n",
       "│           ┆ 3         ┆           ┆           ┆   ┆ basis.    ┆ -0.02142, ┆           ┆ workers  │\n",
       "│           ┆           ┆           ┆           ┆   ┆ Usually   ┆ …         ┆           ┆ do if    │\n",
       "│           ┆           ┆           ┆           ┆   ┆ you …     ┆ -0.01993… ┆           ┆ they n…  │\n",
       "│ comment   ┆ 2023-03-1 ┆ jc92mc6   ┆ t1_jc92mc ┆ … ┆ His       ┆ [0.03201, ┆ 0.185842  ┆ What do  │\n",
       "│           ┆ 4T23:59:2 ┆           ┆ 6         ┆   ┆ username  ┆ 0.009154, ┆           ┆ CVS      │\n",
       "│           ┆ 8         ┆           ┆           ┆   ┆ checks    ┆ … -0.0141 ┆           ┆ workers  │\n",
       "│           ┆           ┆           ┆           ┆   ┆ out…      ┆ 61]       ┆           ┆ do if    │\n",
       "│           ┆           ┆           ┆           ┆   ┆ Driver…   ┆           ┆           ┆ they n…  │\n",
       "│ comment   ┆ 2024-02-1 ┆ kqv7c2g   ┆ t1_kqv7c2 ┆ … ┆ They      ┆ [0.013936 ┆ 0.185854  ┆ What do  │\n",
       "│           ┆ 7T12:37:4 ┆           ┆ g         ┆   ┆ wouldn't  ┆ ,         ┆           ┆ CVS      │\n",
       "│           ┆ 8         ┆           ┆           ┆   ┆ know you  ┆ 0.000334, ┆           ┆ workers  │\n",
       "│           ┆           ┆           ┆           ┆   ┆ need      ┆ …         ┆           ┆ do if    │\n",
       "│           ┆           ┆           ┆           ┆   ┆ extr…     ┆ 0.003201] ┆           ┆ they n…  │\n",
       "└───────────┴───────────┴───────────┴───────────┴───┴───────────┴───────────┴───────────┴──────────┘"
      ]
     },
     "execution_count": 10,
     "metadata": {},
     "output_type": "execute_result"
    }
   ],
   "source": [
    "query_tool.ask_standard_queries()"
   ]
  },
  {
   "cell_type": "markdown",
   "id": "4f37f0c1",
   "metadata": {},
   "source": [
    "Then, you can load the results into a scoring tool, to compute the scores for those results."
   ]
  },
  {
   "cell_type": "code",
   "execution_count": 3,
   "id": "b7c76515-3aef-41c0-8148-bfaff861ab6c",
   "metadata": {
    "editable": true,
    "slideshow": {
     "slide_type": ""
    },
    "tags": []
   },
   "outputs": [],
   "source": [
    "## Initialize the scoring tool\n",
    "score_tool = paware.PawScores(\n",
    "    RESULTS_FILE_PATH=\"../temp_query_data/queries_demo01query_demo.parquet\"\n",
    ")\n",
    "\n",
    "## Compute the scores\n",
    "score_tool.compute_mext_rr_scores()\n",
    "score_tool.compute_rr_scores()\n",
    "score_tool.compute_dcg_scores()\n"
   ]
  },
  {
   "cell_type": "code",
   "execution_count": 4,
   "id": "2144e65c",
   "metadata": {},
   "outputs": [
    {
     "data": {
      "text/plain": [
       "{'How do FedEx employees feel about route cuts?': 0.0,\n",
       " 'Do Kraken employees see themselves staying at the company for the long term?': 0.0,\n",
       " 'What causes bank employees the most stress at work?': 0.0,\n",
       " 'When should you apply for a promotion at GM?': 0.4236425339366516,\n",
       " 'What benefits do Chase employees value most?': 0.0,\n",
       " 'What does a typical day look like when working for GameStop?': 0.0,\n",
       " 'How do UPS employees feel about route cuts?': 0.0,\n",
       " 'How much does a driver make with UPS?': 0.0,\n",
       " 'How do Whole Foods workers feel about store managers?': 0.0,\n",
       " 'How long is a typical UPS shift? OR Should I work a double shift at UPS?': 0.0,\n",
       " 'How often do you get a raise at Lowes?': 0.0,\n",
       " 'What do Kraken employees find frustrating in their day to day work?': 0,\n",
       " 'What kind of benefits does GM offer?': 0.7651515151515151,\n",
       " 'Does your schedule get changed often at Lowes?': 0.0,\n",
       " 'What are some reasons that bank employees quit their jobs?': 0.0,\n",
       " 'Is it better to work at fedex express or fedex ground?': 0.0,\n",
       " 'What do CVS workers do if they notice theft?': 0.0,\n",
       " 'How do General Motors employees feel about RTO?': 0.5843406593406594,\n",
       " 'Do Chase employees see opportunities for promotion and professional growth at the company?': 0.0,\n",
       " 'Do Fidelity employees want to work remotely?': 0.0,\n",
       " 'What is your favorite thing about working for Starbucks?': 0.0,\n",
       " 'Does Starbucks pay overtime?': 0.0,\n",
       " 'What job perks for Whole Foods employees value most?': 0.0,\n",
       " 'What is the worst drink to make for Starbucks baristas?': 0.0,\n",
       " 'Do CVS employees feel safe at work?': 0.0,\n",
       " 'Do GameStop employees feel valued by the company?': 0.0}"
      ]
     },
     "execution_count": 4,
     "metadata": {},
     "output_type": "execute_result"
    }
   ],
   "source": [
    "score_tool.get_mext_rr_scores()"
   ]
  },
  {
   "cell_type": "code",
   "execution_count": 5,
   "id": "89845ce8-6bbc-4c0a-8f1d-1ee5fc70af3f",
   "metadata": {
    "editable": true,
    "slideshow": {
     "slide_type": ""
    },
    "tags": []
   },
   "outputs": [
    {
     "data": {
      "text/plain": [
       "{'How do FedEx employees feel about route cuts?': 0,\n",
       " 'Do Kraken employees see themselves staying at the company for the long term?': 0,\n",
       " 'What causes bank employees the most stress at work?': 0,\n",
       " 'When should you apply for a promotion at GM?': 1.0,\n",
       " 'What benefits do Chase employees value most?': 0,\n",
       " 'What does a typical day look like when working for GameStop?': 0,\n",
       " 'How do UPS employees feel about route cuts?': 0,\n",
       " 'How much does a driver make with UPS?': 0,\n",
       " 'How do Whole Foods workers feel about store managers?': 0,\n",
       " 'How long is a typical UPS shift? OR Should I work a double shift at UPS?': 0,\n",
       " 'How often do you get a raise at Lowes?': 0,\n",
       " 'What do Kraken employees find frustrating in their day to day work?': 0,\n",
       " 'What kind of benefits does GM offer?': 1.0,\n",
       " 'Does your schedule get changed often at Lowes?': 0,\n",
       " 'What are some reasons that bank employees quit their jobs?': 0,\n",
       " 'Is it better to work at fedex express or fedex ground?': 0,\n",
       " 'What do CVS workers do if they notice theft?': 0,\n",
       " 'How do General Motors employees feel about RTO?': 1.0,\n",
       " 'Do Chase employees see opportunities for promotion and professional growth at the company?': 0,\n",
       " 'Do Fidelity employees want to work remotely?': 0,\n",
       " 'What is your favorite thing about working for Starbucks?': 0,\n",
       " 'Does Starbucks pay overtime?': 0,\n",
       " 'What job perks for Whole Foods employees value most?': 0,\n",
       " 'What is the worst drink to make for Starbucks baristas?': 0,\n",
       " 'Do CVS employees feel safe at work?': 0,\n",
       " 'Do GameStop employees feel valued by the company?': 0}"
      ]
     },
     "execution_count": 5,
     "metadata": {},
     "output_type": "execute_result"
    }
   ],
   "source": [
    "score_tool.get_rr_scores()"
   ]
  },
  {
   "cell_type": "code",
   "execution_count": 6,
   "id": "68d5aa36-6216-45bc-86e6-35ac9fc5431b",
   "metadata": {},
   "outputs": [
    {
     "data": {
      "text/plain": [
       "{}"
      ]
     },
     "execution_count": 6,
     "metadata": {},
     "output_type": "execute_result"
    }
   ],
   "source": [
    "score_tool.get_dcg_scores()"
   ]
  },
  {
   "cell_type": "code",
   "execution_count": null,
   "id": "83c86234",
   "metadata": {},
   "outputs": [],
   "source": []
  }
 ],
 "metadata": {
  "kernelspec": {
   "display_name": "aware",
   "language": "python",
   "name": "python3"
  },
  "language_info": {
   "codemirror_mode": {
    "name": "ipython",
    "version": 3
   },
   "file_extension": ".py",
   "mimetype": "text/x-python",
   "name": "python",
   "nbconvert_exporter": "python",
   "pygments_lexer": "ipython3",
   "version": "3.11.8"
  }
 },
 "nbformat": 4,
 "nbformat_minor": 5
}
