{
 "cells": [
  {
   "cell_type": "markdown",
   "metadata": {},
   "source": [
    "# Sentiment Analysis Notebook"
   ]
  },
  {
   "cell_type": "code",
   "execution_count": null,
   "metadata": {},
   "outputs": [],
   "source": [
    "import polars as pl\n",
    "import numpy as np\n",
    "\n",
    "import sys\n",
    "sys.path.append(\"../src/\")\n",
    "\n",
    "from adding_metadata import replies, reply_sentiments\n",
    "\n",
    "import polars as pl\n",
    "\n",
    "## Load the data\n",
    "df = pl.read_parquet(\"../../reddit_subset_gm.parquet\")\n",
    "\n",
    "## Add the reply list\n",
    "df = replies.add_reply_list(df)\n",
    "\n",
    "## Add the reply sentiments \n",
    "df = reply_sentiments.add_reply_sentiments(df)\n"
   ]
  },
  {
   "cell_type": "code",
   "execution_count": null,
   "metadata": {},
   "outputs": [],
   "source": [
    "df = reply_sentiments.add_text_sentiment(df)"
   ]
  }
 ],
 "metadata": {
  "kernelspec": {
   "display_name": "ml",
   "language": "python",
   "name": "python3"
  },
  "language_info": {
   "codemirror_mode": {
    "name": "ipython",
    "version": 3
   },
   "file_extension": ".py",
   "mimetype": "text/x-python",
   "name": "python",
   "nbconvert_exporter": "python",
   "pygments_lexer": "ipython3",
   "version": "3.11.5"
  }
 },
 "nbformat": 4,
 "nbformat_minor": 2
}
