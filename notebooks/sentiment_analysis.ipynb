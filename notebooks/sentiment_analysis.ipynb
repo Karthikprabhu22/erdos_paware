{
 "cells": [
  {
   "cell_type": "markdown",
   "metadata": {},
   "source": [
    "# Sentiment Analysis Notebook"
   ]
  },
  {
   "cell_type": "code",
   "execution_count": 1,
   "metadata": {},
   "outputs": [],
   "source": [
    "import polars as pl\n",
    "import numpy as np\n",
    "\n",
    "import sys\n",
    "sys.path.append(\"../src/\")\n",
    "\n",
    "from adding_metadata import replies, reply_sentiments\n",
    "\n",
    "import polars as pl\n",
    "\n",
    "## Load the data\n",
    "df = pl.read_parquet(\"../../reddit_subset_gm.parquet\")\n",
    "#df = df[:int(len(df)/50)]\n",
    "\n",
    "## Add the reply list\n",
    "df = replies.add_reply_list(df)"
   ]
  },
  {
   "cell_type": "code",
   "execution_count": 2,
   "metadata": {},
   "outputs": [
    {
     "data": {
      "application/vnd.jupyter.widget-view+json": {
       "model_id": "e61bf457bb1b41e6a5b7239881c910be",
       "version_major": 2,
       "version_minor": 0
      },
      "text/plain": [
       "Map:   0%|          | 0/745 [00:00<?, ? examples/s]"
      ]
     },
     "metadata": {},
     "output_type": "display_data"
    }
   ],
   "source": [
    "df = reply_sentiments.add_text_and_summed_sentiments(df)"
   ]
  },
  {
   "cell_type": "code",
   "execution_count": null,
   "metadata": {},
   "outputs": [
    {
     "data": {
      "text/html": [
       "<div><style>\n",
       ".dataframe > thead > tr,\n",
       ".dataframe > tbody > tr {\n",
       "  text-align: right;\n",
       "  white-space: pre-wrap;\n",
       "}\n",
       "</style>\n",
       "<small>shape: (745, 18)</small><table border=\"1\" class=\"dataframe\"><thead><tr><th>aware_post_type</th><th>aware_created_ts</th><th>reddit_id</th><th>reddit_name</th><th>reddit_created_utc</th><th>reddit_author</th><th>reddit_text</th><th>reddit_permalink</th><th>reddit_title</th><th>reddit_url</th><th>reddit_subreddit</th><th>reddit_link_id</th><th>reddit_parent_id</th><th>reddit_submission</th><th>__index_level_0__</th><th>reply_ids</th><th>text_sentiment</th><th>summed_sentiments</th></tr><tr><td>str</td><td>str</td><td>str</td><td>str</td><td>i64</td><td>str</td><td>str</td><td>str</td><td>str</td><td>str</td><td>str</td><td>str</td><td>str</td><td>str</td><td>i64</td><td>list[str]</td><td>i64</td><td>i64</td></tr></thead><tbody><tr><td>&quot;submission&quot;</td><td>&quot;2024-01-05T10:…</td><td>&quot;18z96ud&quot;</td><td>&quot;t3_18z96ud&quot;</td><td>1704467742</td><td>&quot;Jmill2000&quot;</td><td>&quot;So I know GM m…</td><td>&quot;/r/GeneralMoto…</td><td>&quot;References&quot;</td><td>&quot;https://www.re…</td><td>&quot;GeneralMotors&quot;</td><td>null</td><td>null</td><td>null</td><td>4355656</td><td>[&quot;t1_kgfznkx&quot;, &quot;t1_kgg05vt&quot;]</td><td>-1</td><td>-2</td></tr><tr><td>&quot;comment&quot;</td><td>&quot;2024-01-05T10:…</td><td>&quot;kgfznkx&quot;</td><td>&quot;t1_kgfznkx&quot;</td><td>1704468972</td><td>&quot;warwolf0&quot;</td><td>&quot;Yea, that’s a …</td><td>&quot;/r/GeneralMoto…</td><td>null</td><td>null</td><td>&quot;GeneralMotors&quot;</td><td>&quot;t3_18z96ud&quot;</td><td>&quot;t3_18z96ud&quot;</td><td>&quot;18z96ud&quot;</td><td>4355657</td><td>null</td><td>-1</td><td>0</td></tr><tr><td>&quot;comment&quot;</td><td>&quot;2024-01-05T10:…</td><td>&quot;kgg05vt&quot;</td><td>&quot;t1_kgg05vt&quot;</td><td>1704469154</td><td>&quot;tossedawaytheq…</td><td>&quot;Search Socrate…</td><td>&quot;/r/GeneralMoto…</td><td>null</td><td>null</td><td>&quot;GeneralMotors&quot;</td><td>&quot;t3_18z96ud&quot;</td><td>&quot;t3_18z96ud&quot;</td><td>&quot;18z96ud&quot;</td><td>4355658</td><td>[&quot;t1_kgg0rjf&quot;, &quot;t1_kgg79j0&quot;]</td><td>-1</td><td>-2</td></tr><tr><td>&quot;comment&quot;</td><td>&quot;2024-01-05T10:…</td><td>&quot;kgg0rjf&quot;</td><td>&quot;t1_kgg0rjf&quot;</td><td>1704469370</td><td>&quot;Ripinpasta69&quot;</td><td>&quot;Only works if …</td><td>&quot;/r/GeneralMoto…</td><td>null</td><td>null</td><td>&quot;GeneralMotors&quot;</td><td>&quot;t3_18z96ud&quot;</td><td>&quot;t1_kgg05vt&quot;</td><td>&quot;18z96ud&quot;</td><td>4355659</td><td>null</td><td>-1</td><td>0</td></tr><tr><td>&quot;comment&quot;</td><td>&quot;2024-01-05T11:…</td><td>&quot;kgg79j0&quot;</td><td>&quot;t1_kgg79j0&quot;</td><td>1704471652</td><td>&quot;Jmill2000&quot;</td><td>&quot;Gotcha, thanks…</td><td>&quot;/r/GeneralMoto…</td><td>null</td><td>null</td><td>&quot;GeneralMotors&quot;</td><td>&quot;t3_18z96ud&quot;</td><td>&quot;t1_kgg05vt&quot;</td><td>&quot;18z96ud&quot;</td><td>4355660</td><td>null</td><td>-1</td><td>0</td></tr><tr><td>&hellip;</td><td>&hellip;</td><td>&hellip;</td><td>&hellip;</td><td>&hellip;</td><td>&hellip;</td><td>&hellip;</td><td>&hellip;</td><td>&hellip;</td><td>&hellip;</td><td>&hellip;</td><td>&hellip;</td><td>&hellip;</td><td>&hellip;</td><td>&hellip;</td><td>&hellip;</td><td>&hellip;</td><td>&hellip;</td></tr><tr><td>&quot;comment&quot;</td><td>&quot;2024-01-03T07:…</td><td>&quot;kg492d4&quot;</td><td>&quot;t1_kg492d4&quot;</td><td>1704284861</td><td>&quot;jkpop4700&quot;</td><td>&quot;Is it by rule?…</td><td>&quot;/r/GeneralMoto…</td><td>null</td><td>null</td><td>&quot;GeneralMotors&quot;</td><td>&quot;t3_18wwkex&quot;</td><td>&quot;t1_kg18gq3&quot;</td><td>&quot;18wwkex&quot;</td><td>4356396</td><td>null</td><td>-1</td><td>0</td></tr><tr><td>&quot;comment&quot;</td><td>&quot;2024-01-02T18:…</td><td>&quot;kg1o9nm&quot;</td><td>&quot;t1_kg1o9nm&quot;</td><td>1704236677</td><td>&quot;Glittering_Ad_…</td><td>&quot;In a world whe…</td><td>&quot;/r/GeneralMoto…</td><td>null</td><td>null</td><td>&quot;GeneralMotors&quot;</td><td>&quot;t3_18wwkex&quot;</td><td>&quot;t1_kg18gq3&quot;</td><td>&quot;18wwkex&quot;</td><td>4356397</td><td>null</td><td>-1</td><td>0</td></tr><tr><td>&quot;comment&quot;</td><td>&quot;2024-01-03T11:…</td><td>&quot;kg593sm&quot;</td><td>&quot;t1_kg593sm&quot;</td><td>1704300143</td><td>&quot;dougie1091&quot;</td><td>&quot;There is that …</td><td>&quot;/r/GeneralMoto…</td><td>null</td><td>null</td><td>&quot;GeneralMotors&quot;</td><td>&quot;t3_18wwkex&quot;</td><td>&quot;t1_kg2w3vx&quot;</td><td>&quot;18wwkex&quot;</td><td>4356398</td><td>null</td><td>-1</td><td>0</td></tr><tr><td>&quot;comment&quot;</td><td>&quot;2024-01-02T20:…</td><td>&quot;kg26vnq&quot;</td><td>&quot;t1_kg26vnq&quot;</td><td>1704243752</td><td>&quot;HeroDev0473&quot;</td><td>&quot;Wow....&quot;</td><td>&quot;/r/GeneralMoto…</td><td>null</td><td>null</td><td>&quot;GeneralMotors&quot;</td><td>&quot;t3_18wwkex&quot;</td><td>&quot;t1_kg1ehvs&quot;</td><td>&quot;18wwkex&quot;</td><td>4356399</td><td>null</td><td>-1</td><td>0</td></tr><tr><td>&quot;comment&quot;</td><td>&quot;2024-01-02T20:…</td><td>&quot;kg277np&quot;</td><td>&quot;t1_kg277np&quot;</td><td>1704243879</td><td>&quot;HeroDev0473&quot;</td><td>&quot;💯%&quot;</td><td>&quot;/r/GeneralMoto…</td><td>null</td><td>null</td><td>&quot;GeneralMotors&quot;</td><td>&quot;t3_18wwkex&quot;</td><td>&quot;t1_kg1ocey&quot;</td><td>&quot;18wwkex&quot;</td><td>4356400</td><td>null</td><td>-1</td><td>0</td></tr></tbody></table></div>"
      ],
      "text/plain": [
       "shape: (745, 18)\n",
       "┌───────────┬───────────┬───────────┬───────────┬───┬───────────┬───────────┬───────────┬──────────┐\n",
       "│ aware_pos ┆ aware_cre ┆ reddit_id ┆ reddit_na ┆ … ┆ __index_l ┆ reply_ids ┆ text_sent ┆ summed_s │\n",
       "│ t_type    ┆ ated_ts   ┆ ---       ┆ me        ┆   ┆ evel_0__  ┆ ---       ┆ iment     ┆ entiment │\n",
       "│ ---       ┆ ---       ┆ str       ┆ ---       ┆   ┆ ---       ┆ list[str] ┆ ---       ┆ s        │\n",
       "│ str       ┆ str       ┆           ┆ str       ┆   ┆ i64       ┆           ┆ i64       ┆ ---      │\n",
       "│           ┆           ┆           ┆           ┆   ┆           ┆           ┆           ┆ i64      │\n",
       "╞═══════════╪═══════════╪═══════════╪═══════════╪═══╪═══════════╪═══════════╪═══════════╪══════════╡\n",
       "│ submissio ┆ 2024-01-0 ┆ 18z96ud   ┆ t3_18z96u ┆ … ┆ 4355656   ┆ [\"t1_kgfz ┆ -1        ┆ -2       │\n",
       "│ n         ┆ 5T10:15:4 ┆           ┆ d         ┆   ┆           ┆ nkx\", \"t1 ┆           ┆          │\n",
       "│           ┆ 2         ┆           ┆           ┆   ┆           ┆ _kgg05vt\" ┆           ┆          │\n",
       "│           ┆           ┆           ┆           ┆   ┆           ┆ ]         ┆           ┆          │\n",
       "│ comment   ┆ 2024-01-0 ┆ kgfznkx   ┆ t1_kgfznk ┆ … ┆ 4355657   ┆ null      ┆ -1        ┆ 0        │\n",
       "│           ┆ 5T10:36:1 ┆           ┆ x         ┆   ┆           ┆           ┆           ┆          │\n",
       "│           ┆ 2         ┆           ┆           ┆   ┆           ┆           ┆           ┆          │\n",
       "│ comment   ┆ 2024-01-0 ┆ kgg05vt   ┆ t1_kgg05v ┆ … ┆ 4355658   ┆ [\"t1_kgg0 ┆ -1        ┆ -2       │\n",
       "│           ┆ 5T10:39:1 ┆           ┆ t         ┆   ┆           ┆ rjf\", \"t1 ┆           ┆          │\n",
       "│           ┆ 4         ┆           ┆           ┆   ┆           ┆ _kgg79j0\" ┆           ┆          │\n",
       "│           ┆           ┆           ┆           ┆   ┆           ┆ ]         ┆           ┆          │\n",
       "│ comment   ┆ 2024-01-0 ┆ kgg0rjf   ┆ t1_kgg0rj ┆ … ┆ 4355659   ┆ null      ┆ -1        ┆ 0        │\n",
       "│           ┆ 5T10:42:5 ┆           ┆ f         ┆   ┆           ┆           ┆           ┆          │\n",
       "│           ┆ 0         ┆           ┆           ┆   ┆           ┆           ┆           ┆          │\n",
       "│ comment   ┆ 2024-01-0 ┆ kgg79j0   ┆ t1_kgg79j ┆ … ┆ 4355660   ┆ null      ┆ -1        ┆ 0        │\n",
       "│           ┆ 5T11:20:5 ┆           ┆ 0         ┆   ┆           ┆           ┆           ┆          │\n",
       "│           ┆ 2         ┆           ┆           ┆   ┆           ┆           ┆           ┆          │\n",
       "│ …         ┆ …         ┆ …         ┆ …         ┆ … ┆ …         ┆ …         ┆ …         ┆ …        │\n",
       "│ comment   ┆ 2024-01-0 ┆ kg492d4   ┆ t1_kg492d ┆ … ┆ 4356396   ┆ null      ┆ -1        ┆ 0        │\n",
       "│           ┆ 3T07:27:4 ┆           ┆ 4         ┆   ┆           ┆           ┆           ┆          │\n",
       "│           ┆ 1         ┆           ┆           ┆   ┆           ┆           ┆           ┆          │\n",
       "│ comment   ┆ 2024-01-0 ┆ kg1o9nm   ┆ t1_kg1o9n ┆ … ┆ 4356397   ┆ null      ┆ -1        ┆ 0        │\n",
       "│           ┆ 2T18:04:3 ┆           ┆ m         ┆   ┆           ┆           ┆           ┆          │\n",
       "│           ┆ 7         ┆           ┆           ┆   ┆           ┆           ┆           ┆          │\n",
       "│ comment   ┆ 2024-01-0 ┆ kg593sm   ┆ t1_kg593s ┆ … ┆ 4356398   ┆ null      ┆ -1        ┆ 0        │\n",
       "│           ┆ 3T11:42:2 ┆           ┆ m         ┆   ┆           ┆           ┆           ┆          │\n",
       "│           ┆ 3         ┆           ┆           ┆   ┆           ┆           ┆           ┆          │\n",
       "│ comment   ┆ 2024-01-0 ┆ kg26vnq   ┆ t1_kg26vn ┆ … ┆ 4356399   ┆ null      ┆ -1        ┆ 0        │\n",
       "│           ┆ 2T20:02:3 ┆           ┆ q         ┆   ┆           ┆           ┆           ┆          │\n",
       "│           ┆ 2         ┆           ┆           ┆   ┆           ┆           ┆           ┆          │\n",
       "│ comment   ┆ 2024-01-0 ┆ kg277np   ┆ t1_kg277n ┆ … ┆ 4356400   ┆ null      ┆ -1        ┆ 0        │\n",
       "│           ┆ 2T20:04:3 ┆           ┆ p         ┆   ┆           ┆           ┆           ┆          │\n",
       "│           ┆ 9         ┆           ┆           ┆   ┆           ┆           ┆           ┆          │\n",
       "└───────────┴───────────┴───────────┴───────────┴───┴───────────┴───────────┴───────────┴──────────┘"
      ]
     },
     "execution_count": 3,
     "metadata": {},
     "output_type": "execute_result"
    }
   ],
   "source": [
    "df"
   ]
  },
  {
   "cell_type": "code",
   "execution_count": null,
   "metadata": {},
   "outputs": [
    {
     "name": "stdout",
     "output_type": "stream",
     "text": [
      "Maximum value: 0\n",
      "Minimum value: -115\n"
     ]
    }
   ],
   "source": [
    "max_value = df['summed_sentiments'].max()\n",
    "min_value = df['summed_sentiments'].min()\n",
    "\n",
    "print(\"Maximum value:\", max_value)\n",
    "print(\"Minimum value:\", min_value)\n"
   ]
  },
  {
   "cell_type": "code",
   "execution_count": null,
   "metadata": {},
   "outputs": [],
   "source": []
  }
 ],
 "metadata": {
  "kernelspec": {
   "display_name": "ml",
   "language": "python",
   "name": "python3"
  },
  "language_info": {
   "codemirror_mode": {
    "name": "ipython",
    "version": 3
   },
   "file_extension": ".py",
   "mimetype": "text/x-python",
   "name": "python",
   "nbconvert_exporter": "python",
   "pygments_lexer": "ipython3",
   "version": "3.11.5"
  }
 },
 "nbformat": 4,
 "nbformat_minor": 2
}
